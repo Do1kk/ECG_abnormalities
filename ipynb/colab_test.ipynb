{
  "nbformat": 4,
  "nbformat_minor": 0,
  "metadata": {
    "colab": {
      "name": "colab_test.ipynb",
      "provenance": [],
      "collapsed_sections": []
    },
    "kernelspec": {
      "name": "python3",
      "display_name": "Python 3"
    },
    "accelerator": "GPU"
  },
  "cells": [
    {
      "cell_type": "code",
      "metadata": {
        "id": "xXQIyDoPdD5K",
        "colab_type": "code",
        "outputId": "1d8c52f8-e039-4daa-938e-15d428e7daed",
        "colab": {
          "base_uri": "https://localhost:8080/",
          "height": 73
        }
      },
      "source": [
        "from keras.datasets import mnist\n",
        "\n",
        "#download mnist data and split into train and test sets\n",
        "(X_train, y_train), (X_test, y_test) = mnist.load_data()"
      ],
      "execution_count": 1,
      "outputs": [
        {
          "output_type": "stream",
          "name": "stderr",
          "text": "Using TensorFlow backend.\n"
        }
      ]
    },
    {
      "cell_type": "code",
      "metadata": {
        "id": "56E1XMb9Aaoa",
        "colab_type": "code",
        "colab": {
          "base_uri": "https://localhost:8080/",
          "height": 284
        },
        "outputId": "61f6b29c-af30-400f-c9fb-c4a95313f482"
      },
      "source": [
        "import matplotlib.pyplot as plt\n",
        "\n",
        "#plot the first image in the dataset\n",
        "# plt.imshow(X_train[0])\n",
        "\n",
        "#check image shape\n",
        "# X_train[0].shape"
      ],
      "execution_count": 25,
      "outputs": []
    },
    {
      "cell_type": "code",
      "metadata": {
        "id": "bpjvB-QDA1Kq",
        "colab_type": "code",
        "colab": {}
      },
      "source": [
        "#reshape data to fit model\n",
        "# liczba zdjęć, rozmiar x (zdjęcia), rozmiar y (zdjęcia), liczba kolorów (1 - odcienie szarości)\n",
        "X_train = X_train.reshape(60000,28,28,1)\n",
        "X_test = X_test.reshape(10000,28,28,1)"
      ],
      "execution_count": 3,
      "outputs": []
    },
    {
      "cell_type": "code",
      "metadata": {
        "id": "G4fw6WMIBbvj",
        "colab_type": "code",
        "colab": {
          "base_uri": "https://localhost:8080/",
          "height": 36
        },
        "outputId": "b7924399-9865-457a-a4ad-d52d50aa1934"
      },
      "source": [
        "from keras.utils import to_categorical\n",
        "\n",
        "#one-hot encode target column\n",
        "y_train = to_categorical(y_train)\n",
        "y_test = to_categorical(y_test)\n",
        "\n",
        "y_train[0]"
      ],
      "execution_count": 4,
      "outputs": [
        {
          "output_type": "execute_result",
          "data": {
            "text/plain": "array([0., 0., 0., 0., 0., 1., 0., 0., 0., 0.], dtype=float32)"
          },
          "metadata": {},
          "execution_count": 4
        }
      ]
    },
    {
      "cell_type": "code",
      "metadata": {
        "id": "3CGY0xPHBvBM",
        "colab_type": "code",
        "colab": {}
      },
      "source": [
        "from keras.models import Sequential\n",
        "from keras.layers import Dense, Conv2D, Flatten\n",
        "\n",
        "#create model\n",
        "model = Sequential()\n",
        "\n",
        "#add model layers\n",
        "# 64 - liczba neuronów, kernel_size - maska 3x3,\n",
        "model.add(Conv2D(64, kernel_size=3, activation='relu', input_shape=(28,28,1)))\n",
        "model.add(Conv2D(32, kernel_size=3, activation='relu'))\n",
        "# warstwa łącząca conv2d z warstwą dense\n",
        "model.add(Flatten())\n",
        "# liczba taka ile wyjść, tu 10 liczb (u mnie będzie 6 wyjść bo tyle jest typów)\n",
        "model.add(Dense(10, activation='softmax'))"
      ],
      "execution_count": 5,
      "outputs": []
    },
    {
      "cell_type": "code",
      "metadata": {
        "id": "UCD6DrDnEGiQ",
        "colab_type": "code",
        "colab": {}
      },
      "source": [
        "#compile model using accuracy to measure model performance\n",
        "model.compile(optimizer='adam', loss='categorical_crossentropy', metrics=['accuracy'])"
      ],
      "execution_count": 6,
      "outputs": []
    },
    {
      "cell_type": "code",
      "execution_count": 24,
      "metadata": {},
      "outputs": [
        {
          "output_type": "execute_result",
          "data": {
            "text/plain": "array([[0., 0., 0., ..., 1., 0., 0.],\n       [0., 0., 1., ..., 0., 0., 0.],\n       [0., 1., 0., ..., 0., 0., 0.],\n       ...,\n       [0., 0., 0., ..., 0., 0., 0.],\n       [0., 0., 0., ..., 0., 0., 0.],\n       [0., 0., 0., ..., 0., 0., 0.]], dtype=float32)"
          },
          "metadata": {},
          "execution_count": 24
        }
      ],
      "source": [
        "# sprawdzanie danych\n",
        "import numpy as np\n",
        "# x = np.reshape(y_test[0], (28, 28))\n",
        "y_test\n",
        ""
      ]
    },
    {
      "cell_type": "code",
      "metadata": {
        "id": "4VvZ09adEZ1a",
        "colab_type": "code",
        "colab": {
          "base_uri": "https://localhost:8080/",
          "height": 167
        },
        "outputId": "af9e565b-91a8-4ef4-c2a0-2b8c7381cd93"
      },
      "source": [
        "#train the model\n",
        "model.fit(X_train, y_train, validation_data=(X_test, y_test), epochs=3)"
      ],
      "execution_count": 7,
      "outputs": [
        {
          "output_type": "stream",
          "name": "stdout",
          "text": "Train on 60000 samples, validate on 10000 samples\nEpoch 1/3\n60000/60000 [==============================] - 195s 3ms/step - loss: 0.2718 - accuracy: 0.9499 - val_loss: 0.1050 - val_accuracy: 0.9708\nEpoch 2/3\n60000/60000 [==============================] - 171s 3ms/step - loss: 0.0729 - accuracy: 0.9774 - val_loss: 0.0896 - val_accuracy: 0.9742\nEpoch 3/3\n60000/60000 [==============================] - 165s 3ms/step - loss: 0.0471 - accuracy: 0.9856 - val_loss: 0.0841 - val_accuracy: 0.9756\n"
        },
        {
          "output_type": "execute_result",
          "data": {
            "text/plain": "<keras.callbacks.callbacks.History at 0x14a58e9d1d0>"
          },
          "metadata": {},
          "execution_count": 7
        }
      ]
    },
    {
      "cell_type": "code",
      "metadata": {
        "id": "dIldnNocFDH5",
        "colab_type": "code",
        "colab": {
          "base_uri": "https://localhost:8080/",
          "height": 242
        },
        "outputId": "d5a25a67-54f8-4ec1-9276-f3668167db61"
      },
      "source": [
        "#predict first 4 images in the test set\n",
        "model.predict(X_test[:4])"
      ],
      "execution_count": 8,
      "outputs": [
        {
          "output_type": "execute_result",
          "data": {
            "text/plain": "array([[1.1848853e-08, 2.2700432e-14, 3.0765887e-07, 5.9313885e-07,\n        3.1385985e-12, 2.9493644e-11, 2.9017685e-14, 9.9999893e-01,\n        6.1579264e-08, 1.9135035e-08],\n       [4.6868930e-08, 1.1041980e-09, 9.9999702e-01, 2.1850438e-08,\n        2.4930513e-13, 1.2050764e-12, 2.9741175e-06, 1.5546831e-11,\n        1.4963981e-09, 3.7647618e-11],\n       [1.9280762e-06, 9.9916220e-01, 2.4116483e-05, 2.8898270e-07,\n        4.6397072e-05, 2.5331095e-05, 1.4011457e-05, 8.6875201e-07,\n        7.2493491e-04, 8.0218179e-09],\n       [9.9976331e-01, 1.1037893e-11, 1.4737496e-05, 9.2565267e-10,\n        1.1407944e-08, 9.8032116e-09, 2.0496795e-04, 1.5067270e-09,\n        1.3802621e-07, 1.6803227e-05]], dtype=float32)"
          },
          "metadata": {},
          "execution_count": 8
        }
      ]
    },
    {
      "cell_type": "code",
      "metadata": {
        "id": "RSvAIUagFPRp",
        "colab_type": "code",
        "colab": {
          "base_uri": "https://localhost:8080/",
          "height": 92
        },
        "outputId": "ce42fbd5-814f-40ba-c36a-2c3952942b7f"
      },
      "source": [
        "#actual results for first 4 images in test set\n",
        "y_test[:4]"
      ],
      "execution_count": 9,
      "outputs": [
        {
          "output_type": "execute_result",
          "data": {
            "text/plain": "array([[0., 0., 0., 0., 0., 0., 0., 1., 0., 0.],\n       [0., 0., 1., 0., 0., 0., 0., 0., 0., 0.],\n       [0., 1., 0., 0., 0., 0., 0., 0., 0., 0.],\n       [1., 0., 0., 0., 0., 0., 0., 0., 0., 0.]], dtype=float32)"
          },
          "metadata": {},
          "execution_count": 9
        }
      ]
    },
    {
      "cell_type": "code",
      "execution_count": null,
      "metadata": {},
      "outputs": [],
      "source": []
    }
  ]
}