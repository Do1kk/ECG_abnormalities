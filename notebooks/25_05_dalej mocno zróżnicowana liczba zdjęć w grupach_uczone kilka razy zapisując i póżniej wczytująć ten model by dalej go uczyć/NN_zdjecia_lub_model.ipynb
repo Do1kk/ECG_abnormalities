{
  "nbformat": 4,
  "nbformat_minor": 0,
  "metadata": {
    "colab": {
      "name": "NN_zdjecia_lub_model.ipynb",
      "provenance": [],
      "collapsed_sections": [],
      "toc_visible": true
    },
    "kernelspec": {
      "name": "python3",
      "display_name": "Python 3"
    },
    "accelerator": "GPU"
  },
  "cells": [
    {
      "cell_type": "code",
      "metadata": {
        "id": "twzNoSWPocXj",
        "colab_type": "code",
        "colab": {}
      },
      "source": [
        "# Użycie zapisanych na dysku zdjęć.\n",
        "!unzip -q '/content/drive/My Drive/train_val_test.zip' -d '/content'"
      ],
      "execution_count": 0,
      "outputs": []
    },
    {
      "cell_type": "code",
      "metadata": {
        "id": "Qd4XyCKVpZ8B",
        "colab_type": "code",
        "outputId": "c8e81507-59ba-47b4-dfaf-af507a27ac16",
        "colab": {
          "base_uri": "https://localhost:8080/",
          "height": 90
        }
      },
      "source": [
        "from numpy.random import seed\n",
        "seed(1)\n",
        "import tensorflow as tf\n",
        "tf.random.set_seed(2)\n",
        "\n",
        "import os\n",
        "import keras\n",
        "import numpy as np\n",
        "import pandas as pd\n",
        "import matplotlib.pyplot as plt\n",
        "\n",
        "from tensorflow.keras.preprocessing.image import ImageDataGenerator\n",
        "from tensorflow.keras.utils import to_categorical\n",
        "from tensorflow.keras.models import Sequential\n",
        "from tensorflow.keras.layers import Dense, Conv2D, Flatten, Dropout, MaxPooling2D\n",
        "from sklearn.metrics import classification_report\n",
        "\n",
        "batch_size = 128 # było 64\n",
        "epochs = 10\n",
        "IMG_HEIGHT, IMG_WIDTH, channels = 220, 220, 3\n",
        "\n",
        "dir = '/content/'\n",
        "dir_path = os.path.join(dir, 'train_val_test')\n",
        "\n",
        "train_gen = ImageDataGenerator(rescale=1.0/255.) # rescale=1.0/255., dtype='uint8'\n",
        "val_gen = ImageDataGenerator(rescale=1.0/255.)\n",
        "test_gen = ImageDataGenerator(rescale=1.0/255.)\n",
        "\n",
        "train_generator = train_gen.flow_from_directory(\n",
        "    dir_path + '/train',\n",
        "    batch_size=batch_size,\n",
        "    shuffle=True,\n",
        "    color_mode=\"rgb\",\n",
        "    class_mode='categorical',\n",
        "    target_size=(IMG_HEIGHT, IMG_WIDTH),\n",
        "    seed=2)\n",
        "validation_generator = val_gen.flow_from_directory(\n",
        "    dir_path + '/val',\n",
        "    batch_size=batch_size,\n",
        "    shuffle=True,\n",
        "    color_mode=\"rgb\",\n",
        "    class_mode='categorical',\n",
        "    target_size=(IMG_HEIGHT, IMG_WIDTH),\n",
        "    seed=2)\n",
        "test_generator = test_gen.flow_from_directory(\n",
        "    dir_path + '/test',\n",
        "    batch_size=1,\n",
        "    shuffle=False,\n",
        "    color_mode=\"rgb\",\n",
        "    class_mode='categorical',\n",
        "    target_size=(IMG_HEIGHT, IMG_WIDTH),\n",
        "    seed=2)"
      ],
      "execution_count": 2,
      "outputs": [
        {
          "output_type": "stream",
          "text": [
            "Using TensorFlow backend.\n"
          ],
          "name": "stderr"
        },
        {
          "output_type": "stream",
          "text": [
            "Found 87517 images belonging to 5 classes.\n",
            "Found 10938 images belonging to 5 classes.\n",
            "Found 10943 images belonging to 5 classes.\n"
          ],
          "name": "stdout"
        }
      ]
    },
    {
      "cell_type": "code",
      "metadata": {
        "id": "Hmu6jhaZpHd0",
        "colab_type": "code",
        "colab": {}
      },
      "source": [
        "# Użycie zapisanego na dysku modelu.\n",
        "model = tf.keras.models.load_model('/content/drive/My Drive/model.h5')"
      ],
      "execution_count": 0,
      "outputs": []
    },
    {
      "cell_type": "code",
      "metadata": {
        "id": "Q9MIAXe3q0Ye",
        "colab_type": "code",
        "outputId": "cc4a8116-490b-4645-a45d-0741360b3f63",
        "colab": {
          "base_uri": "https://localhost:8080/",
          "height": 862
        }
      },
      "source": [
        "# Tworzenie modelu. Jeśli model jest wczytywany to nie tworzyć bo to go usunie.\n",
        "model = Sequential()\n",
        "model.add(Conv2D(32, kernel_size=3, activation=\"relu\", \n",
        "                 input_shape=(IMG_HEIGHT, IMG_WIDTH, 3), \n",
        "                 data_format=\"channels_last\"))\n",
        "model.add(Conv2D(32, kernel_size=5, activation=\"relu\"))\n",
        "model.add(Conv2D(32, kernel_size=3, activation=\"relu\"))\n",
        "model.add(MaxPooling2D(pool_size=(2, 2)))\n",
        "model.add(Conv2D(32, kernel_size=3, activation=\"relu\"))\n",
        "# model.add(Dropout(0.3)) # użycie gdy jest przeuczony, dużo więcej acc niż val_acc\n",
        "model.add(Conv2D(32, kernel_size=3, activation=\"relu\"))\n",
        "model.add(Conv2D(16, kernel_size=3, activation=\"relu\"))\n",
        "model.add(MaxPooling2D(pool_size=(2, 2)))\n",
        "model.add(Conv2D(16, kernel_size=3, activation=\"relu\"))\n",
        "model.add(Conv2D(16, kernel_size=3, activation=\"relu\"))\n",
        "model.add(Conv2D(16, kernel_size=3, activation=\"relu\"))\n",
        "model.add(MaxPooling2D(pool_size=(2, 2)))\n",
        "model.add(Conv2D(8, kernel_size=3, activation=\"relu\"))\n",
        "model.add(Conv2D(8, kernel_size=3, activation=\"relu\"))\n",
        "model.add(MaxPooling2D(pool_size=(2, 2)))\n",
        "model.add(Conv2D(8, kernel_size=3, activation=\"relu\"))\n",
        "model.add(Conv2D(16, kernel_size=3, activation=\"relu\"))\n",
        "# warstwa łącząca conv2d z warstwą dense\n",
        "model.add(Flatten())\n",
        "# liczba taka ile wyjść, czyli 5 bo tyle jest typów\n",
        "model.add(Dense(5, activation=\"softmax\"))\n",
        "\n",
        "# compile model using accuracy to measure model performance\n",
        "model.compile(optimizer=tf.keras.optimizers.Adamax(learning_rate=0.001, beta_1=0.9, beta_2=0.999, epsilon=1e-07), \n",
        "              loss=\"categorical_crossentropy\", metrics=[\"accuracy\"])\n",
        "\n",
        "model.summary()"
      ],
      "execution_count": 0,
      "outputs": [
        {
          "output_type": "stream",
          "text": [
            "Model: \"sequential\"\n",
            "_________________________________________________________________\n",
            "Layer (type)                 Output Shape              Param #   \n",
            "=================================================================\n",
            "conv2d (Conv2D)              (None, 218, 218, 32)      896       \n",
            "_________________________________________________________________\n",
            "conv2d_1 (Conv2D)            (None, 214, 214, 32)      25632     \n",
            "_________________________________________________________________\n",
            "conv2d_2 (Conv2D)            (None, 212, 212, 32)      9248      \n",
            "_________________________________________________________________\n",
            "max_pooling2d (MaxPooling2D) (None, 106, 106, 32)      0         \n",
            "_________________________________________________________________\n",
            "conv2d_3 (Conv2D)            (None, 104, 104, 32)      9248      \n",
            "_________________________________________________________________\n",
            "conv2d_4 (Conv2D)            (None, 102, 102, 32)      9248      \n",
            "_________________________________________________________________\n",
            "conv2d_5 (Conv2D)            (None, 100, 100, 16)      4624      \n",
            "_________________________________________________________________\n",
            "max_pooling2d_1 (MaxPooling2 (None, 50, 50, 16)        0         \n",
            "_________________________________________________________________\n",
            "conv2d_6 (Conv2D)            (None, 48, 48, 16)        2320      \n",
            "_________________________________________________________________\n",
            "conv2d_7 (Conv2D)            (None, 46, 46, 16)        2320      \n",
            "_________________________________________________________________\n",
            "conv2d_8 (Conv2D)            (None, 44, 44, 16)        2320      \n",
            "_________________________________________________________________\n",
            "max_pooling2d_2 (MaxPooling2 (None, 22, 22, 16)        0         \n",
            "_________________________________________________________________\n",
            "conv2d_9 (Conv2D)            (None, 20, 20, 8)         1160      \n",
            "_________________________________________________________________\n",
            "conv2d_10 (Conv2D)           (None, 18, 18, 8)         584       \n",
            "_________________________________________________________________\n",
            "max_pooling2d_3 (MaxPooling2 (None, 9, 9, 8)           0         \n",
            "_________________________________________________________________\n",
            "conv2d_11 (Conv2D)           (None, 7, 7, 8)           584       \n",
            "_________________________________________________________________\n",
            "conv2d_12 (Conv2D)           (None, 5, 5, 16)          1168      \n",
            "_________________________________________________________________\n",
            "flatten (Flatten)            (None, 400)               0         \n",
            "_________________________________________________________________\n",
            "dense (Dense)                (None, 5)                 2005      \n",
            "=================================================================\n",
            "Total params: 71,357\n",
            "Trainable params: 71,357\n",
            "Non-trainable params: 0\n",
            "_________________________________________________________________\n"
          ],
          "name": "stdout"
        }
      ]
    },
    {
      "cell_type": "code",
      "metadata": {
        "id": "uoG7NVyZp-XA",
        "colab_type": "code",
        "outputId": "dca46823-84ec-49a9-c246-2aefd2dc326e",
        "colab": {
          "base_uri": "https://localhost:8080/",
          "height": 384
        }
      },
      "source": [
        "STEP_SIZE_TRAIN = train_generator.n // train_generator.batch_size\n",
        "STEP_SIZE_VALID = validation_generator.n // validation_generator.batch_size\n",
        "history = model.fit(train_generator, \n",
        "                    steps_per_epoch=STEP_SIZE_TRAIN,\n",
        "                    validation_data=validation_generator,\n",
        "                    validation_steps=STEP_SIZE_VALID,\n",
        "                    epochs=epochs, shuffle=True,\n",
        "                    use_multiprocessing=False, verbose=1) # verbose=2 <- bez wskaznika postępu, use_multiprocessing=False <- bardzo spowalnia ale nie ma błęw ani ostrzeżeń"
      ],
      "execution_count": 4,
      "outputs": [
        {
          "output_type": "stream",
          "text": [
            "Epoch 1/10\n",
            "683/683 [==============================] - 269s 395ms/step - loss: 0.0679 - accuracy: 0.9796 - val_loss: 0.1125 - val_accuracy: 0.9689\n",
            "Epoch 2/10\n",
            "683/683 [==============================] - 261s 382ms/step - loss: 0.0658 - accuracy: 0.9805 - val_loss: 0.1171 - val_accuracy: 0.9677\n",
            "Epoch 3/10\n",
            "683/683 [==============================] - 255s 373ms/step - loss: 0.0667 - accuracy: 0.9800 - val_loss: 0.1160 - val_accuracy: 0.9672\n",
            "Epoch 4/10\n",
            "683/683 [==============================] - 249s 365ms/step - loss: 0.0652 - accuracy: 0.9803 - val_loss: 0.1219 - val_accuracy: 0.9713\n",
            "Epoch 5/10\n",
            "683/683 [==============================] - 250s 366ms/step - loss: 0.0659 - accuracy: 0.9801 - val_loss: 0.1232 - val_accuracy: 0.9675\n",
            "Epoch 6/10\n",
            "683/683 [==============================] - 249s 364ms/step - loss: 0.0659 - accuracy: 0.9805 - val_loss: 0.1237 - val_accuracy: 0.9692\n",
            "Epoch 7/10\n",
            "683/683 [==============================] - 248s 363ms/step - loss: 0.0642 - accuracy: 0.9806 - val_loss: 0.1236 - val_accuracy: 0.9688\n",
            "Epoch 8/10\n",
            "683/683 [==============================] - 245s 359ms/step - loss: 0.0653 - accuracy: 0.9800 - val_loss: 0.1195 - val_accuracy: 0.9702\n",
            "Epoch 9/10\n",
            "683/683 [==============================] - 244s 357ms/step - loss: 0.0628 - accuracy: 0.9809 - val_loss: 0.1168 - val_accuracy: 0.9687\n",
            "Epoch 10/10\n",
            "683/683 [==============================] - 242s 355ms/step - loss: 0.0637 - accuracy: 0.9809 - val_loss: 0.1168 - val_accuracy: 0.9708\n"
          ],
          "name": "stdout"
        }
      ]
    },
    {
      "cell_type": "code",
      "metadata": {
        "id": "Y8GWJSFEqFwc",
        "colab_type": "code",
        "outputId": "4497d94d-f05e-4a44-9c06-e9c01e06edaf",
        "colab": {
          "base_uri": "https://localhost:8080/",
          "height": 867
        }
      },
      "source": [
        "# Sprawdzenie poprawności na danych testowych\n",
        "test_generator.reset()\n",
        "STEP_SIZE_TEST = test_generator.n // test_generator.batch_size \n",
        "scores = model.evaluate(test_generator, \n",
        "                        steps=STEP_SIZE_TEST,\n",
        "                        verbose=1)\n",
        "print(model.metrics_names[0] + \" = \", scores[0])\n",
        "print(model.metrics_names[1] + \" = \", scores[1])\n",
        "\n",
        "test_generator.reset()\n",
        "probabilities = model.predict(test_generator, \n",
        "                              steps=STEP_SIZE_TEST,\n",
        "                              verbose=1)\n",
        "y_test = probabilities.argmax(axis=1)\n",
        "y_pred = test_generator.classes\n",
        "print(classification_report(y_test, y_pred))\n",
        "\n",
        "# summarize history for accuracy\n",
        "plt.plot(history.history['accuracy'])\n",
        "plt.plot(history.history['val_accuracy'])\n",
        "plt.title('model accuracy')\n",
        "plt.ylabel('accuracy')\n",
        "plt.xlabel('epoch')\n",
        "plt.legend(['train', 'val'], loc='upper left')\n",
        "plt.show()\n",
        "# summarize history for loss\n",
        "plt.plot(history.history['loss'])\n",
        "plt.plot(history.history['val_loss'])\n",
        "plt.title('model loss')\n",
        "plt.ylabel('loss')\n",
        "plt.xlabel('epoch')\n",
        "plt.legend(['train', 'val'], loc='upper left')\n",
        "plt.show()"
      ],
      "execution_count": 5,
      "outputs": [
        {
          "output_type": "stream",
          "text": [
            "10943/10943 [==============================] - 44s 4ms/step - loss: 0.1051 - accuracy: 0.9725\n",
            "loss =  0.10505760461091995\n",
            "accuracy =  0.9724938273429871\n",
            "10943/10943 [==============================] - 36s 3ms/step\n",
            "              precision    recall  f1-score   support\n",
            "\n",
            "           0       0.69      0.95      0.80        59\n",
            "           1       0.99      0.98      0.99      9150\n",
            "           2       0.98      0.99      0.98       797\n",
            "           3       0.58      0.84      0.69       210\n",
            "           4       0.92      0.92      0.92       727\n",
            "\n",
            "    accuracy                           0.97     10943\n",
            "   macro avg       0.83      0.93      0.87     10943\n",
            "weighted avg       0.98      0.97      0.97     10943\n",
            "\n"
          ],
          "name": "stdout"
        },
        {
          "output_type": "display_data",
          "data": {
            "image/png": "[encoded data removed]",
            "text/plain": [
              "<Figure size 432x288 with 1 Axes>"
            ]
          },
          "metadata": {
            "tags": [],
            "needs_background": "light"
          }
        },
        {
          "output_type": "display_data",
          "data": {
            "image/png": "[encoded data removed]",
            "text/plain": [
              "<Figure size 432x288 with 1 Axes>"
            ]
          },
          "metadata": {
            "tags": [],
            "needs_background": "light"
          }
        }
      ]
    },
    {
      "cell_type": "code",
      "metadata": {
        "id": "VMS-R4OEqkNM",
        "colab_type": "code",
        "colab": {}
      },
      "source": [
        "# Zapisanie modelu\n",
        "model.save('/content/drive/My Drive/model.h5')"
      ],
      "execution_count": 0,
      "outputs": []
    },
    {
      "cell_type": "code",
      "metadata": {
        "id": "jI6Fbbdsqn6F",
        "colab_type": "code",
        "outputId": "7d0c4490-5493-4064-a152-781ac47dae78",
        "colab": {
          "base_uri": "https://localhost:8080/",
          "height": 35
        }
      },
      "source": [
        "# Zapisanie pliku .csv porównując typ i predykcję, jest podane zdjęcie więc łatwo będzie sprawdzić co z nim nie tak\n",
        "test_generator.reset()\n",
        "probabilities = model.predict(test_generator, \n",
        "                              steps=STEP_SIZE_TEST,\n",
        "                              verbose=1)\n",
        "predicted_class_indices = np.argmax(probabilities, axis=1)\n",
        "labels = (train_generator.class_indices)\n",
        "labels = dict((v, k) for k, v in labels.items())\n",
        "predictions = [labels[k] for k in predicted_class_indices]\n",
        "\n",
        "filenames = test_generator.filenames\n",
        "results=pd.DataFrame({\"Filename\": filenames,\n",
        "                      \"Predictions\": predictions,})\n",
        "results.to_csv(\"results.csv\", sep=';', index=False)"
      ],
      "execution_count": 7,
      "outputs": [
        {
          "output_type": "stream",
          "text": [
            "10943/10943 [==============================] - 38s 3ms/step\n"
          ],
          "name": "stdout"
        }
      ]
    }
  ]
}