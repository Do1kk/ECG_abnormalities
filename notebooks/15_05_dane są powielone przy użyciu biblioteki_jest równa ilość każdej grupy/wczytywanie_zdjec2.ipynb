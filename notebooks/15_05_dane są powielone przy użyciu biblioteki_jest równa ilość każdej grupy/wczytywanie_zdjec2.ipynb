{
  "nbformat": 4,
  "nbformat_minor": 0,
  "metadata": {
    "colab": {
      "name": "wczytywanie_zdjec2.ipynb",
      "provenance": [],
      "collapsed_sections": []
    },
    "kernelspec": {
      "name": "python3",
      "display_name": "Python 3"
    },
    "accelerator": "GPU"
  },
  "cells": [
    {
      "cell_type": "code",
      "metadata": {
        "id": "2B26GAZj10hv",
        "colab_type": "code",
        "colab": {}
      },
      "source": [
        "!unzip -q '/content/drive/My Drive/train_val_test.zip' -d '/content'\n",
        "import warnings\n",
        "warnings.filterwarnings('always')"
      ],
      "execution_count": 0,
      "outputs": []
    },
    {
      "cell_type": "code",
      "metadata": {
        "id": "y4dK-C_DgNIJ",
        "colab_type": "code",
        "outputId": "ea4a9efb-0294-4238-e01f-be31e36e1e40",
        "colab": {
          "base_uri": "https://localhost:8080/",
          "height": 1000
        }
      },
      "source": [
        "from numpy.random import seed\n",
        "seed(1)\n",
        "import tensorflow as tf\n",
        "tf.random.set_seed(2)\n",
        "\n",
        "import os\n",
        "import keras\n",
        "import numpy as np\n",
        "import pandas as pd\n",
        "import matplotlib.pyplot as plt\n",
        "\n",
        "from tensorflow.keras.preprocessing.image import ImageDataGenerator\n",
        "from keras.utils import to_categorical # może pozmieniać by wczytywał kieras przez tensorflow np from tensorflow.keras.utils import to_categorical\n",
        "from keras.models import Sequential\n",
        "from keras.layers import Dense, Conv2D, Flatten, Dropout, MaxPooling2D\n",
        "from sklearn.metrics import classification_report\n",
        "\n",
        "batch_size = 128 # było 64\n",
        "epochs = 3\n",
        "IMG_HEIGHT, IMG_WIDTH, channels = 220, 220, 3\n",
        "\n",
        "dir = '/content/'\n",
        "dir_path = os.path.join(dir, 'train_val_test')\n",
        "\n",
        "train_gen = ImageDataGenerator(dtype='uint8') # rescale=1.0/255., dtype='uint8'\n",
        "val_gen = ImageDataGenerator(dtype='uint8')\n",
        "test_gen = ImageDataGenerator(dtype='uint8')\n",
        "\n",
        "train_generator = train_gen.flow_from_directory(\n",
        "    dir_path + '/train',\n",
        "    batch_size=batch_size,\n",
        "    shuffle=True,\n",
        "    color_mode=\"rgb\",\n",
        "    class_mode='categorical',\n",
        "    target_size=(IMG_HEIGHT, IMG_WIDTH),\n",
        "    seed=2)\n",
        "validation_generator = val_gen.flow_from_directory(\n",
        "    dir_path + '/val',\n",
        "    batch_size=batch_size,\n",
        "    shuffle=True,\n",
        "    color_mode=\"rgb\",\n",
        "    class_mode='categorical',\n",
        "    target_size=(IMG_HEIGHT, IMG_WIDTH),\n",
        "    seed=2)\n",
        "test_generator = test_gen.flow_from_directory(\n",
        "    dir_path + '/test',\n",
        "    batch_size=1,\n",
        "    shuffle=False,\n",
        "    color_mode=\"rgb\",\n",
        "    class_mode='categorical',\n",
        "    target_size=(IMG_HEIGHT, IMG_WIDTH),\n",
        "    seed=2)"
      ],
      "execution_count": 0,
      "outputs": [
        {
          "output_type": "stream",
          "text": [
            "/usr/lib/python3.6/importlib/_bootstrap.py:219: RuntimeWarning: numpy.ufunc size changed, may indicate binary incompatibility. Expected 216, got 192\n",
            "  return f(*args, **kwds)\n",
            "/usr/lib/python3.6/importlib/_bootstrap.py:219: ImportWarning: can't resolve package from __spec__ or __package__, falling back on __name__ and __path__\n",
            "  return f(*args, **kwds)\n",
            "/usr/lib/python3.6/importlib/_bootstrap.py:219: ImportWarning: can't resolve package from __spec__ or __package__, falling back on __name__ and __path__\n",
            "  return f(*args, **kwds)\n",
            "/usr/lib/python3.6/importlib/_bootstrap.py:219: RuntimeWarning: numpy.ufunc size changed, may indicate binary incompatibility. Expected 192 from C header, got 216 from PyObject\n",
            "  return f(*args, **kwds)\n",
            "/usr/lib/python3.6/importlib/_bootstrap.py:219: RuntimeWarning: numpy.ufunc size changed, may indicate binary incompatibility. Expected 192 from C header, got 216 from PyObject\n",
            "  return f(*args, **kwds)\n",
            "/usr/lib/python3.6/importlib/_bootstrap.py:219: RuntimeWarning: numpy.ufunc size changed, may indicate binary incompatibility. Expected 192 from C header, got 216 from PyObject\n",
            "  return f(*args, **kwds)\n",
            "/usr/lib/python3.6/importlib/_bootstrap.py:219: RuntimeWarning: numpy.ufunc size changed, may indicate binary incompatibility. Expected 192 from C header, got 216 from PyObject\n",
            "  return f(*args, **kwds)\n",
            "/usr/lib/python3.6/importlib/_bootstrap.py:219: RuntimeWarning: numpy.ufunc size changed, may indicate binary incompatibility. Expected 192 from C header, got 216 from PyObject\n",
            "  return f(*args, **kwds)\n",
            "/usr/lib/python3.6/importlib/_bootstrap.py:219: RuntimeWarning: numpy.ufunc size changed, may indicate binary incompatibility. Expected 192 from C header, got 216 from PyObject\n",
            "  return f(*args, **kwds)\n",
            "/usr/lib/python3.6/importlib/_bootstrap.py:219: RuntimeWarning: numpy.ufunc size changed, may indicate binary incompatibility. Expected 192 from C header, got 216 from PyObject\n",
            "  return f(*args, **kwds)\n",
            "/usr/lib/python3.6/importlib/_bootstrap.py:219: RuntimeWarning: numpy.ufunc size changed, may indicate binary incompatibility. Expected 192 from C header, got 216 from PyObject\n",
            "  return f(*args, **kwds)\n",
            "/usr/lib/python3.6/importlib/_bootstrap.py:219: RuntimeWarning: numpy.ufunc size changed, may indicate binary incompatibility. Expected 192 from C header, got 216 from PyObject\n",
            "  return f(*args, **kwds)\n",
            "/usr/lib/python3.6/importlib/_bootstrap.py:219: RuntimeWarning: numpy.ufunc size changed, may indicate binary incompatibility. Expected 192 from C header, got 216 from PyObject\n",
            "  return f(*args, **kwds)\n",
            "/usr/lib/python3.6/importlib/_bootstrap.py:219: RuntimeWarning: numpy.ufunc size changed, may indicate binary incompatibility. Expected 192 from C header, got 216 from PyObject\n",
            "  return f(*args, **kwds)\n",
            "/usr/lib/python3.6/importlib/_bootstrap.py:219: RuntimeWarning: numpy.ufunc size changed, may indicate binary incompatibility. Expected 192 from C header, got 216 from PyObject\n",
            "  return f(*args, **kwds)\n",
            "/usr/lib/python3.6/importlib/_bootstrap.py:219: RuntimeWarning: numpy.ufunc size changed, may indicate binary incompatibility. Expected 192 from C header, got 216 from PyObject\n",
            "  return f(*args, **kwds)\n",
            "Using TensorFlow backend.\n",
            "/usr/lib/python3.6/importlib/_bootstrap.py:219: RuntimeWarning: numpy.ufunc size changed, may indicate binary incompatibility. Expected 192 from C header, got 216 from PyObject\n",
            "  return f(*args, **kwds)\n",
            "/usr/lib/python3.6/importlib/_bootstrap.py:219: RuntimeWarning: numpy.ufunc size changed, may indicate binary incompatibility. Expected 192 from C header, got 216 from PyObject\n",
            "  return f(*args, **kwds)\n",
            "/usr/lib/python3.6/importlib/_bootstrap.py:219: RuntimeWarning: numpy.ufunc size changed, may indicate binary incompatibility. Expected 192 from C header, got 216 from PyObject\n",
            "  return f(*args, **kwds)\n",
            "/usr/lib/python3.6/importlib/_bootstrap.py:219: RuntimeWarning: numpy.ufunc size changed, may indicate binary incompatibility. Expected 192 from C header, got 216 from PyObject\n",
            "  return f(*args, **kwds)\n",
            "/usr/lib/python3.6/importlib/_bootstrap.py:219: RuntimeWarning: numpy.ufunc size changed, may indicate binary incompatibility. Expected 192 from C header, got 216 from PyObject\n",
            "  return f(*args, **kwds)\n",
            "/usr/lib/python3.6/importlib/_bootstrap.py:219: RuntimeWarning: numpy.ufunc size changed, may indicate binary incompatibility. Expected 192 from C header, got 216 from PyObject\n",
            "  return f(*args, **kwds)\n",
            "/usr/lib/python3.6/importlib/_bootstrap.py:219: RuntimeWarning: numpy.ufunc size changed, may indicate binary incompatibility. Expected 192 from C header, got 216 from PyObject\n",
            "  return f(*args, **kwds)\n",
            "/usr/lib/python3.6/importlib/_bootstrap.py:219: RuntimeWarning: numpy.ufunc size changed, may indicate binary incompatibility. Expected 192 from C header, got 216 from PyObject\n",
            "  return f(*args, **kwds)\n",
            "/usr/lib/python3.6/importlib/_bootstrap.py:219: RuntimeWarning: numpy.ufunc size changed, may indicate binary incompatibility. Expected 192 from C header, got 216 from PyObject\n",
            "  return f(*args, **kwds)\n",
            "/usr/lib/python3.6/importlib/_bootstrap.py:219: RuntimeWarning: numpy.ufunc size changed, may indicate binary incompatibility. Expected 192 from C header, got 216 from PyObject\n",
            "  return f(*args, **kwds)\n",
            "/usr/lib/python3.6/importlib/_bootstrap.py:219: RuntimeWarning: numpy.ufunc size changed, may indicate binary incompatibility. Expected 192 from C header, got 216 from PyObject\n",
            "  return f(*args, **kwds)\n",
            "/usr/lib/python3.6/importlib/_bootstrap.py:219: RuntimeWarning: numpy.ufunc size changed, may indicate binary incompatibility. Expected 192 from C header, got 216 from PyObject\n",
            "  return f(*args, **kwds)\n",
            "/usr/lib/python3.6/importlib/_bootstrap.py:219: RuntimeWarning: numpy.ufunc size changed, may indicate binary incompatibility. Expected 192 from C header, got 216 from PyObject\n",
            "  return f(*args, **kwds)\n",
            "/usr/lib/python3.6/importlib/_bootstrap.py:219: RuntimeWarning: numpy.ufunc size changed, may indicate binary incompatibility. Expected 192 from C header, got 216 from PyObject\n",
            "  return f(*args, **kwds)\n",
            "/usr/lib/python3.6/importlib/_bootstrap.py:219: RuntimeWarning: numpy.ufunc size changed, may indicate binary incompatibility. Expected 192 from C header, got 216 from PyObject\n",
            "  return f(*args, **kwds)\n",
            "/usr/lib/python3.6/importlib/_bootstrap.py:219: RuntimeWarning: numpy.ufunc size changed, may indicate binary incompatibility. Expected 192 from C header, got 216 from PyObject\n",
            "  return f(*args, **kwds)\n",
            "/usr/lib/python3.6/importlib/_bootstrap.py:219: RuntimeWarning: numpy.ufunc size changed, may indicate binary incompatibility. Expected 192 from C header, got 216 from PyObject\n",
            "  return f(*args, **kwds)\n",
            "/usr/lib/python3.6/importlib/_bootstrap.py:219: RuntimeWarning: numpy.ufunc size changed, may indicate binary incompatibility. Expected 192 from C header, got 216 from PyObject\n",
            "  return f(*args, **kwds)\n"
          ],
          "name": "stderr"
        },
        {
          "output_type": "stream",
          "text": [
            "Found 450265 images belonging to 5 classes.\n",
            "Found 750 images belonging to 5 classes.\n",
            "Found 500 images belonging to 5 classes.\n"
          ],
          "name": "stdout"
        }
      ]
    },
    {
      "cell_type": "code",
      "metadata": {
        "id": "Qm1dl-Kdg3Na",
        "colab_type": "code",
        "outputId": "8fb2aad2-eda1-49f1-f716-abdae2f54490",
        "colab": {
          "base_uri": "https://localhost:8080/",
          "height": 126
        }
      },
      "source": [
        "model = Sequential()\n",
        "\n",
        "# add model layers\n",
        "model.add(Conv2D(32, kernel_size=3, activation=\"relu\", \n",
        "                 input_shape=(IMG_HEIGHT, IMG_WIDTH, 3), \n",
        "                 data_format=\"channels_last\"))\n",
        "model.add(Conv2D(32, kernel_size=5, activation=\"relu\"))\n",
        "model.add(Conv2D(32, kernel_size=3, activation=\"relu\"))\n",
        "model.add(MaxPooling2D(pool_size=(2, 2)))\n",
        "model.add(Conv2D(32, kernel_size=3, activation=\"relu\"))\n",
        "# model.add(Dropout(0.3)) # użycie gdy jest przeuczony, dużo więcej acc niż val_acc\n",
        "model.add(Conv2D(32, kernel_size=3, activation=\"relu\"))\n",
        "model.add(Conv2D(16, kernel_size=3, activation=\"relu\"))\n",
        "model.add(MaxPooling2D(pool_size=(2, 2)))\n",
        "model.add(Conv2D(16, kernel_size=3, activation=\"relu\"))\n",
        "model.add(Conv2D(16, kernel_size=3, activation=\"relu\"))\n",
        "model.add(Conv2D(16, kernel_size=3, activation=\"relu\"))\n",
        "model.add(MaxPooling2D(pool_size=(2, 2)))\n",
        "model.add(Conv2D(8, kernel_size=3, activation=\"relu\"))\n",
        "model.add(Conv2D(8, kernel_size=3, activation=\"relu\"))\n",
        "model.add(MaxPooling2D(pool_size=(2, 2)))\n",
        "model.add(Conv2D(8, kernel_size=3, activation=\"relu\"))\n",
        "model.add(Conv2D(16, kernel_size=3, activation=\"relu\"))\n",
        "# warstwa łącząca conv2d z warstwą dense\n",
        "model.add(Flatten())\n",
        "# liczba taka ile wyjść, czyli 5 bo tyle jest typów\n",
        "model.add(Dense(5, activation=\"softmax\"))\n",
        "\n",
        "# compile model using accuracy to measure model performance\n",
        "model.compile(optimizer=keras.optimizers.Adamax(learning_rate=0.001, beta_1=0.9, beta_2=0.999, epsilon=1e-07), \n",
        "              loss=\"categorical_crossentropy\", metrics=[\"accuracy\"])\n",
        "\n",
        "STEP_SIZE_TRAIN = train_generator.n // train_generator.batch_size\n",
        "STEP_SIZE_VALID = validation_generator.n // validation_generator.batch_size\n",
        "history = model.fit(train_generator, \n",
        "                    steps_per_epoch=STEP_SIZE_TRAIN,\n",
        "                    validation_data=validation_generator,\n",
        "                    validation_steps=STEP_SIZE_VALID,\n",
        "                    epochs=epochs, shuffle=True,\n",
        "                    use_multiprocessing=True, verbose=1) # verbose=2 <- bez wskaznika postępu"
      ],
      "execution_count": 3,
      "outputs": [
        {
          "output_type": "stream",
          "text": [
            "Epoch 1/3\n",
            " - 3725s - loss: 0.6814 - accuracy: 0.7362 - val_loss: 0.5781 - val_accuracy: 0.7484\n",
            "Epoch 2/3\n",
            " - 3740s - loss: 0.4370 - accuracy: 0.8322 - val_loss: 0.5916 - val_accuracy: 0.8280\n",
            "Epoch 3/3\n",
            " - 3747s - loss: 0.3127 - accuracy: 0.8798 - val_loss: 0.5717 - val_accuracy: 0.8473\n"
          ],
          "name": "stdout"
        }
      ]
    },
    {
      "cell_type": "code",
      "metadata": {
        "id": "VXXIgwo5-rqb",
        "colab_type": "code",
        "colab": {
          "base_uri": "https://localhost:8080/",
          "height": 308
        },
        "outputId": "2ed49208-40cc-4b3a-9a1e-8cc7cde2d1ed"
      },
      "source": [
        "test_generator.reset()\n",
        "STEP_SIZE_TEST = test_generator.n // test_generator.batch_size \n",
        "scores = model.evaluate_generator(generator=test_generator, \n",
        "                                  steps=STEP_SIZE_TEST,\n",
        "                                  verbose=1)\n",
        "print(model.metrics_names[0] + \" = \", scores[0])\n",
        "print(model.metrics_names[1] + \" = \", scores[1])\n",
        "\n",
        "\n",
        "test_generator.reset()\n",
        "probabilities = model.predict_generator(generator=test_generator, \n",
        "                                        steps=STEP_SIZE_TEST,\n",
        "                                        verbose=1)\n",
        "y_test = probabilities.argmax(axis=1)\n",
        "y_pred = test_generator.classes\n",
        "print(classification_report(y_test, y_pred))"
      ],
      "execution_count": 4,
      "outputs": [
        {
          "output_type": "stream",
          "text": [
            "500/500 [==============================] - 5s 9ms/step\n",
            "loss =  0.04507707431912422\n",
            "accuracy =  0.8180000185966492\n",
            "500/500 [==============================] - 3s 7ms/step\n",
            "              precision    recall  f1-score   support\n",
            "\n",
            "           0       0.74      0.90      0.81        82\n",
            "           1       0.80      0.63      0.70       127\n",
            "           2       1.00      0.96      0.98       104\n",
            "           3       0.72      0.77      0.75        93\n",
            "           4       0.83      0.88      0.86        94\n",
            "\n",
            "    accuracy                           0.82       500\n",
            "   macro avg       0.82      0.83      0.82       500\n",
            "weighted avg       0.82      0.82      0.82       500\n",
            "\n"
          ],
          "name": "stdout"
        }
      ]
    },
    {
      "cell_type": "code",
      "metadata": {
        "id": "LRq_XHmAsB1d",
        "colab_type": "code",
        "colab": {
          "base_uri": "https://localhost:8080/",
          "height": 573
        },
        "outputId": "3befa168-d56d-4772-b506-b1c4c912176e"
      },
      "source": [
        "# summarize history for accuracy\n",
        "plt.plot(history.history['accuracy'])\n",
        "plt.plot(history.history['val_accuracy'])\n",
        "plt.title('model accuracy')\n",
        "plt.ylabel('accuracy')\n",
        "plt.xlabel('epoch')\n",
        "plt.legend(['train', 'val'], loc='upper left')\n",
        "plt.show()\n",
        "# summarize history for loss\n",
        "plt.plot(history.history['loss'])\n",
        "plt.plot(history.history['val_loss'])\n",
        "plt.title('model loss')\n",
        "plt.ylabel('loss')\n",
        "plt.xlabel('epoch')\n",
        "plt.legend(['train', 'val'], loc='upper left')\n",
        "plt.show()"
      ],
      "execution_count": 5,
      "outputs": [
        {
          "output_type": "display_data",
          "data": {
            "image/png": "[encoded data removed]",
            "text/plain": [
              "<Figure size 432x288 with 1 Axes>"
            ]
          },
          "metadata": {
            "tags": [],
            "needs_background": "light"
          }
        },
        {
          "output_type": "display_data",
          "data": {
            "image/png": "[encoded data removed]",
            "text/plain": [
              "<Figure size 432x288 with 1 Axes>"
            ]
          },
          "metadata": {
            "tags": [],
            "needs_background": "light"
          }
        }
      ]
    },
    {
      "cell_type": "code",
      "metadata": {
        "id": "o603wlvETgu8",
        "colab_type": "code",
        "colab": {
          "base_uri": "https://localhost:8080/",
          "height": 35
        },
        "outputId": "ffbd6f5d-e133-4175-d8e3-d86aba2666cb"
      },
      "source": [
        "# Zapisanie pliku .csv porównując typ i predykcję, jest podane zdjęcie więc łatwo będzie sprawdzić co z nim nie tak\n",
        "test_generator.reset()\n",
        "probabilities = model.predict_generator(test_generator, \n",
        "                                        steps=STEP_SIZE_TEST,\n",
        "                                        verbose=1)\n",
        "predicted_class_indices = np.argmax(probabilities, axis=1)\n",
        "labels = (train_generator.class_indices)\n",
        "labels = dict((v, k) for k, v in labels.items())\n",
        "predictions = [labels[k] for k in predicted_class_indices]\n",
        "\n",
        "filenames = test_generator.filenames\n",
        "results=pd.DataFrame({\"Filename\": filenames,\n",
        "                      \"Predictions\": predictions,})\n",
        "results.to_csv(\"results.csv\", sep=';', index=False)"
      ],
      "execution_count": 6,
      "outputs": [
        {
          "output_type": "stream",
          "text": [
            "500/500 [==============================] - 3s 7ms/step\n"
          ],
          "name": "stdout"
        }
      ]
    },
    {
      "cell_type": "code",
      "metadata": {
        "id": "7RqKM_QPHz_n",
        "colab_type": "code",
        "colab": {}
      },
      "source": [
        "# Zapisanie modelu do pliku\n",
        "model.save('wczytywanie_zdjec_model.h5')"
      ],
      "execution_count": 0,
      "outputs": []
    }
  ]
}