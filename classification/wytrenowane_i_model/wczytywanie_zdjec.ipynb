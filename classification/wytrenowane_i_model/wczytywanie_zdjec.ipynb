{
  "nbformat": 4,
  "nbformat_minor": 0,
  "metadata": {
    "colab": {
      "name": "wczytywanie_zdjec.ipynb",
      "provenance": [],
      "collapsed_sections": []
    },
    "kernelspec": {
      "name": "python3",
      "display_name": "Python 3"
    },
    "accelerator": "GPU"
  },
  "cells": [
    {
      "cell_type": "code",
      "metadata": {
        "id": "2B26GAZj10hv",
        "colab_type": "code",
        "colab": {}
      },
      "source": [
        "!unzip -q '/content/drive/My Drive/images.zip' -d '/content'"
      ],
      "execution_count": 0,
      "outputs": []
    },
    {
      "cell_type": "code",
      "metadata": {
        "id": "y4dK-C_DgNIJ",
        "colab_type": "code",
        "outputId": "5d11d8ca-e82e-4180-d50b-6c332080e6f8",
        "colab": {
          "base_uri": "https://localhost:8080/",
          "height": 72
        }
      },
      "source": [
        "from numpy.random import seed\n",
        "seed(1)\n",
        "import tensorflow\n",
        "tensorflow.random.set_seed(2)\n",
        "\n",
        "import os\n",
        "import tensorflow as tf\n",
        "from tensorflow.keras.preprocessing.image import ImageDataGenerator\n",
        "import numpy as np\n",
        "import matplotlib.pyplot as plt\n",
        "import keras\n",
        "from sklearn.model_selection import train_test_split\n",
        "from keras.utils import to_categorical\n",
        "from keras.models import Sequential\n",
        "from keras.layers import Dense, Conv2D, Flatten, Dropout, MaxPooling2D\n",
        "from sklearn.metrics import classification_report\n",
        "\n",
        "batch_size = 64\n",
        "epochs = 50\n",
        "IMG_HEIGHT, IMG_WIDTH, channels = 220, 220, 3\n",
        "\n",
        "dir = '/content/'\n",
        "train_dir = os.path.join(dir, 'images')\n",
        "\n",
        "train_gen = ImageDataGenerator(rescale=1.0/255.,\n",
        "                               validation_split=0.2) # ustawienie podziału na 80 i 20 proc\n",
        "                               # zmienić coś z tym validation bo TO NA PEWNO nie dzieli randomowo\n",
        "\n",
        "# do podzielenia danych można użyć i tego\n",
        "# https://pypi.org/project/split-folders/\n",
        "\n",
        "train_generator = train_gen.flow_from_directory(\n",
        "    train_dir,\n",
        "    batch_size=batch_size,\n",
        "    shuffle=True,\n",
        "    color_mode=\"rgb\",\n",
        "    class_mode='categorical',\n",
        "    target_size=(IMG_HEIGHT, IMG_WIDTH),\n",
        "    subset='training')\n",
        "\n",
        "validation_generator = train_gen.flow_from_directory(\n",
        "    train_dir,\n",
        "    batch_size=batch_size,\n",
        "    shuffle=False,\n",
        "    color_mode=\"rgb\",\n",
        "    class_mode='categorical',\n",
        "    target_size=(IMG_HEIGHT, IMG_WIDTH),\n",
        "    subset='validation')"
      ],
      "execution_count": 0,
      "outputs": [
        {
          "output_type": "stream",
          "text": [
            "Using TensorFlow backend.\n"
          ],
          "name": "stderr"
        },
        {
          "output_type": "stream",
          "text": [
            "Found 85599 images belonging to 6 classes.\n",
            "Found 21396 images belonging to 6 classes.\n"
          ],
          "name": "stdout"
        }
      ]
    },
    {
      "cell_type": "code",
      "metadata": {
        "id": "Qm1dl-Kdg3Na",
        "colab_type": "code",
        "colab": {
          "base_uri": "https://localhost:8080/",
          "height": 1000
        },
        "outputId": "ef32bf53-2baa-48cf-e115-e02d0381bfac"
      },
      "source": [
        "model = Sequential()\n",
        "\n",
        "# add model layers\n",
        "model.add(Conv2D(32, kernel_size=3, activation=\"relu\", \n",
        "                 input_shape=(IMG_HEIGHT, IMG_WIDTH, 3), data_format=\"channels_last\"))\n",
        "model.add(Conv2D(32, kernel_size=5, activation=\"relu\"))\n",
        "model.add(Conv2D(32, kernel_size=3, activation=\"relu\"))\n",
        "model.add(MaxPooling2D(pool_size=(2, 2)))\n",
        "model.add(Conv2D(32, kernel_size=3, activation=\"relu\"))\n",
        "# model.add(Dropout(0.3)) # użycie gdy jest przeuczony, dużo więcej acc niż val_acc\n",
        "model.add(Conv2D(32, kernel_size=3, activation=\"relu\"))\n",
        "model.add(Conv2D(16, kernel_size=3, activation=\"relu\"))\n",
        "model.add(MaxPooling2D(pool_size=(2, 2)))\n",
        "model.add(Conv2D(16, kernel_size=3, activation=\"relu\"))\n",
        "model.add(Conv2D(16, kernel_size=3, activation=\"relu\"))\n",
        "model.add(Conv2D(16, kernel_size=3, activation=\"relu\"))\n",
        "model.add(MaxPooling2D(pool_size=(2, 2)))\n",
        "model.add(Conv2D(8, kernel_size=3, activation=\"relu\"))\n",
        "model.add(Conv2D(8, kernel_size=3, activation=\"relu\"))\n",
        "model.add(MaxPooling2D(pool_size=(2, 2)))\n",
        "model.add(Conv2D(8, kernel_size=3, activation=\"relu\"))\n",
        "model.add(Conv2D(16, kernel_size=3, activation=\"relu\"))\n",
        "# warstwa łącząca conv2d z warstwą dense\n",
        "model.add(Flatten())\n",
        "# liczba taka ile wyjść, czyli 6 bo tyle jest typów\n",
        "model.add(Dense(6, activation=\"softmax\"))\n",
        "\n",
        "# compile model using accuracy to measure model performance\n",
        "model.compile(optimizer=keras.optimizers.Adamax(learning_rate=0.001, beta_1=0.9, beta_2=0.999, epsilon=1e-07), \n",
        "              loss=\"categorical_crossentropy\", metrics=[\"accuracy\"])\n",
        "\n",
        "history = model.fit_generator(train_generator, \n",
        "                              validation_data = validation_generator,\n",
        "                              steps_per_epoch=train_generator.samples // batch_size,\n",
        "                              use_multiprocessing=True, workers=4, epochs=epochs, shuffle=True, verbose=2)"
      ],
      "execution_count": 3,
      "outputs": [
        {
          "output_type": "stream",
          "text": [
            "Epoch 1/50\n",
            "1336/1337 [============================>.] - ETA: 0s - loss: 0.6805 - accuracy: 0.7805Epoch 1/50\n",
            "1337/1337 [==============================] - 302s 226ms/step - loss: 0.6803 - accuracy: 0.7805 - val_loss: 1.5619 - val_accuracy: 0.8651\n",
            "Epoch 2/50\n",
            "Epoch 1/50\n",
            "1337/1337 [==============================] - 288s 216ms/step - loss: 0.3927 - accuracy: 0.8841 - val_loss: 1.0490 - val_accuracy: 0.8728\n",
            "Epoch 3/50\n",
            "1337/1337 [==============================] - 288s 216ms/step - loss: 0.3310 - accuracy: 0.9046 - val_loss: 1.1268 - val_accuracy: 0.8833\n",
            "Epoch 4/50\n",
            "1337/1337 [==============================] - 287s 215ms/step - loss: 0.2844 - accuracy: 0.9194 - val_loss: 1.0286 - val_accuracy: 0.9211\n",
            "Epoch 5/50\n",
            "1337/1337 [==============================] - 289s 216ms/step - loss: 0.2606 - accuracy: 0.9266 - val_loss: 1.3318 - val_accuracy: 0.9345\n",
            "Epoch 6/50\n",
            "1337/1337 [==============================] - 287s 215ms/step - loss: 0.2425 - accuracy: 0.9303 - val_loss: 1.4244 - val_accuracy: 0.9279\n",
            "Epoch 7/50\n",
            "1337/1337 [==============================] - 288s 216ms/step - loss: 0.2260 - accuracy: 0.9348 - val_loss: 1.5008 - val_accuracy: 0.9204\n",
            "Epoch 8/50\n",
            "1337/1337 [==============================] - 287s 215ms/step - loss: 0.2172 - accuracy: 0.9379 - val_loss: 0.4370 - val_accuracy: 0.9209\n",
            "Epoch 9/50\n",
            "1337/1337 [==============================] - 288s 215ms/step - loss: 0.2063 - accuracy: 0.9412 - val_loss: 0.6386 - val_accuracy: 0.9219\n",
            "Epoch 10/50\n",
            "1337/1337 [==============================] - 289s 216ms/step - loss: 0.1985 - accuracy: 0.9434 - val_loss: 0.7574 - val_accuracy: 0.9373\n",
            "Epoch 11/50\n",
            "1337/1337 [==============================] - 287s 215ms/step - loss: 0.1947 - accuracy: 0.9437 - val_loss: 0.5206 - val_accuracy: 0.9339\n",
            "Epoch 12/50\n",
            "1337/1337 [==============================] - 288s 215ms/step - loss: 0.1858 - accuracy: 0.9455 - val_loss: 0.7733 - val_accuracy: 0.9403\n",
            "Epoch 13/50\n",
            "1337/1337 [==============================] - 289s 216ms/step - loss: 0.1783 - accuracy: 0.9483 - val_loss: 1.3034 - val_accuracy: 0.9380\n",
            "Epoch 14/50\n",
            "1337/1337 [==============================] - 288s 215ms/step - loss: 0.1727 - accuracy: 0.9499 - val_loss: 1.6301 - val_accuracy: 0.9362\n",
            "Epoch 15/50\n",
            "1337/1337 [==============================] - 288s 216ms/step - loss: 0.1653 - accuracy: 0.9524 - val_loss: 0.4763 - val_accuracy: 0.9470\n",
            "Epoch 16/50\n",
            "1337/1337 [==============================] - 288s 215ms/step - loss: 0.1612 - accuracy: 0.9531 - val_loss: 0.4125 - val_accuracy: 0.9523\n",
            "Epoch 17/50\n",
            "1337/1337 [==============================] - 293s 219ms/step - loss: 0.1525 - accuracy: 0.9561 - val_loss: 0.3292 - val_accuracy: 0.9488\n",
            "Epoch 18/50\n",
            "1337/1337 [==============================] - 290s 217ms/step - loss: 0.1496 - accuracy: 0.9568 - val_loss: 0.4397 - val_accuracy: 0.9484\n",
            "Epoch 19/50\n",
            "1337/1337 [==============================] - 291s 218ms/step - loss: 0.1451 - accuracy: 0.9585 - val_loss: 0.5272 - val_accuracy: 0.9398\n",
            "Epoch 20/50\n",
            "1337/1337 [==============================] - 290s 217ms/step - loss: 0.1389 - accuracy: 0.9599 - val_loss: 0.4101 - val_accuracy: 0.9498\n",
            "Epoch 21/50\n",
            "1337/1337 [==============================] - 291s 217ms/step - loss: 0.1361 - accuracy: 0.9608 - val_loss: 0.5304 - val_accuracy: 0.9402\n",
            "Epoch 22/50\n",
            "1337/1337 [==============================] - 291s 218ms/step - loss: 0.1309 - accuracy: 0.9621 - val_loss: 0.3972 - val_accuracy: 0.9513\n",
            "Epoch 23/50\n",
            "1337/1337 [==============================] - 290s 217ms/step - loss: 0.1286 - accuracy: 0.9627 - val_loss: 0.3711 - val_accuracy: 0.9576\n",
            "Epoch 24/50\n",
            "1337/1337 [==============================] - 292s 218ms/step - loss: 0.1258 - accuracy: 0.9633 - val_loss: 0.3435 - val_accuracy: 0.9571\n",
            "Epoch 25/50\n",
            "1337/1337 [==============================] - 291s 217ms/step - loss: 0.1219 - accuracy: 0.9641 - val_loss: 0.2488 - val_accuracy: 0.9556\n",
            "Epoch 26/50\n",
            "1337/1337 [==============================] - 291s 217ms/step - loss: 0.1185 - accuracy: 0.9649 - val_loss: 0.2383 - val_accuracy: 0.9520\n",
            "Epoch 27/50\n",
            "1337/1337 [==============================] - 291s 218ms/step - loss: 0.1156 - accuracy: 0.9657 - val_loss: 0.2751 - val_accuracy: 0.9508\n",
            "Epoch 28/50\n",
            "1337/1337 [==============================] - 291s 218ms/step - loss: 0.1152 - accuracy: 0.9661 - val_loss: 0.1962 - val_accuracy: 0.9542\n",
            "Epoch 29/50\n",
            "1337/1337 [==============================] - 291s 217ms/step - loss: 0.1128 - accuracy: 0.9668 - val_loss: 0.1537 - val_accuracy: 0.9508\n",
            "Epoch 30/50\n",
            "1337/1337 [==============================] - 291s 218ms/step - loss: 0.1089 - accuracy: 0.9682 - val_loss: 0.1343 - val_accuracy: 0.9477\n",
            "Epoch 31/50\n",
            "1337/1337 [==============================] - 292s 219ms/step - loss: 0.1084 - accuracy: 0.9685 - val_loss: 0.1404 - val_accuracy: 0.9491\n",
            "Epoch 32/50\n",
            "1337/1337 [==============================] - 290s 217ms/step - loss: 0.1052 - accuracy: 0.9691 - val_loss: 0.2450 - val_accuracy: 0.9513\n",
            "Epoch 33/50\n",
            "1337/1337 [==============================] - 290s 217ms/step - loss: 0.1028 - accuracy: 0.9694 - val_loss: 0.1791 - val_accuracy: 0.9489\n",
            "Epoch 34/50\n",
            "1337/1337 [==============================] - 291s 218ms/step - loss: 0.0997 - accuracy: 0.9704 - val_loss: 0.1967 - val_accuracy: 0.9561\n",
            "Epoch 35/50\n",
            "1337/1337 [==============================] - 291s 218ms/step - loss: 0.1006 - accuracy: 0.9700 - val_loss: 0.1569 - val_accuracy: 0.9429\n",
            "Epoch 36/50\n",
            "1337/1337 [==============================] - 291s 217ms/step - loss: 0.0976 - accuracy: 0.9715 - val_loss: 0.0611 - val_accuracy: 0.9353\n",
            "Epoch 37/50\n",
            "Epoch 36/50\n",
            "1337/1337 [==============================] - 291s 217ms/step - loss: 0.0960 - accuracy: 0.9716 - val_loss: 0.1564 - val_accuracy: 0.9483\n",
            "Epoch 38/50\n",
            "1337/1337 [==============================] - 290s 217ms/step - loss: 0.0944 - accuracy: 0.9722 - val_loss: 0.0551 - val_accuracy: 0.9477\n",
            "Epoch 39/50\n",
            "1337/1337 [==============================] - 292s 219ms/step - loss: 0.0928 - accuracy: 0.9727 - val_loss: 0.3961 - val_accuracy: 0.9529\n",
            "Epoch 40/50\n",
            "1337/1337 [==============================] - 291s 217ms/step - loss: 0.0927 - accuracy: 0.9723 - val_loss: 0.0606 - val_accuracy: 0.9532\n",
            "Epoch 41/50\n",
            "1337/1337 [==============================] - 291s 218ms/step - loss: 0.0917 - accuracy: 0.9727 - val_loss: 0.0726 - val_accuracy: 0.9470\n",
            "Epoch 42/50\n",
            "1337/1337 [==============================] - 292s 218ms/step - loss: 0.0898 - accuracy: 0.9728 - val_loss: 0.0827 - val_accuracy: 0.9501\n",
            "Epoch 43/50\n",
            "1337/1337 [==============================] - 292s 218ms/step - loss: 0.0899 - accuracy: 0.9734 - val_loss: 0.0522 - val_accuracy: 0.9326\n",
            "Epoch 44/50\n",
            " 252/1337 [====>.........................] - ETA: 3:30 - loss: 0.0914 - accuracy: 0.9724Buffered data was truncated after reaching the output size limit."
          ],
          "name": "stdout"
        }
      ]
    },
    {
      "cell_type": "code",
      "metadata": {
        "id": "VXXIgwo5-rqb",
        "colab_type": "code",
        "colab": {
          "base_uri": "https://localhost:8080/",
          "height": 326
        },
        "outputId": "ae173ebe-1a25-4d18-d447-d1c974701129"
      },
      "source": [
        "validation_generator.reset()\n",
        "probabilities = model.predict_generator(validation_generator, verbose=1)\n",
        "\n",
        "y_test = probabilities.argmax(axis=1)\n",
        "y_pred = validation_generator.classes\n",
        "print(classification_report(y_test, y_pred))\n",
        "\n",
        "scores = model.evaluate_generator(validation_generator, verbose=1)\n",
        "print(model.metrics_names[0] + \" = \", scores[0])\n",
        "print(model.metrics_names[1] + \" = \", scores[1])"
      ],
      "execution_count": 4,
      "outputs": [
        {
          "output_type": "stream",
          "text": [
            "335/335 [==============================] - 41s 122ms/step\n",
            "              precision    recall  f1-score   support\n",
            "\n",
            "           0       0.50      0.45      0.47       563\n",
            "           1       0.99      0.90      0.94      1779\n",
            "           2       0.95      0.98      0.96     14638\n",
            "           3       0.97      0.97      0.97      1413\n",
            "           4       0.97      0.94      0.96      1508\n",
            "           5       0.85      0.81      0.83      1495\n",
            "\n",
            "    accuracy                           0.94     21396\n",
            "   macro avg       0.87      0.84      0.86     21396\n",
            "weighted avg       0.94      0.94      0.94     21396\n",
            "\n",
            "335/335 [==============================] - 41s 122ms/step\n",
            "loss =  0.10620017349720001\n",
            "accuracy =  0.9401757121086121\n"
          ],
          "name": "stdout"
        }
      ]
    },
    {
      "cell_type": "code",
      "metadata": {
        "id": "LRq_XHmAsB1d",
        "colab_type": "code",
        "colab": {
          "base_uri": "https://localhost:8080/",
          "height": 573
        },
        "outputId": "37c6b88c-d968-4640-89e4-ce32f4bb765e"
      },
      "source": [
        "# summarize history for accuracy\n",
        "plt.plot(history.history['accuracy'])\n",
        "plt.plot(history.history['val_accuracy'])\n",
        "plt.title('model accuracy')\n",
        "plt.ylabel('accuracy')\n",
        "plt.xlabel('epoch')\n",
        "plt.legend(['train', 'test'], loc='upper left')\n",
        "plt.show()\n",
        "# summarize history for loss\n",
        "plt.plot(history.history['loss'])\n",
        "plt.plot(history.history['val_loss'])\n",
        "plt.title('model loss')\n",
        "plt.ylabel('loss')\n",
        "plt.xlabel('epoch')\n",
        "plt.legend(['train', 'test'], loc='upper left')\n",
        "plt.show()"
      ],
      "execution_count": 5,
      "outputs": [
        {
          "output_type": "display_data",
          "data": {
            "image/png": "[encoded data removed]",
            "text/plain": [
              "<Figure size 432x288 with 1 Axes>"
            ]
          },
          "metadata": {
            "tags": [],
            "needs_background": "light"
          }
        },
        {
          "output_type": "display_data",
          "data": {
            "image/png": "[encoded data removed]",
            "text/plain": [
              "<Figure size 432x288 with 1 Axes>"
            ]
          },
          "metadata": {
            "tags": [],
            "needs_background": "light"
          }
        }
      ]
    },
    {
      "cell_type": "code",
      "metadata": {
        "id": "7RqKM_QPHz_n",
        "colab_type": "code",
        "colab": {}
      },
      "source": [
        "# Zapisanie modelu do pliku\n",
        "model.save('model.h5')"
      ],
      "execution_count": 0,
      "outputs": []
    }
  ]
}