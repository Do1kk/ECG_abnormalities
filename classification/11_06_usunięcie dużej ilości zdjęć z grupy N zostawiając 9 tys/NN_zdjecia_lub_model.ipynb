{
  "nbformat": 4,
  "nbformat_minor": 0,
  "metadata": {
    "colab": {
      "name": "NN_zdjecia_lub_model.ipynb",
      "provenance": [],
      "collapsed_sections": []
    },
    "kernelspec": {
      "name": "python3",
      "display_name": "Python 3"
    },
    "accelerator": "GPU"
  },
  "cells": [
    {
      "cell_type": "code",
      "metadata": {
        "id": "twzNoSWPocXj",
        "colab_type": "code",
        "colab": {}
      },
      "source": [
        "# Użycie zapisanych na dysku zdjęć.\n",
        "!unzip -q '/content/drive/My Drive/train_val_test.zip' -d '/content'"
      ],
      "execution_count": 0,
      "outputs": []
    },
    {
      "cell_type": "code",
      "metadata": {
        "id": "Qd4XyCKVpZ8B",
        "colab_type": "code",
        "outputId": "98f0303b-4bcf-4b3b-f424-507bed5923e8",
        "colab": {
          "base_uri": "https://localhost:8080/",
          "height": 72
        }
      },
      "source": [
        "from numpy.random import seed\n",
        "seed(1)\n",
        "import tensorflow as tf\n",
        "tf.random.set_seed(2)\n",
        "\n",
        "import os\n",
        "import keras\n",
        "import numpy as np\n",
        "import pandas as pd\n",
        "import matplotlib.pyplot as plt\n",
        "\n",
        "from tensorflow.keras.preprocessing.image import ImageDataGenerator\n",
        "from tensorflow.keras.utils import to_categorical\n",
        "from tensorflow.keras.models import Sequential\n",
        "from tensorflow.keras.layers import Dense, Conv2D, Flatten, Dropout, MaxPooling2D\n",
        "from sklearn.metrics import classification_report\n",
        "\n",
        "batch_size = 128 # było 128\n",
        "epochs = 20\n",
        "IMG_HEIGHT, IMG_WIDTH, channels = 220, 220, 3\n",
        "\n",
        "dir = '/content/'\n",
        "dir_path = os.path.join(dir, 'train_val_test')\n",
        "\n",
        "train_gen = ImageDataGenerator(rescale=1.0/255.) # rescale=1.0/255., dtype='uint8'\n",
        "val_gen = ImageDataGenerator(rescale=1.0/255.)\n",
        "test_gen = ImageDataGenerator(rescale=1.0/255.)\n",
        "\n",
        "train_generator = train_gen.flow_from_directory(\n",
        "    dir_path + '/train',\n",
        "    batch_size=batch_size,\n",
        "    shuffle=True,\n",
        "    color_mode=\"rgb\",\n",
        "    class_mode='categorical',\n",
        "    target_size=(IMG_HEIGHT, IMG_WIDTH),\n",
        "    seed=2)\n",
        "validation_generator = val_gen.flow_from_directory(\n",
        "    dir_path + '/val',\n",
        "    batch_size=batch_size,\n",
        "    shuffle=True,\n",
        "    color_mode=\"rgb\",\n",
        "    class_mode='categorical',\n",
        "    target_size=(IMG_HEIGHT, IMG_WIDTH),\n",
        "    seed=2)\n",
        "test_generator = test_gen.flow_from_directory(\n",
        "    dir_path + '/test',\n",
        "    batch_size=1,\n",
        "    shuffle=False,\n",
        "    color_mode=\"rgb\",\n",
        "    class_mode='categorical',\n",
        "    target_size=(IMG_HEIGHT, IMG_WIDTH),\n",
        "    seed=2)\n",
        "\n",
        "STEP_SIZE_TRAIN = train_generator.n // train_generator.batch_size\n",
        "STEP_SIZE_VALID = validation_generator.n // validation_generator.batch_size"
      ],
      "execution_count": 20,
      "outputs": [
        {
          "output_type": "stream",
          "text": [
            "Found 26501 images belonging to 5 classes.\n",
            "Found 2000 images belonging to 5 classes.\n",
            "Found 2000 images belonging to 5 classes.\n"
          ],
          "name": "stdout"
        }
      ]
    },
    {
      "cell_type": "code",
      "metadata": {
        "id": "Hmu6jhaZpHd0",
        "colab_type": "code",
        "colab": {}
      },
      "source": [
        "# Użycie zapisanego na dysku modelu.\n",
        "model = tf.keras.models.load_model('/content/drive/My Drive/model.h5')"
      ],
      "execution_count": 0,
      "outputs": []
    },
    {
      "cell_type": "code",
      "metadata": {
        "id": "Q9MIAXe3q0Ye",
        "colab_type": "code",
        "outputId": "4c8866cf-8063-4973-8357-c1e1e9414a84",
        "colab": {
          "base_uri": "https://localhost:8080/",
          "height": 862
        }
      },
      "source": [
        "# Tworzenie modelu. Jeśli model jest wczytywany to nie tworzyć bo to go usunie.\n",
        "model = Sequential()\n",
        "model.add(Conv2D(32, kernel_size=3, activation=\"relu\", \n",
        "                 input_shape=(IMG_HEIGHT, IMG_WIDTH, 3), \n",
        "                 data_format=\"channels_last\"))\n",
        "model.add(Conv2D(32, kernel_size=5, activation=\"relu\"))\n",
        "model.add(Conv2D(32, kernel_size=3, activation=\"relu\"))\n",
        "model.add(MaxPooling2D(pool_size=(2, 2)))\n",
        "model.add(Conv2D(32, kernel_size=3, activation=\"relu\"))\n",
        "model.add(Conv2D(32, kernel_size=3, activation=\"relu\"))\n",
        "model.add(Conv2D(16, kernel_size=3, activation=\"relu\"))\n",
        "model.add(MaxPooling2D(pool_size=(2, 2)))\n",
        "model.add(Conv2D(16, kernel_size=3, activation=\"relu\"))\n",
        "model.add(Conv2D(16, kernel_size=3, activation=\"relu\"))\n",
        "model.add(Conv2D(16, kernel_size=3, activation=\"relu\"))\n",
        "model.add(MaxPooling2D(pool_size=(2, 2)))\n",
        "model.add(Conv2D(8, kernel_size=3, activation=\"relu\"))\n",
        "model.add(Conv2D(8, kernel_size=3, activation=\"relu\"))\n",
        "model.add(MaxPooling2D(pool_size=(2, 2)))\n",
        "model.add(Conv2D(8, kernel_size=3, activation=\"relu\"))\n",
        "model.add(Conv2D(16, kernel_size=3, activation=\"relu\"))\n",
        "model.add(Flatten())\n",
        "model.add(Dense(5, activation=\"softmax\"))\n",
        "\n",
        "model.compile(optimizer=tf.keras.optimizers.Adamax(learning_rate=0.001, \n",
        "                                                   beta_1=0.9, beta_2=0.999, \n",
        "                                                   epsilon=1e-07), \n",
        "              loss=\"categorical_crossentropy\", metrics=[\"accuracy\"])\n",
        "\n",
        "model.summary()"
      ],
      "execution_count": 11,
      "outputs": [
        {
          "output_type": "stream",
          "text": [
            "Model: \"sequential_3\"\n",
            "_________________________________________________________________\n",
            "Layer (type)                 Output Shape              Param #   \n",
            "=================================================================\n",
            "conv2d_39 (Conv2D)           (None, 218, 218, 32)      896       \n",
            "_________________________________________________________________\n",
            "conv2d_40 (Conv2D)           (None, 214, 214, 32)      25632     \n",
            "_________________________________________________________________\n",
            "conv2d_41 (Conv2D)           (None, 212, 212, 32)      9248      \n",
            "_________________________________________________________________\n",
            "max_pooling2d_12 (MaxPooling (None, 106, 106, 32)      0         \n",
            "_________________________________________________________________\n",
            "conv2d_42 (Conv2D)           (None, 104, 104, 32)      9248      \n",
            "_________________________________________________________________\n",
            "conv2d_43 (Conv2D)           (None, 102, 102, 32)      9248      \n",
            "_________________________________________________________________\n",
            "conv2d_44 (Conv2D)           (None, 100, 100, 16)      4624      \n",
            "_________________________________________________________________\n",
            "max_pooling2d_13 (MaxPooling (None, 50, 50, 16)        0         \n",
            "_________________________________________________________________\n",
            "conv2d_45 (Conv2D)           (None, 48, 48, 16)        2320      \n",
            "_________________________________________________________________\n",
            "conv2d_46 (Conv2D)           (None, 46, 46, 16)        2320      \n",
            "_________________________________________________________________\n",
            "conv2d_47 (Conv2D)           (None, 44, 44, 16)        2320      \n",
            "_________________________________________________________________\n",
            "max_pooling2d_14 (MaxPooling (None, 22, 22, 16)        0         \n",
            "_________________________________________________________________\n",
            "conv2d_48 (Conv2D)           (None, 20, 20, 8)         1160      \n",
            "_________________________________________________________________\n",
            "conv2d_49 (Conv2D)           (None, 18, 18, 8)         584       \n",
            "_________________________________________________________________\n",
            "max_pooling2d_15 (MaxPooling (None, 9, 9, 8)           0         \n",
            "_________________________________________________________________\n",
            "conv2d_50 (Conv2D)           (None, 7, 7, 8)           584       \n",
            "_________________________________________________________________\n",
            "conv2d_51 (Conv2D)           (None, 5, 5, 16)          1168      \n",
            "_________________________________________________________________\n",
            "flatten_3 (Flatten)          (None, 400)               0         \n",
            "_________________________________________________________________\n",
            "dense_3 (Dense)              (None, 5)                 2005      \n",
            "=================================================================\n",
            "Total params: 71,357\n",
            "Trainable params: 71,357\n",
            "Non-trainable params: 0\n",
            "_________________________________________________________________\n"
          ],
          "name": "stdout"
        }
      ]
    },
    {
      "cell_type": "code",
      "metadata": {
        "id": "uoG7NVyZp-XA",
        "colab_type": "code",
        "outputId": "33407490-7328-4466-fa1d-eefd112735d1",
        "colab": {
          "base_uri": "https://localhost:8080/",
          "height": 752
        }
      },
      "source": [
        "history = model.fit(train_generator, \n",
        "                    steps_per_epoch=STEP_SIZE_TRAIN,\n",
        "                    validation_data=validation_generator,\n",
        "                    validation_steps=STEP_SIZE_VALID,\n",
        "                    epochs=epochs, shuffle=True,\n",
        "                    use_multiprocessing=False, verbose=1) # verbose=2 <- bez wskaznika postępu, use_multiprocessing=False <- bardzo spowalnia ale nie ma błęw ani ostrzeżeń"
      ],
      "execution_count": 21,
      "outputs": [
        {
          "output_type": "stream",
          "text": [
            "Epoch 1/20\n",
            "207/207 [==============================] - 161s 780ms/step - loss: 0.1988 - accuracy: 0.9313 - val_loss: 0.3449 - val_accuracy: 0.8854\n",
            "Epoch 2/20\n",
            "207/207 [==============================] - 163s 786ms/step - loss: 0.2065 - accuracy: 0.9285 - val_loss: 0.3985 - val_accuracy: 0.8687\n",
            "Epoch 3/20\n",
            "207/207 [==============================] - 163s 788ms/step - loss: 0.2023 - accuracy: 0.9286 - val_loss: 0.3731 - val_accuracy: 0.8797\n",
            "Epoch 4/20\n",
            "207/207 [==============================] - 163s 787ms/step - loss: 0.2028 - accuracy: 0.9303 - val_loss: 0.3310 - val_accuracy: 0.8901\n",
            "Epoch 5/20\n",
            "207/207 [==============================] - 163s 787ms/step - loss: 0.1981 - accuracy: 0.9320 - val_loss: 0.3809 - val_accuracy: 0.8750\n",
            "Epoch 6/20\n",
            "207/207 [==============================] - 163s 787ms/step - loss: 0.1978 - accuracy: 0.9318 - val_loss: 0.3404 - val_accuracy: 0.8839\n",
            "Epoch 7/20\n",
            "207/207 [==============================] - 163s 786ms/step - loss: 0.1948 - accuracy: 0.9327 - val_loss: 0.3465 - val_accuracy: 0.8901\n",
            "Epoch 8/20\n",
            "207/207 [==============================] - 163s 786ms/step - loss: 0.1965 - accuracy: 0.9319 - val_loss: 0.3602 - val_accuracy: 0.8839\n",
            "Epoch 9/20\n",
            "207/207 [==============================] - 163s 786ms/step - loss: 0.1905 - accuracy: 0.9330 - val_loss: 0.3230 - val_accuracy: 0.8906\n",
            "Epoch 10/20\n",
            "207/207 [==============================] - 163s 786ms/step - loss: 0.1926 - accuracy: 0.9308 - val_loss: 0.3253 - val_accuracy: 0.8927\n",
            "Epoch 11/20\n",
            "207/207 [==============================] - 163s 786ms/step - loss: 0.1881 - accuracy: 0.9354 - val_loss: 0.3087 - val_accuracy: 0.8974\n",
            "Epoch 12/20\n",
            "207/207 [==============================] - 163s 789ms/step - loss: 0.1862 - accuracy: 0.9354 - val_loss: 0.3266 - val_accuracy: 0.8932\n",
            "Epoch 13/20\n",
            "207/207 [==============================] - 163s 787ms/step - loss: 0.1913 - accuracy: 0.9335 - val_loss: 0.3357 - val_accuracy: 0.8875\n",
            "Epoch 14/20\n",
            "207/207 [==============================] - 163s 787ms/step - loss: 0.1896 - accuracy: 0.9334 - val_loss: 0.3037 - val_accuracy: 0.9026\n",
            "Epoch 15/20\n",
            "207/207 [==============================] - 163s 786ms/step - loss: 0.1863 - accuracy: 0.9358 - val_loss: 0.3692 - val_accuracy: 0.8745\n",
            "Epoch 16/20\n",
            "207/207 [==============================] - 163s 786ms/step - loss: 0.1772 - accuracy: 0.9382 - val_loss: 0.3614 - val_accuracy: 0.8849\n",
            "Epoch 17/20\n",
            "207/207 [==============================] - 163s 788ms/step - loss: 0.1762 - accuracy: 0.9380 - val_loss: 0.3198 - val_accuracy: 0.8896\n",
            "Epoch 18/20\n",
            "207/207 [==============================] - 163s 787ms/step - loss: 0.1739 - accuracy: 0.9390 - val_loss: 0.3573 - val_accuracy: 0.8828\n",
            "Epoch 19/20\n",
            "207/207 [==============================] - 163s 788ms/step - loss: 0.1781 - accuracy: 0.9366 - val_loss: 0.3063 - val_accuracy: 0.8964\n",
            "Epoch 20/20\n",
            "207/207 [==============================] - 163s 786ms/step - loss: 0.1763 - accuracy: 0.9381 - val_loss: 0.3303 - val_accuracy: 0.8995\n"
          ],
          "name": "stdout"
        }
      ]
    },
    {
      "cell_type": "code",
      "metadata": {
        "id": "Y8GWJSFEqFwc",
        "colab_type": "code",
        "outputId": "d0fc7ce3-0cdf-4cad-d8ac-22ffed8b40b2",
        "colab": {
          "base_uri": "https://localhost:8080/",
          "height": 867
        }
      },
      "source": [
        "# Sprawdzenie poprawności na danych testowych\n",
        "test_generator.reset()\n",
        "STEP_SIZE_TEST = test_generator.n // test_generator.batch_size \n",
        "scores = model.evaluate(test_generator, \n",
        "                        steps=STEP_SIZE_TEST,\n",
        "                        verbose=1)\n",
        "print(model.metrics_names[0] + \" = \", scores[0])\n",
        "print(model.metrics_names[1] + \" = \", scores[1])\n",
        "\n",
        "test_generator.reset()\n",
        "probabilities = model.predict(test_generator, \n",
        "                              steps=STEP_SIZE_TEST,\n",
        "                              verbose=1)\n",
        "y_test = probabilities.argmax(axis=1)\n",
        "y_pred = test_generator.classes\n",
        "print(classification_report(y_test, y_pred))\n",
        "\n",
        "# summarize history for accuracy\n",
        "plt.plot(history.history['accuracy'])\n",
        "plt.plot(history.history['val_accuracy'])\n",
        "plt.title('model accuracy')\n",
        "plt.ylabel('accuracy')\n",
        "plt.xlabel('epoch')\n",
        "plt.legend(['train', 'val'], loc='upper left')\n",
        "plt.show()\n",
        "# summarize history for loss\n",
        "plt.plot(history.history['loss'])\n",
        "plt.plot(history.history['val_loss'])\n",
        "plt.title('model loss')\n",
        "plt.ylabel('loss')\n",
        "plt.xlabel('epoch')\n",
        "plt.legend(['train', 'val'], loc='upper left')\n",
        "plt.show()"
      ],
      "execution_count": 22,
      "outputs": [
        {
          "output_type": "stream",
          "text": [
            "2000/2000 [==============================] - 10s 5ms/step - loss: 0.3006 - accuracy: 0.9010\n",
            "loss =  0.3006032407283783\n",
            "accuracy =  0.9010000228881836\n",
            "2000/2000 [==============================] - 8s 4ms/step\n",
            "              precision    recall  f1-score   support\n",
            "\n",
            "           0       0.90      0.95      0.92       379\n",
            "           1       0.94      0.79      0.86       477\n",
            "           2       0.99      0.98      0.99       403\n",
            "           3       0.74      0.97      0.84       303\n",
            "           4       0.94      0.86      0.90       438\n",
            "\n",
            "    accuracy                           0.90      2000\n",
            "   macro avg       0.90      0.91      0.90      2000\n",
            "weighted avg       0.91      0.90      0.90      2000\n",
            "\n"
          ],
          "name": "stdout"
        },
        {
          "output_type": "display_data",
          "data": {
            "image/png": "[encoded data removed]",
            "text/plain": [
              "<Figure size 432x288 with 1 Axes>"
            ]
          },
          "metadata": {
            "tags": [],
            "needs_background": "light"
          }
        },
        {
          "output_type": "display_data",
          "data": {
            "image/png": "[encoded data removed]",
            "text/plain": [
              "<Figure size 432x288 with 1 Axes>"
            ]
          },
          "metadata": {
            "tags": [],
            "needs_background": "light"
          }
        }
      ]
    },
    {
      "cell_type": "code",
      "metadata": {
        "id": "VMS-R4OEqkNM",
        "colab_type": "code",
        "colab": {}
      },
      "source": [
        "# Zapisanie modelu\n",
        "model.save('/content/drive/My Drive/model.h5')"
      ],
      "execution_count": 0,
      "outputs": []
    },
    {
      "cell_type": "code",
      "metadata": {
        "id": "jI6Fbbdsqn6F",
        "colab_type": "code",
        "outputId": "a0493ab8-a0c6-4a15-dbe4-d35d9f150106",
        "colab": {
          "base_uri": "https://localhost:8080/",
          "height": 35
        }
      },
      "source": [
        "# Zapisanie pliku .csv porównując typ i predykcję, jest podane zdjęcie więc łatwo będzie sprawdzić co z nim nie tak\n",
        "test_generator.reset()\n",
        "probabilities = model.predict(test_generator, \n",
        "                              steps=STEP_SIZE_TEST,\n",
        "                              verbose=1)\n",
        "predicted_class_indices = np.argmax(probabilities, axis=1)\n",
        "labels = (train_generator.class_indices)\n",
        "labels = dict((v, k) for k, v in labels.items())\n",
        "predictions = [labels[k] for k in predicted_class_indices]\n",
        "\n",
        "filenames = test_generator.filenames\n",
        "results=pd.DataFrame({\"Filename\": filenames,\n",
        "                      \"Predictions\": predictions,})\n",
        "results.to_csv(\"results.csv\", sep=';', index=False)"
      ],
      "execution_count": 24,
      "outputs": [
        {
          "output_type": "stream",
          "text": [
            "2000/2000 [==============================] - 8s 4ms/step\n"
          ],
          "name": "stdout"
        }
      ]
    }
  ]
}