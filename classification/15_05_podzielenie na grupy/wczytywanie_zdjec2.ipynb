{
  "nbformat": 4,
  "nbformat_minor": 0,
  "metadata": {
    "colab": {
      "name": "wczytywanie_zdjec2.ipynb",
      "provenance": [],
      "collapsed_sections": []
    },
    "kernelspec": {
      "name": "python3",
      "display_name": "Python 3"
    },
    "accelerator": "GPU"
  },
  "cells": [
    {
      "cell_type": "code",
      "metadata": {
        "id": "2B26GAZj10hv",
        "colab_type": "code",
        "colab": {}
      },
      "source": [
        "!unzip -q '/content/drive/My Drive/train_val_test.zip' -d '/content'\n",
        "import warnings\n",
        "warnings.filterwarnings('always')"
      ],
      "execution_count": 0,
      "outputs": []
    },
    {
      "cell_type": "code",
      "metadata": {
        "id": "y4dK-C_DgNIJ",
        "colab_type": "code",
        "outputId": "3299a7d4-7062-4c4a-f201-121df7364749",
        "colab": {
          "base_uri": "https://localhost:8080/",
          "height": 1000
        }
      },
      "source": [
        "from numpy.random import seed\n",
        "seed(1)\n",
        "import tensorflow as tf\n",
        "tf.random.set_seed(2)\n",
        "\n",
        "import os\n",
        "import keras\n",
        "import numpy as np\n",
        "import pandas as pd\n",
        "import matplotlib.pyplot as plt\n",
        "\n",
        "from tensorflow.keras.preprocessing.image import ImageDataGenerator\n",
        "from keras.utils import to_categorical # może pozmieniać by wczytywał kieras przez tensorflow np from tensorflow.keras.utils import to_categorical\n",
        "from keras.models import Sequential\n",
        "from keras.layers import Dense, Conv2D, Flatten, Dropout, MaxPooling2D\n",
        "from sklearn.metrics import classification_report\n",
        "\n",
        "batch_size = 128 # było 64\n",
        "epochs = 50\n",
        "IMG_HEIGHT, IMG_WIDTH, channels = 220, 220, 3\n",
        "\n",
        "dir = '/content/'\n",
        "dir_path = os.path.join(dir, 'train_val_test')\n",
        "\n",
        "train_gen = ImageDataGenerator(dtype='uint8') # rescale=1.0/255., dtype='uint8'\n",
        "val_gen = ImageDataGenerator(dtype='uint8')\n",
        "test_gen = ImageDataGenerator(dtype='uint8')\n",
        "\n",
        "train_generator = train_gen.flow_from_directory(\n",
        "    dir_path + '/train',\n",
        "    batch_size=batch_size,\n",
        "    shuffle=True,\n",
        "    color_mode=\"rgb\",\n",
        "    class_mode='categorical',\n",
        "    target_size=(IMG_HEIGHT, IMG_WIDTH),\n",
        "    seed=2)\n",
        "validation_generator = val_gen.flow_from_directory(\n",
        "    dir_path + '/val',\n",
        "    batch_size=batch_size,\n",
        "    shuffle=True,\n",
        "    color_mode=\"rgb\",\n",
        "    class_mode='categorical',\n",
        "    target_size=(IMG_HEIGHT, IMG_WIDTH),\n",
        "    seed=2)\n",
        "test_generator = test_gen.flow_from_directory(\n",
        "    dir_path + '/test',\n",
        "    batch_size=1,\n",
        "    shuffle=False,\n",
        "    color_mode=\"rgb\",\n",
        "    class_mode='categorical',\n",
        "    target_size=(IMG_HEIGHT, IMG_WIDTH),\n",
        "    seed=2)"
      ],
      "execution_count": 2,
      "outputs": [
        {
          "output_type": "stream",
          "text": [
            "/usr/lib/python3.6/importlib/_bootstrap.py:219: RuntimeWarning: numpy.ufunc size changed, may indicate binary incompatibility. Expected 216, got 192\n",
            "  return f(*args, **kwds)\n",
            "/usr/lib/python3.6/importlib/_bootstrap.py:219: ImportWarning: can't resolve package from __spec__ or __package__, falling back on __name__ and __path__\n",
            "  return f(*args, **kwds)\n",
            "/usr/lib/python3.6/importlib/_bootstrap.py:219: ImportWarning: can't resolve package from __spec__ or __package__, falling back on __name__ and __path__\n",
            "  return f(*args, **kwds)\n",
            "/usr/lib/python3.6/importlib/_bootstrap.py:219: RuntimeWarning: numpy.ufunc size changed, may indicate binary incompatibility. Expected 192 from C header, got 216 from PyObject\n",
            "  return f(*args, **kwds)\n",
            "/usr/lib/python3.6/importlib/_bootstrap.py:219: RuntimeWarning: numpy.ufunc size changed, may indicate binary incompatibility. Expected 192 from C header, got 216 from PyObject\n",
            "  return f(*args, **kwds)\n",
            "/usr/lib/python3.6/importlib/_bootstrap.py:219: RuntimeWarning: numpy.ufunc size changed, may indicate binary incompatibility. Expected 192 from C header, got 216 from PyObject\n",
            "  return f(*args, **kwds)\n",
            "/usr/lib/python3.6/importlib/_bootstrap.py:219: RuntimeWarning: numpy.ufunc size changed, may indicate binary incompatibility. Expected 192 from C header, got 216 from PyObject\n",
            "  return f(*args, **kwds)\n",
            "/usr/lib/python3.6/importlib/_bootstrap.py:219: RuntimeWarning: numpy.ufunc size changed, may indicate binary incompatibility. Expected 192 from C header, got 216 from PyObject\n",
            "  return f(*args, **kwds)\n",
            "/usr/lib/python3.6/importlib/_bootstrap.py:219: RuntimeWarning: numpy.ufunc size changed, may indicate binary incompatibility. Expected 192 from C header, got 216 from PyObject\n",
            "  return f(*args, **kwds)\n",
            "/usr/lib/python3.6/importlib/_bootstrap.py:219: RuntimeWarning: numpy.ufunc size changed, may indicate binary incompatibility. Expected 192 from C header, got 216 from PyObject\n",
            "  return f(*args, **kwds)\n",
            "/usr/lib/python3.6/importlib/_bootstrap.py:219: RuntimeWarning: numpy.ufunc size changed, may indicate binary incompatibility. Expected 192 from C header, got 216 from PyObject\n",
            "  return f(*args, **kwds)\n",
            "/usr/lib/python3.6/importlib/_bootstrap.py:219: RuntimeWarning: numpy.ufunc size changed, may indicate binary incompatibility. Expected 192 from C header, got 216 from PyObject\n",
            "  return f(*args, **kwds)\n",
            "/usr/lib/python3.6/importlib/_bootstrap.py:219: RuntimeWarning: numpy.ufunc size changed, may indicate binary incompatibility. Expected 192 from C header, got 216 from PyObject\n",
            "  return f(*args, **kwds)\n",
            "/usr/lib/python3.6/importlib/_bootstrap.py:219: RuntimeWarning: numpy.ufunc size changed, may indicate binary incompatibility. Expected 192 from C header, got 216 from PyObject\n",
            "  return f(*args, **kwds)\n",
            "/usr/lib/python3.6/importlib/_bootstrap.py:219: RuntimeWarning: numpy.ufunc size changed, may indicate binary incompatibility. Expected 192 from C header, got 216 from PyObject\n",
            "  return f(*args, **kwds)\n",
            "/usr/lib/python3.6/importlib/_bootstrap.py:219: RuntimeWarning: numpy.ufunc size changed, may indicate binary incompatibility. Expected 192 from C header, got 216 from PyObject\n",
            "  return f(*args, **kwds)\n",
            "Using TensorFlow backend.\n",
            "/usr/lib/python3.6/importlib/_bootstrap.py:219: RuntimeWarning: numpy.ufunc size changed, may indicate binary incompatibility. Expected 192 from C header, got 216 from PyObject\n",
            "  return f(*args, **kwds)\n",
            "/usr/lib/python3.6/importlib/_bootstrap.py:219: RuntimeWarning: numpy.ufunc size changed, may indicate binary incompatibility. Expected 192 from C header, got 216 from PyObject\n",
            "  return f(*args, **kwds)\n",
            "/usr/lib/python3.6/importlib/_bootstrap.py:219: RuntimeWarning: numpy.ufunc size changed, may indicate binary incompatibility. Expected 192 from C header, got 216 from PyObject\n",
            "  return f(*args, **kwds)\n",
            "/usr/lib/python3.6/importlib/_bootstrap.py:219: RuntimeWarning: numpy.ufunc size changed, may indicate binary incompatibility. Expected 192 from C header, got 216 from PyObject\n",
            "  return f(*args, **kwds)\n",
            "/usr/lib/python3.6/importlib/_bootstrap.py:219: RuntimeWarning: numpy.ufunc size changed, may indicate binary incompatibility. Expected 192 from C header, got 216 from PyObject\n",
            "  return f(*args, **kwds)\n",
            "/usr/lib/python3.6/importlib/_bootstrap.py:219: RuntimeWarning: numpy.ufunc size changed, may indicate binary incompatibility. Expected 192 from C header, got 216 from PyObject\n",
            "  return f(*args, **kwds)\n",
            "/usr/lib/python3.6/importlib/_bootstrap.py:219: RuntimeWarning: numpy.ufunc size changed, may indicate binary incompatibility. Expected 192 from C header, got 216 from PyObject\n",
            "  return f(*args, **kwds)\n",
            "/usr/lib/python3.6/importlib/_bootstrap.py:219: RuntimeWarning: numpy.ufunc size changed, may indicate binary incompatibility. Expected 192 from C header, got 216 from PyObject\n",
            "  return f(*args, **kwds)\n",
            "/usr/lib/python3.6/importlib/_bootstrap.py:219: RuntimeWarning: numpy.ufunc size changed, may indicate binary incompatibility. Expected 192 from C header, got 216 from PyObject\n",
            "  return f(*args, **kwds)\n",
            "/usr/lib/python3.6/importlib/_bootstrap.py:219: RuntimeWarning: numpy.ufunc size changed, may indicate binary incompatibility. Expected 192 from C header, got 216 from PyObject\n",
            "  return f(*args, **kwds)\n",
            "/usr/lib/python3.6/importlib/_bootstrap.py:219: RuntimeWarning: numpy.ufunc size changed, may indicate binary incompatibility. Expected 192 from C header, got 216 from PyObject\n",
            "  return f(*args, **kwds)\n",
            "/usr/lib/python3.6/importlib/_bootstrap.py:219: RuntimeWarning: numpy.ufunc size changed, may indicate binary incompatibility. Expected 192 from C header, got 216 from PyObject\n",
            "  return f(*args, **kwds)\n",
            "/usr/lib/python3.6/importlib/_bootstrap.py:219: RuntimeWarning: numpy.ufunc size changed, may indicate binary incompatibility. Expected 192 from C header, got 216 from PyObject\n",
            "  return f(*args, **kwds)\n",
            "/usr/lib/python3.6/importlib/_bootstrap.py:219: RuntimeWarning: numpy.ufunc size changed, may indicate binary incompatibility. Expected 192 from C header, got 216 from PyObject\n",
            "  return f(*args, **kwds)\n",
            "/usr/lib/python3.6/importlib/_bootstrap.py:219: RuntimeWarning: numpy.ufunc size changed, may indicate binary incompatibility. Expected 192 from C header, got 216 from PyObject\n",
            "  return f(*args, **kwds)\n",
            "/usr/lib/python3.6/importlib/_bootstrap.py:219: RuntimeWarning: numpy.ufunc size changed, may indicate binary incompatibility. Expected 192 from C header, got 216 from PyObject\n",
            "  return f(*args, **kwds)\n",
            "/usr/lib/python3.6/importlib/_bootstrap.py:219: RuntimeWarning: numpy.ufunc size changed, may indicate binary incompatibility. Expected 192 from C header, got 216 from PyObject\n",
            "  return f(*args, **kwds)\n",
            "/usr/lib/python3.6/importlib/_bootstrap.py:219: RuntimeWarning: numpy.ufunc size changed, may indicate binary incompatibility. Expected 192 from C header, got 216 from PyObject\n",
            "  return f(*args, **kwds)\n",
            "/usr/lib/python3.6/importlib/_bootstrap.py:219: RuntimeWarning: numpy.ufunc size changed, may indicate binary incompatibility. Expected 192 from C header, got 216 from PyObject\n",
            "  return f(*args, **kwds)\n"
          ],
          "name": "stderr"
        },
        {
          "output_type": "stream",
          "text": [
            "Found 87517 images belonging to 5 classes.\n",
            "Found 10938 images belonging to 5 classes.\n",
            "Found 10943 images belonging to 5 classes.\n"
          ],
          "name": "stdout"
        }
      ]
    },
    {
      "cell_type": "code",
      "metadata": {
        "id": "Qm1dl-Kdg3Na",
        "colab_type": "code",
        "outputId": "17631671-d036-4e6b-9bdd-193f82471fb3",
        "colab": {
          "base_uri": "https://localhost:8080/",
          "height": 1000
        }
      },
      "source": [
        "model = Sequential()\n",
        "\n",
        "# add model layers\n",
        "model.add(Conv2D(32, kernel_size=3, activation=\"relu\", \n",
        "                 input_shape=(IMG_HEIGHT, IMG_WIDTH, 3), \n",
        "                 data_format=\"channels_last\"))\n",
        "model.add(Conv2D(32, kernel_size=5, activation=\"relu\"))\n",
        "model.add(Conv2D(32, kernel_size=3, activation=\"relu\"))\n",
        "model.add(MaxPooling2D(pool_size=(2, 2)))\n",
        "model.add(Conv2D(32, kernel_size=3, activation=\"relu\"))\n",
        "# model.add(Dropout(0.3)) # użycie gdy jest przeuczony, dużo więcej acc niż val_acc\n",
        "model.add(Conv2D(32, kernel_size=3, activation=\"relu\"))\n",
        "model.add(Conv2D(16, kernel_size=3, activation=\"relu\"))\n",
        "model.add(MaxPooling2D(pool_size=(2, 2)))\n",
        "model.add(Conv2D(16, kernel_size=3, activation=\"relu\"))\n",
        "model.add(Conv2D(16, kernel_size=3, activation=\"relu\"))\n",
        "model.add(Conv2D(16, kernel_size=3, activation=\"relu\"))\n",
        "model.add(MaxPooling2D(pool_size=(2, 2)))\n",
        "model.add(Conv2D(8, kernel_size=3, activation=\"relu\"))\n",
        "model.add(Conv2D(8, kernel_size=3, activation=\"relu\"))\n",
        "model.add(MaxPooling2D(pool_size=(2, 2)))\n",
        "model.add(Conv2D(8, kernel_size=3, activation=\"relu\"))\n",
        "model.add(Conv2D(16, kernel_size=3, activation=\"relu\"))\n",
        "# warstwa łącząca conv2d z warstwą dense\n",
        "model.add(Flatten())\n",
        "# liczba taka ile wyjść, czyli 5 bo tyle jest typów\n",
        "model.add(Dense(5, activation=\"softmax\"))\n",
        "\n",
        "# compile model using accuracy to measure model performance\n",
        "model.compile(optimizer=keras.optimizers.Adamax(learning_rate=0.001, beta_1=0.9, beta_2=0.999, epsilon=1e-07), \n",
        "              loss=\"categorical_crossentropy\", metrics=[\"accuracy\"])\n",
        "\n",
        "STEP_SIZE_TRAIN = train_generator.n // train_generator.batch_size\n",
        "STEP_SIZE_VALID = validation_generator.n // validation_generator.batch_size\n",
        "history = model.fit(train_generator, \n",
        "                    steps_per_epoch=STEP_SIZE_TRAIN,\n",
        "                    validation_data=validation_generator,\n",
        "                    validation_steps=STEP_SIZE_VALID,\n",
        "                    epochs=epochs, shuffle=True,\n",
        "                    use_multiprocessing=True, verbose=2) # zobaczyć czy działa model.fit zwykły"
      ],
      "execution_count": 3,
      "outputs": [
        {
          "output_type": "stream",
          "text": [
            "Epoch 1/50\n",
            " - 371s - loss: 0.4903 - accuracy: 0.8566 - val_loss: 0.4002 - val_accuracy: 0.8957\n",
            "Epoch 2/50\n",
            " - 329s - loss: 0.3237 - accuracy: 0.9049 - val_loss: 0.2647 - val_accuracy: 0.9142\n",
            "Epoch 3/50\n",
            " - 327s - loss: 0.2851 - accuracy: 0.9178 - val_loss: 0.2749 - val_accuracy: 0.9241\n",
            "Epoch 4/50\n",
            " - 326s - loss: 0.2597 - accuracy: 0.9259 - val_loss: 0.2141 - val_accuracy: 0.9299\n",
            "Epoch 5/50\n",
            " - 326s - loss: 0.2416 - accuracy: 0.9314 - val_loss: 0.3526 - val_accuracy: 0.9322\n",
            "Epoch 6/50\n",
            " - 325s - loss: 0.2267 - accuracy: 0.9365 - val_loss: 0.2200 - val_accuracy: 0.9339\n",
            "Epoch 7/50\n",
            " - 325s - loss: 0.2128 - accuracy: 0.9406 - val_loss: 0.2358 - val_accuracy: 0.9394\n",
            "Epoch 8/50\n",
            " - 325s - loss: 0.1961 - accuracy: 0.9462 - val_loss: 0.2727 - val_accuracy: 0.9475\n",
            "Epoch 9/50\n",
            " - 323s - loss: 0.1861 - accuracy: 0.9482 - val_loss: 0.3001 - val_accuracy: 0.9490\n",
            "Epoch 10/50\n",
            " - 324s - loss: 0.1779 - accuracy: 0.9510 - val_loss: 0.1568 - val_accuracy: 0.9530\n",
            "Epoch 11/50\n",
            " - 325s - loss: 0.1720 - accuracy: 0.9519 - val_loss: 0.1045 - val_accuracy: 0.9535\n",
            "Epoch 12/50\n",
            " - 324s - loss: 0.1674 - accuracy: 0.9536 - val_loss: 0.1468 - val_accuracy: 0.9575\n",
            "Epoch 13/50\n",
            " - 325s - loss: 0.1623 - accuracy: 0.9542 - val_loss: 0.1116 - val_accuracy: 0.9535\n",
            "Epoch 14/50\n",
            " - 323s - loss: 0.1567 - accuracy: 0.9562 - val_loss: 0.1412 - val_accuracy: 0.9550\n",
            "Epoch 15/50\n",
            " - 326s - loss: 0.1535 - accuracy: 0.9565 - val_loss: 0.1223 - val_accuracy: 0.9569\n",
            "Epoch 16/50\n",
            " - 324s - loss: 0.1472 - accuracy: 0.9581 - val_loss: 0.1334 - val_accuracy: 0.9537\n",
            "Epoch 17/50\n",
            " - 322s - loss: 0.1490 - accuracy: 0.9584 - val_loss: 0.1519 - val_accuracy: 0.9558\n",
            "Epoch 18/50\n",
            " - 325s - loss: 0.1424 - accuracy: 0.9598 - val_loss: 0.1194 - val_accuracy: 0.9593\n",
            "Epoch 19/50\n",
            " - 324s - loss: 0.1392 - accuracy: 0.9604 - val_loss: 0.1744 - val_accuracy: 0.9624\n",
            "Epoch 20/50\n",
            " - 323s - loss: 0.1390 - accuracy: 0.9610 - val_loss: 0.1088 - val_accuracy: 0.9589\n",
            "Epoch 21/50\n",
            " - 322s - loss: 0.1363 - accuracy: 0.9616 - val_loss: 0.1850 - val_accuracy: 0.9613\n",
            "Epoch 22/50\n",
            " - 324s - loss: 0.1347 - accuracy: 0.9616 - val_loss: 0.2111 - val_accuracy: 0.9579\n",
            "Epoch 23/50\n",
            " - 323s - loss: 0.1314 - accuracy: 0.9628 - val_loss: 0.0517 - val_accuracy: 0.9628\n",
            "Epoch 24/50\n",
            " - 323s - loss: 0.1296 - accuracy: 0.9633 - val_loss: 0.2105 - val_accuracy: 0.9606\n",
            "Epoch 25/50\n",
            " - 322s - loss: 0.1276 - accuracy: 0.9631 - val_loss: 0.1381 - val_accuracy: 0.9626\n",
            "Epoch 26/50\n",
            " - 321s - loss: 0.1241 - accuracy: 0.9652 - val_loss: 0.1122 - val_accuracy: 0.9596\n",
            "Epoch 27/50\n",
            " - 320s - loss: 0.1232 - accuracy: 0.9651 - val_loss: 0.2417 - val_accuracy: 0.9637\n",
            "Epoch 28/50\n",
            " - 324s - loss: 0.1239 - accuracy: 0.9649 - val_loss: 0.0686 - val_accuracy: 0.9657\n",
            "Epoch 29/50\n",
            " - 325s - loss: 0.1196 - accuracy: 0.9661 - val_loss: 0.1318 - val_accuracy: 0.9617\n",
            "Epoch 30/50\n",
            " - 325s - loss: 0.1198 - accuracy: 0.9657 - val_loss: 0.1682 - val_accuracy: 0.9636\n",
            "Epoch 31/50\n",
            " - 325s - loss: 0.1159 - accuracy: 0.9667 - val_loss: 0.1963 - val_accuracy: 0.9623\n",
            "Epoch 32/50\n",
            " - 323s - loss: 0.1156 - accuracy: 0.9673 - val_loss: 0.1028 - val_accuracy: 0.9608\n",
            "Epoch 33/50\n",
            " - 325s - loss: 0.1148 - accuracy: 0.9671 - val_loss: 0.0760 - val_accuracy: 0.9659\n",
            "Epoch 34/50\n",
            " - 325s - loss: 0.1128 - accuracy: 0.9680 - val_loss: 0.0865 - val_accuracy: 0.9628\n",
            "Epoch 35/50\n",
            " - 326s - loss: 0.1122 - accuracy: 0.9677 - val_loss: 0.1278 - val_accuracy: 0.9624\n",
            "Epoch 36/50\n",
            " - 320s - loss: 0.1104 - accuracy: 0.9685 - val_loss: 0.1350 - val_accuracy: 0.9663\n",
            "Epoch 37/50\n",
            " - 326s - loss: 0.1114 - accuracy: 0.9680 - val_loss: 0.1258 - val_accuracy: 0.9610\n",
            "Epoch 38/50\n",
            " - 326s - loss: 0.1103 - accuracy: 0.9683 - val_loss: 0.0762 - val_accuracy: 0.9669\n",
            "Epoch 39/50\n",
            " - 326s - loss: 0.1089 - accuracy: 0.9686 - val_loss: 0.0831 - val_accuracy: 0.9657\n",
            "Epoch 40/50\n",
            " - 328s - loss: 0.1058 - accuracy: 0.9695 - val_loss: 0.1326 - val_accuracy: 0.9689\n",
            "Epoch 41/50\n",
            " - 330s - loss: 0.1064 - accuracy: 0.9690 - val_loss: 0.0796 - val_accuracy: 0.9686\n",
            "Epoch 42/50\n",
            " - 330s - loss: 0.1026 - accuracy: 0.9705 - val_loss: 0.1134 - val_accuracy: 0.9618\n",
            "Epoch 43/50\n",
            " - 330s - loss: 0.1036 - accuracy: 0.9703 - val_loss: 0.1315 - val_accuracy: 0.9689\n",
            "Epoch 44/50\n",
            " - 327s - loss: 0.1014 - accuracy: 0.9714 - val_loss: 0.1106 - val_accuracy: 0.9647\n",
            "Epoch 45/50\n",
            " - 328s - loss: 0.1010 - accuracy: 0.9705 - val_loss: 0.0867 - val_accuracy: 0.9657\n",
            "Epoch 46/50\n",
            " - 330s - loss: 0.0988 - accuracy: 0.9716 - val_loss: 0.0438 - val_accuracy: 0.9654\n",
            "Epoch 47/50\n",
            " - 325s - loss: 0.1006 - accuracy: 0.9706 - val_loss: 0.0812 - val_accuracy: 0.9644\n",
            "Epoch 48/50\n",
            " - 326s - loss: 0.0979 - accuracy: 0.9714 - val_loss: 0.1452 - val_accuracy: 0.9646\n",
            "Epoch 49/50\n",
            " - 327s - loss: 0.0976 - accuracy: 0.9720 - val_loss: 0.0820 - val_accuracy: 0.9685\n",
            "Epoch 50/50\n",
            " - 327s - loss: 0.0966 - accuracy: 0.9720 - val_loss: 0.1741 - val_accuracy: 0.9662\n"
          ],
          "name": "stdout"
        }
      ]
    },
    {
      "cell_type": "code",
      "metadata": {
        "id": "VXXIgwo5-rqb",
        "colab_type": "code",
        "outputId": "c214a181-e996-462d-9f79-cd75f59de823",
        "colab": {
          "base_uri": "https://localhost:8080/",
          "height": 311
        }
      },
      "source": [
        "test_generator.reset()\n",
        "STEP_SIZE_TEST = test_generator.n // test_generator.batch_size \n",
        "test_generator.reset() # dopiero co zmieniłem na test_generator, cześniej było validation_generator\n",
        "scores = model.evaluate_generator(generator=test_generator, \n",
        "                                  steps=STEP_SIZE_TEST,\n",
        "                                  verbose=1)\n",
        "print(model.metrics_names[0] + \" = \", scores[0])\n",
        "print(model.metrics_names[1] + \" = \", scores[1])\n",
        "\n",
        "\n",
        "test_generator.reset()\n",
        "probabilities = model.predict_generator(generator=test_generator, \n",
        "                                        steps=STEP_SIZE_TEST,\n",
        "                                        verbose=1)\n",
        "y_test = probabilities.argmax(axis=1)\n",
        "y_pred = test_generator.classes\n",
        "print(classification_report(y_test, y_pred))"
      ],
      "execution_count": 10,
      "outputs": [
        {
          "output_type": "stream",
          "text": [
            "10943/10943 [==============================] - 40s 4ms/step\n",
            "loss =  0.006561520509421825\n",
            "accuracy =  0.9688385128974915\n",
            "10943/10943 [==============================] - 30s 3ms/step\n",
            "              precision    recall  f1-score   support\n",
            "\n",
            "           0       0.63      0.75      0.68        68\n",
            "           1       0.99      0.98      0.98      9175\n",
            "           2       0.99      0.99      0.99       801\n",
            "           3       0.52      0.77      0.62       204\n",
            "           4       0.90      0.93      0.91       695\n",
            "\n",
            "    accuracy                           0.97     10943\n",
            "   macro avg       0.81      0.89      0.84     10943\n",
            "weighted avg       0.97      0.97      0.97     10943\n",
            "\n"
          ],
          "name": "stdout"
        }
      ]
    },
    {
      "cell_type": "code",
      "metadata": {
        "id": "LRq_XHmAsB1d",
        "colab_type": "code",
        "outputId": "23f58810-f678-467e-e7a8-08808fb8f0f7",
        "colab": {
          "base_uri": "https://localhost:8080/",
          "height": 573
        }
      },
      "source": [
        "# summarize history for accuracy\n",
        "plt.plot(history.history['accuracy'])\n",
        "plt.plot(history.history['val_accuracy'])\n",
        "plt.title('model accuracy')\n",
        "plt.ylabel('accuracy')\n",
        "plt.xlabel('epoch')\n",
        "plt.legend(['train', 'val'], loc='upper left')\n",
        "plt.show()\n",
        "# summarize history for loss\n",
        "plt.plot(history.history['loss'])\n",
        "plt.plot(history.history['val_loss'])\n",
        "plt.title('model loss')\n",
        "plt.ylabel('loss')\n",
        "plt.xlabel('epoch')\n",
        "plt.legend(['train', 'val'], loc='upper left')\n",
        "plt.show()"
      ],
      "execution_count": 5,
      "outputs": [
        {
          "output_type": "display_data",
          "data": {
            "image/png": "[encoded data removed]",
            "text/plain": [
              "<Figure size 432x288 with 1 Axes>"
            ]
          },
          "metadata": {
            "tags": [],
            "needs_background": "light"
          }
        },
        {
          "output_type": "display_data",
          "data": {
            "image/png": "[encoded data removed]",
            "text/plain": [
              "<Figure size 432x288 with 1 Axes>"
            ]
          },
          "metadata": {
            "tags": [],
            "needs_background": "light"
          }
        }
      ]
    },
    {
      "cell_type": "code",
      "metadata": {
        "id": "o603wlvETgu8",
        "colab_type": "code",
        "outputId": "49646067-1dbd-4521-b7f6-77a4fc0f40e8",
        "colab": {
          "base_uri": "https://localhost:8080/",
          "height": 35
        }
      },
      "source": [
        "# Zapisanie pliku .csv porównując typ i predykcję, jest podane zdjęcie więc łatwo będzie sprawdzić co z nim nie tak\n",
        "# STEP_SIZE_TEST = test_generator.n // test_generator.batch_size\n",
        "test_generator.reset()\n",
        "probabilities = model.predict_generator(test_generator, \n",
        "                                        steps=STEP_SIZE_TEST,\n",
        "                                        verbose=1)\n",
        "predicted_class_indices = np.argmax(probabilities, axis=1)\n",
        "labels = (train_generator.class_indices)\n",
        "labels = dict((v, k) for k, v in labels.items())\n",
        "predictions = [labels[k] for k in predicted_class_indices]\n",
        "\n",
        "filenames = test_generator.filenames\n",
        "results=pd.DataFrame({\"Filename\": filenames,\n",
        "                      \"Predictions\": predictions,})\n",
        "results.to_csv(\"results.csv\", sep=';', index=False)"
      ],
      "execution_count": 6,
      "outputs": [
        {
          "output_type": "stream",
          "text": [
            "10943/10943 [==============================] - 30s 3ms/step\n"
          ],
          "name": "stdout"
        }
      ]
    },
    {
      "cell_type": "code",
      "metadata": {
        "id": "7RqKM_QPHz_n",
        "colab_type": "code",
        "colab": {}
      },
      "source": [
        "# Zapisanie modelu do pliku\n",
        "model.save('wczytywanie_zdjec_model.h5')"
      ],
      "execution_count": 0,
      "outputs": []
    }
  ]
}