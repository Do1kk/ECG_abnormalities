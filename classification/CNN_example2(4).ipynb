{
  "nbformat": 4,
  "nbformat_minor": 0,
  "metadata": {
    "colab": {
      "name": "CNN_example2.ipynb",
      "provenance": [],
      "collapsed_sections": [],
      "machine_shape": "hm"
    },
    "kernelspec": {
      "name": "python3",
      "display_name": "Python 3"
    },
    "accelerator": "GPU"
  },
  "cells": [
    {
      "cell_type": "code",
      "metadata": {
        "id": "tPXjQrhGqCFv",
        "colab_type": "code",
        "outputId": "c7b9e7e7-5121-4f57-e13d-ab53990cca3c",
        "colab": {
          "base_uri": "https://localhost:8080/",
          "height": 54
        }
      },
      "source": [
        "# Before everything\n",
        "from numpy.random import seed\n",
        "seed(1)\n",
        "import tensorflow\n",
        "tensorflow.random.set_seed(2)\n",
        "\n",
        "from numpy import load\n",
        "from keras.utils import to_categorical\n",
        "from keras.models import Sequential\n",
        "from keras.layers import Dense, Conv2D, Flatten, Dropout, MaxPooling2D\n",
        "from sklearn.model_selection import train_test_split\n",
        "import matplotlib.pyplot as plt\n",
        "import keras\n",
        "\n",
        "\n",
        "\n",
        "numpy_file_dir = \"drive/My Drive/NN_files/\"\n",
        "# load dict of arrays\n",
        "X_train_test = load(numpy_file_dir + \"X_train_test.npz\")\n",
        "y_train_test = load(numpy_file_dir + \"y_train_test.npz\")\n",
        "\n",
        "# extract the first array\n",
        "X_train_test = X_train_test[\"arr_0\"]# jest typ uint8\n",
        "y_train_test = y_train_test[\"arr_0\"]\n",
        "# check image shape\n",
        "print(X_train_test.shape)\n",
        "print(y_train_test.shape)\n",
        "\n",
        "\n",
        "\n",
        "\n",
        "# Split the data\n",
        "X_train, X_test, y_train, y_test = train_test_split(X_train_test, y_train_test, test_size=0.2, shuffle= True) # random_state=42\n",
        "\n",
        "# sprawdzić random state\n",
        "# print(y_test[:10]) # [1 5 5 5 0 3 4 0 0 0] jest dobrze, cały czas daje takie same losowe dane\n",
        "\n",
        "# one-hot encode target column\n",
        "y_train = to_categorical(y_train)\n",
        "y_test = to_categorical(y_test)\n",
        "\n",
        "# create model\n",
        "model = Sequential()\n",
        "\n",
        "# add model layers\n",
        "# 64 - liczba neuronów, kernel_size - maska 3x3,\n",
        "model.add(Conv2D(32, kernel_size=3, activation=\"relu\", input_shape=(220, 220, 3), data_format=\"channels_last\"))\n",
        "model.add(Conv2D(32, kernel_size=5, activation=\"relu\"))\n",
        "model.add(Conv2D(32, kernel_size=3, activation=\"relu\"))\n",
        "model.add(MaxPooling2D(pool_size=(2, 2)))\n",
        "model.add(Conv2D(32, kernel_size=3, activation=\"relu\"))\n",
        "# model.add(Dropout(0.3)) # użycie gdy jest przeuczony, dużo więcej acc niż val_acc\n",
        "model.add(Conv2D(32, kernel_size=3, activation=\"relu\"))\n",
        "model.add(Conv2D(16, kernel_size=3, activation=\"relu\"))\n",
        "model.add(MaxPooling2D(pool_size=(2, 2)))\n",
        "model.add(Conv2D(16, kernel_size=3, activation=\"relu\"))\n",
        "model.add(Conv2D(16, kernel_size=3, activation=\"relu\"))\n",
        "model.add(Conv2D(16, kernel_size=3, activation=\"relu\"))\n",
        "model.add(Conv2D(8, kernel_size=3, activation=\"relu\"))\n",
        "model.add(MaxPooling2D(pool_size=(2, 2)))\n",
        "model.add(Conv2D(8, kernel_size=3, activation=\"relu\"))\n",
        "model.add(Conv2D(8, kernel_size=3, activation=\"relu\"))\n",
        "# model.add(Conv2D(8, kernel_size=3, activation=\"relu\"))#\n",
        "# model.add(Conv2D(8, kernel_size=3, activation=\"relu\"))\n",
        "# model.add(Conv2D(8, kernel_size=3, activation=\"relu\"))\n",
        "# model.add(Conv2D(8, kernel_size=3, activation=\"relu\"))\n",
        "\n",
        "# warstwa łącząca conv2d z warstwą dense\n",
        "model.add(Flatten())\n",
        "# liczba taka ile wyjść, tu 10 liczb (u mnie będzie 6 wyjść bo tyle jest typów)\n",
        "model.add(Dense(6, activation=\"softmax\"))"
      ],
      "execution_count": 46,
      "outputs": [
        {
          "output_type": "stream",
          "text": [
            "(15240, 220, 220, 3)\n",
            "(15240,)\n"
          ],
          "name": "stdout"
        }
      ]
    },
    {
      "cell_type": "code",
      "metadata": {
        "id": "egi__Zu_qQr9",
        "colab_type": "code",
        "outputId": "3d66989b-078e-405d-e23e-10d2decc772c",
        "colab": {
          "base_uri": "https://localhost:8080/",
          "height": 770
        }
      },
      "source": [
        "# compile model using accuracy to measure model performance\n",
        "model.compile(optimizer=keras.optimizers.Adamax(learning_rate=0.001, beta_1=0.9, beta_2=0.999, epsilon=1e-07), loss=\"categorical_crossentropy\", metrics=[\"accuracy\"]) # Adadelta, Adam(learning_rate=0.005, beta_1=0.9, beta_2=0.999, amsgrad=False)\n",
        "\n",
        "# train the model\n",
        "history = model.fit(X_train, y_train, validation_data=(X_test, y_test), epochs=20, batch_size=200, shuffle=True)"
      ],
      "execution_count": 47,
      "outputs": [
        {
          "output_type": "stream",
          "text": [
            "Train on 12192 samples, validate on 3048 samples\n",
            "Epoch 1/20\n",
            "12192/12192 [==============================] - 31s 3ms/step - loss: 1.0943 - accuracy: 0.5641 - val_loss: 0.5841 - val_accuracy: 0.8018\n",
            "Epoch 2/20\n",
            "12192/12192 [==============================] - 31s 3ms/step - loss: 0.5063 - accuracy: 0.8338 - val_loss: 0.4274 - val_accuracy: 0.8711\n",
            "Epoch 3/20\n",
            "12192/12192 [==============================] - 31s 3ms/step - loss: 0.4168 - accuracy: 0.8672 - val_loss: 0.4005 - val_accuracy: 0.8812\n",
            "Epoch 4/20\n",
            "12192/12192 [==============================] - 31s 3ms/step - loss: 0.3770 - accuracy: 0.8789 - val_loss: 0.3511 - val_accuracy: 0.8947\n",
            "Epoch 5/20\n",
            "12192/12192 [==============================] - 31s 3ms/step - loss: 0.3376 - accuracy: 0.8921 - val_loss: 0.3143 - val_accuracy: 0.9009\n",
            "Epoch 6/20\n",
            "12192/12192 [==============================] - 31s 3ms/step - loss: 0.3362 - accuracy: 0.8897 - val_loss: 0.3394 - val_accuracy: 0.8927\n",
            "Epoch 7/20\n",
            "12192/12192 [==============================] - 31s 3ms/step - loss: 0.3122 - accuracy: 0.8974 - val_loss: 0.3351 - val_accuracy: 0.8917\n",
            "Epoch 8/20\n",
            "12192/12192 [==============================] - 31s 3ms/step - loss: 0.2925 - accuracy: 0.9072 - val_loss: 0.2963 - val_accuracy: 0.9094\n",
            "Epoch 9/20\n",
            "12192/12192 [==============================] - 31s 3ms/step - loss: 0.2743 - accuracy: 0.9093 - val_loss: 0.2729 - val_accuracy: 0.9117\n",
            "Epoch 10/20\n",
            "12192/12192 [==============================] - 31s 3ms/step - loss: 0.2575 - accuracy: 0.9166 - val_loss: 0.2727 - val_accuracy: 0.9114\n",
            "Epoch 11/20\n",
            "12192/12192 [==============================] - 31s 3ms/step - loss: 0.2771 - accuracy: 0.9083 - val_loss: 0.2698 - val_accuracy: 0.9157\n",
            "Epoch 12/20\n",
            "12192/12192 [==============================] - 31s 3ms/step - loss: 0.2473 - accuracy: 0.9185 - val_loss: 0.2525 - val_accuracy: 0.9190\n",
            "Epoch 13/20\n",
            "12192/12192 [==============================] - 31s 3ms/step - loss: 0.2363 - accuracy: 0.9215 - val_loss: 0.2536 - val_accuracy: 0.9216\n",
            "Epoch 14/20\n",
            "12192/12192 [==============================] - 31s 3ms/step - loss: 0.2327 - accuracy: 0.9236 - val_loss: 0.2581 - val_accuracy: 0.9190\n",
            "Epoch 15/20\n",
            "12192/12192 [==============================] - 31s 3ms/step - loss: 0.2193 - accuracy: 0.9281 - val_loss: 0.2466 - val_accuracy: 0.9226\n",
            "Epoch 16/20\n",
            "12192/12192 [==============================] - 31s 3ms/step - loss: 0.2184 - accuracy: 0.9290 - val_loss: 0.2778 - val_accuracy: 0.9163\n",
            "Epoch 17/20\n",
            "12192/12192 [==============================] - 31s 3ms/step - loss: 0.2079 - accuracy: 0.9318 - val_loss: 0.2324 - val_accuracy: 0.9295\n",
            "Epoch 18/20\n",
            "12192/12192 [==============================] - 31s 3ms/step - loss: 0.2011 - accuracy: 0.9367 - val_loss: 0.2268 - val_accuracy: 0.9295\n",
            "Epoch 19/20\n",
            "12192/12192 [==============================] - 31s 3ms/step - loss: 0.2080 - accuracy: 0.9349 - val_loss: 0.2350 - val_accuracy: 0.9291\n",
            "Epoch 20/20\n",
            "12192/12192 [==============================] - 31s 3ms/step - loss: 0.2011 - accuracy: 0.9343 - val_loss: 0.2238 - val_accuracy: 0.9298\n"
          ],
          "name": "stdout"
        }
      ]
    },
    {
      "cell_type": "code",
      "metadata": {
        "id": "4kLM-pBAawAG",
        "colab_type": "code",
        "outputId": "eebcfa71-6c8d-4f61-d527-47ffc10515ae",
        "colab": {
          "base_uri": "https://localhost:8080/",
          "height": 573
        }
      },
      "source": [
        "# summarize history for accuracy\n",
        "plt.plot(history.history['accuracy'])\n",
        "plt.plot(history.history['val_accuracy'])\n",
        "plt.title('model accuracy')\n",
        "plt.ylabel('accuracy')\n",
        "plt.xlabel('epoch')\n",
        "plt.legend(['train', 'test'], loc='upper left')\n",
        "plt.show()\n",
        "# summarize history for loss\n",
        "plt.plot(history.history['loss'])\n",
        "plt.plot(history.history['val_loss'])\n",
        "plt.title('model loss')\n",
        "plt.ylabel('loss')\n",
        "plt.xlabel('epoch')\n",
        "plt.legend(['train', 'test'], loc='upper left')\n",
        "plt.show()"
      ],
      "execution_count": 48,
      "outputs": [
        {
          "output_type": "display_data",
          "data": {
            "image/png": "[encoded data removed]",
            "text/plain": [
              "<Figure size 432x288 with 1 Axes>"
            ]
          },
          "metadata": {
            "tags": [],
            "needs_background": "light"
          }
        },
        {
          "output_type": "display_data",
          "data": {
            "image/png": "[encoded data removed]",
            "text/plain": [
              "<Figure size 432x288 with 1 Axes>"
            ]
          },
          "metadata": {
            "tags": [],
            "needs_background": "light"
          }
        }
      ]
    }
  ]
}