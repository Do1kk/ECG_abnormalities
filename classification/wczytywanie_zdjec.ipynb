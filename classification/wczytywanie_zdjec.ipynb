{
  "nbformat": 4,
  "nbformat_minor": 0,
  "metadata": {
    "colab": {
      "name": "wczytywanie_zdjec.ipynb",
      "provenance": [],
      "collapsed_sections": []
    },
    "kernelspec": {
      "name": "python3",
      "display_name": "Python 3"
    },
    "accelerator": "GPU"
  },
  "cells": [
    {
      "cell_type": "code",
      "metadata": {
        "id": "2B26GAZj10hv",
        "colab_type": "code",
        "colab": {}
      },
      "source": [
        "!unzip -q '/content/drive/My Drive/images.zip' -d '/content'"
      ],
      "execution_count": 0,
      "outputs": []
    },
    {
      "cell_type": "code",
      "metadata": {
        "id": "y4dK-C_DgNIJ",
        "colab_type": "code",
        "outputId": "8d2f17da-80c2-4443-f26f-1b893856c734",
        "colab": {
          "base_uri": "https://localhost:8080/",
          "height": 54
        }
      },
      "source": [
        "from numpy.random import seed\n",
        "seed(1)\n",
        "import tensorflow\n",
        "tensorflow.random.set_seed(2)\n",
        "\n",
        "import os\n",
        "import tensorflow as tf\n",
        "from tensorflow.keras.preprocessing.image import ImageDataGenerator\n",
        "import numpy as np\n",
        "import matplotlib.pyplot as plt\n",
        "import keras\n",
        "from sklearn.model_selection import train_test_split\n",
        "from keras.utils import to_categorical\n",
        "from keras.models import Sequential\n",
        "from keras.layers import Dense, Conv2D, Flatten, Dropout, MaxPooling2D\n",
        "from sklearn.metrics import classification_report\n",
        "\n",
        "batch_size = 64\n",
        "epochs = 10\n",
        "IMG_HEIGHT, IMG_WIDTH, channels = 220, 220, 3\n",
        "\n",
        "dir = '/content/'\n",
        "train_dir = os.path.join(dir, 'images')\n",
        "\n",
        "train_gen = ImageDataGenerator(rescale=1.0/255.,\n",
        "                               validation_split=0.2) # ustawienie podziału na 80 i 20 proc\n",
        "                               # zmienić coś z tym validation bo TO NA PEWNO nie dzieli randomowo\n",
        "\n",
        "# do podzielenia danych można użyć i tego\n",
        "# https://pypi.org/project/split-folders/\n",
        "\n",
        "train_generator = train_gen.flow_from_directory(\n",
        "    train_dir,\n",
        "    batch_size=batch_size,\n",
        "    shuffle=True,\n",
        "    color_mode=\"rgb\",\n",
        "    class_mode='categorical',\n",
        "    target_size=(IMG_HEIGHT, IMG_WIDTH),\n",
        "    subset='training')\n",
        "\n",
        "validation_generator = train_gen.flow_from_directory(\n",
        "    train_dir,\n",
        "    batch_size=batch_size,\n",
        "    shuffle=False,\n",
        "    color_mode=\"rgb\",\n",
        "    class_mode='categorical',\n",
        "    target_size=(IMG_HEIGHT, IMG_WIDTH),\n",
        "    subset='validation')"
      ],
      "execution_count": 7,
      "outputs": [
        {
          "output_type": "stream",
          "text": [
            "Found 85599 images belonging to 6 classes.\n",
            "Found 21396 images belonging to 6 classes.\n"
          ],
          "name": "stdout"
        }
      ]
    },
    {
      "cell_type": "code",
      "metadata": {
        "id": "Qm1dl-Kdg3Na",
        "colab_type": "code",
        "outputId": "c358a471-51c9-43fb-cb7a-05eb3612eb8d",
        "colab": {
          "base_uri": "https://localhost:8080/",
          "height": 403
        }
      },
      "source": [
        "model = Sequential()\n",
        "\n",
        "# add model layers\n",
        "model.add(Conv2D(32, kernel_size=3, activation=\"relu\", \n",
        "                 input_shape=(IMG_HEIGHT, IMG_WIDTH, 3), data_format=\"channels_last\"))\n",
        "model.add(Conv2D(32, kernel_size=5, activation=\"relu\"))\n",
        "model.add(Conv2D(32, kernel_size=3, activation=\"relu\"))\n",
        "model.add(MaxPooling2D(pool_size=(2, 2)))\n",
        "model.add(Conv2D(32, kernel_size=3, activation=\"relu\"))\n",
        "# model.add(Dropout(0.3)) # użycie gdy jest przeuczony, dużo więcej acc niż val_acc\n",
        "model.add(Conv2D(32, kernel_size=3, activation=\"relu\"))\n",
        "model.add(Conv2D(16, kernel_size=3, activation=\"relu\"))\n",
        "model.add(MaxPooling2D(pool_size=(2, 2)))\n",
        "model.add(Conv2D(16, kernel_size=3, activation=\"relu\"))\n",
        "model.add(Conv2D(16, kernel_size=3, activation=\"relu\"))\n",
        "model.add(Conv2D(16, kernel_size=3, activation=\"relu\"))\n",
        "model.add(MaxPooling2D(pool_size=(2, 2)))\n",
        "model.add(Conv2D(8, kernel_size=3, activation=\"relu\"))\n",
        "model.add(Conv2D(8, kernel_size=3, activation=\"relu\"))\n",
        "model.add(MaxPooling2D(pool_size=(2, 2)))\n",
        "model.add(Conv2D(8, kernel_size=3, activation=\"relu\"))\n",
        "model.add(Conv2D(16, kernel_size=3, activation=\"relu\"))\n",
        "# warstwa łącząca conv2d z warstwą dense\n",
        "model.add(Flatten())\n",
        "# liczba taka ile wyjść, czyli 6 bo tyle jest typów\n",
        "model.add(Dense(6, activation=\"softmax\"))\n",
        "\n",
        "# compile model using accuracy to measure model performance\n",
        "model.compile(optimizer=keras.optimizers.Adamax(learning_rate=0.001, beta_1=0.9, beta_2=0.999, epsilon=1e-07), \n",
        "              loss=\"categorical_crossentropy\", metrics=[\"accuracy\"])\n",
        "\n",
        "history = model.fit_generator(train_generator, \n",
        "                              validation_data = validation_generator,\n",
        "                              steps_per_epoch=train_generator.samples // batch_size,\n",
        "                              use_multiprocessing=True, workers=4, epochs=epochs, shuffle=True)"
      ],
      "execution_count": 8,
      "outputs": [
        {
          "output_type": "stream",
          "text": [
            "Epoch 1/10\n",
            "1337/1337 [==============================] - 291s 218ms/step - loss: 0.6837 - accuracy: 0.7769 - val_loss: 1.3710 - val_accuracy: 0.8641\n",
            "Epoch 2/10\n",
            "1337/1337 [==============================] - 292s 218ms/step - loss: 0.3558 - accuracy: 0.8934 - val_loss: 1.1479 - val_accuracy: 0.9074\n",
            "Epoch 3/10\n",
            "1337/1337 [==============================] - 292s 218ms/step - loss: 0.2842 - accuracy: 0.9169 - val_loss: 1.3580 - val_accuracy: 0.9133\n",
            "Epoch 4/10\n",
            "1337/1337 [==============================] - 290s 217ms/step - loss: 0.2553 - accuracy: 0.9250 - val_loss: 1.1540 - val_accuracy: 0.9189\n",
            "Epoch 5/10\n",
            "1337/1337 [==============================] - 291s 218ms/step - loss: 0.2396 - accuracy: 0.9296 - val_loss: 1.1700 - val_accuracy: 0.9139\n",
            "Epoch 6/10\n",
            "1337/1337 [==============================] - 290s 217ms/step - loss: 0.2277 - accuracy: 0.9335 - val_loss: 0.6795 - val_accuracy: 0.9114\n",
            "Epoch 7/10\n",
            "1337/1337 [==============================] - 290s 217ms/step - loss: 0.2171 - accuracy: 0.9358 - val_loss: 0.9729 - val_accuracy: 0.9130\n",
            "Epoch 8/10\n",
            "Epoch 7/10\n",
            "1337/1337 [==============================] - 290s 217ms/step - loss: 0.2082 - accuracy: 0.9381 - val_loss: 0.9697 - val_accuracy: 0.9193\n",
            "Epoch 9/10\n",
            "1337/1337 [==============================] - 289s 216ms/step - loss: 0.1990 - accuracy: 0.9415 - val_loss: 2.2353 - val_accuracy: 0.8938\n",
            "Epoch 10/10\n",
            "1337/1337 [==============================] - 291s 217ms/step - loss: 0.1919 - accuracy: 0.9430 - val_loss: 0.8778 - val_accuracy: 0.9034\n"
          ],
          "name": "stdout"
        }
      ]
    },
    {
      "cell_type": "code",
      "metadata": {
        "id": "VXXIgwo5-rqb",
        "colab_type": "code",
        "outputId": "9d2d5181-dd94-4bd2-ecdf-e61c3d7d91a4",
        "colab": {
          "base_uri": "https://localhost:8080/",
          "height": 329
        }
      },
      "source": [
        "validation_generator.reset()\n",
        "probabilities = model.predict_generator(validation_generator, verbose=1)\n",
        "\n",
        "y_test = probabilities.argmax(axis=1)\n",
        "y_pred = validation_generator.classes\n",
        "print(classification_report(y_test, y_pred))\n",
        "\n",
        "scores = model.evaluate_generator(validation_generator, verbose=1)\n",
        "print(model.metrics_names[0] + \" = \", scores[0])\n",
        "print(model.metrics_names[1] + \" = \", scores[1])"
      ],
      "execution_count": 9,
      "outputs": [
        {
          "output_type": "stream",
          "text": [
            "335/335 [==============================] - 41s 122ms/step\n",
            "              precision    recall  f1-score   support\n",
            "\n",
            "           0       0.47      0.96      0.63       249\n",
            "           1       0.95      0.72      0.82      2131\n",
            "           2       0.93      0.98      0.95     14222\n",
            "           3       0.99      0.99      0.99      1406\n",
            "           4       0.99      0.87      0.93      1650\n",
            "           5       0.59      0.48      0.53      1738\n",
            "\n",
            "    accuracy                           0.90     21396\n",
            "   macro avg       0.82      0.83      0.81     21396\n",
            "weighted avg       0.91      0.90      0.90     21396\n",
            "\n",
            "335/335 [==============================] - 41s 122ms/step\n",
            "loss =  0.877837061882019\n",
            "accuracy =  0.9033931493759155\n"
          ],
          "name": "stdout"
        }
      ]
    },
    {
      "cell_type": "code",
      "metadata": {
        "id": "LRq_XHmAsB1d",
        "colab_type": "code",
        "outputId": "dcf07ca0-be5c-45c1-c676-c51494b3d26f",
        "colab": {
          "base_uri": "https://localhost:8080/",
          "height": 573
        }
      },
      "source": [
        "# summarize history for accuracy\n",
        "plt.plot(history.history['accuracy'])\n",
        "plt.plot(history.history['val_accuracy'])\n",
        "plt.title('model accuracy')\n",
        "plt.ylabel('accuracy')\n",
        "plt.xlabel('epoch')\n",
        "plt.legend(['train', 'test'], loc='upper left')\n",
        "plt.show()\n",
        "# summarize history for loss\n",
        "plt.plot(history.history['loss'])\n",
        "plt.plot(history.history['val_loss'])\n",
        "plt.title('model loss')\n",
        "plt.ylabel('loss')\n",
        "plt.xlabel('epoch')\n",
        "plt.legend(['train', 'test'], loc='upper left')\n",
        "plt.show()"
      ],
      "execution_count": 10,
      "outputs": [
        {
          "output_type": "display_data",
          "data": {
            "image/png": "[encoded data removed]",
            "text/plain": [
              "<Figure size 432x288 with 1 Axes>"
            ]
          },
          "metadata": {
            "tags": [],
            "needs_background": "light"
          }
        },
        {
          "output_type": "display_data",
          "data": {
            "image/png": "[encoded data removed]",
            "text/plain": [
              "<Figure size 432x288 with 1 Axes>"
            ]
          },
          "metadata": {
            "tags": [],
            "needs_background": "light"
          }
        }
      ]
    },
    {
      "cell_type": "code",
      "metadata": {
        "id": "7RqKM_QPHz_n",
        "colab_type": "code",
        "colab": {}
      },
      "source": [
        "# Zapisanie modelu do pliku\n",
        "model.save('model.h5')"
      ],
      "execution_count": 0,
      "outputs": []
    }
  ]
}