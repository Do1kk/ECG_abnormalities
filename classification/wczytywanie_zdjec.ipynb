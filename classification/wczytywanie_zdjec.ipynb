{
  "nbformat": 4,
  "nbformat_minor": 0,
  "metadata": {
    "colab": {
      "name": "wczytywanie_zdjec.ipynb",
      "provenance": [],
      "collapsed_sections": []
    },
    "kernelspec": {
      "name": "python3",
      "display_name": "Python 3"
    },
    "accelerator": "GPU"
  },
  "cells": [
    {
      "cell_type": "code",
      "metadata": {
        "id": "2B26GAZj10hv",
        "colab_type": "code",
        "colab": {}
      },
      "source": [
        "_ = !unzip '/content/drive/My Drive/images.zip' -d '/content'"
      ],
      "execution_count": 0,
      "outputs": []
    },
    {
      "cell_type": "code",
      "metadata": {
        "id": "y4dK-C_DgNIJ",
        "colab_type": "code",
        "colab": {
          "base_uri": "https://localhost:8080/",
          "height": 54
        },
        "outputId": "be53271c-1110-4e49-8e7d-0b4988cbe5a3"
      },
      "source": [
        "from numpy.random import seed\n",
        "seed(1)\n",
        "import tensorflow\n",
        "tensorflow.random.set_seed(2)\n",
        "\n",
        "import os\n",
        "import tensorflow as tf\n",
        "from tensorflow.keras.preprocessing.image import ImageDataGenerator\n",
        "import numpy as np\n",
        "import matplotlib.pyplot as plt\n",
        "import keras\n",
        "from sklearn.model_selection import train_test_split\n",
        "from keras.utils import to_categorical\n",
        "from keras.models import Sequential\n",
        "from keras.layers import Dense, Conv2D, Flatten, Dropout, MaxPooling2D\n",
        "from sklearn.metrics import classification_report\n",
        "\n",
        "batch_size = 64\n",
        "epochs = 3\n",
        "IMG_HEIGHT, IMG_WIDTH, channels = 220, 220, 3\n",
        "\n",
        "dir = '/content/'\n",
        "train_dir = os.path.join(dir, 'images')\n",
        "\n",
        "train_gen = ImageDataGenerator(rescale=1.0/255.,\n",
        "                               validation_split=0.2) # ustawienie podziału na 80 i 20 proc\n",
        "\n",
        "train_generator = train_gen.flow_from_directory(\n",
        "    train_dir,\n",
        "    batch_size=batch_size,\n",
        "    shuffle=True,\n",
        "    color_mode=\"rgb\",\n",
        "    class_mode='categorical',\n",
        "    target_size=(IMG_HEIGHT, IMG_WIDTH),\n",
        "    subset='training')\n",
        "\n",
        "validation_generator = train_gen.flow_from_directory(\n",
        "    train_dir,\n",
        "    batch_size=batch_size,\n",
        "    shuffle=False,\n",
        "    color_mode=\"rgb\",\n",
        "    class_mode='categorical',\n",
        "    target_size=(IMG_HEIGHT, IMG_WIDTH),\n",
        "    subset='validation')"
      ],
      "execution_count": 36,
      "outputs": [
        {
          "output_type": "stream",
          "text": [
            "Found 12192 images belonging to 6 classes.\n",
            "Found 3048 images belonging to 6 classes.\n"
          ],
          "name": "stdout"
        }
      ]
    },
    {
      "cell_type": "code",
      "metadata": {
        "id": "Qm1dl-Kdg3Na",
        "colab_type": "code",
        "colab": {
          "base_uri": "https://localhost:8080/",
          "height": 146
        },
        "outputId": "8356f296-3dd0-4927-8fd1-54f67369c4ff"
      },
      "source": [
        "model = Sequential()\n",
        "\n",
        "# add model layers\n",
        "model.add(Conv2D(32, kernel_size=3, activation=\"relu\", \n",
        "                 input_shape=(IMG_HEIGHT, IMG_WIDTH, 3), data_format=\"channels_last\"))\n",
        "model.add(Conv2D(32, kernel_size=5, activation=\"relu\"))\n",
        "model.add(Conv2D(32, kernel_size=3, activation=\"relu\"))\n",
        "model.add(MaxPooling2D(pool_size=(2, 2)))\n",
        "model.add(Conv2D(32, kernel_size=3, activation=\"relu\"))\n",
        "# model.add(Dropout(0.3)) # użycie gdy jest przeuczony, dużo więcej acc niż val_acc\n",
        "model.add(Conv2D(32, kernel_size=3, activation=\"relu\"))\n",
        "model.add(Conv2D(16, kernel_size=3, activation=\"relu\"))\n",
        "model.add(MaxPooling2D(pool_size=(2, 2)))\n",
        "model.add(Conv2D(16, kernel_size=3, activation=\"relu\"))\n",
        "model.add(Conv2D(16, kernel_size=3, activation=\"relu\"))\n",
        "model.add(Conv2D(16, kernel_size=3, activation=\"relu\"))\n",
        "model.add(MaxPooling2D(pool_size=(2, 2)))\n",
        "model.add(Conv2D(8, kernel_size=3, activation=\"relu\"))\n",
        "model.add(Conv2D(8, kernel_size=3, activation=\"relu\"))\n",
        "model.add(MaxPooling2D(pool_size=(2, 2)))\n",
        "model.add(Conv2D(8, kernel_size=3, activation=\"relu\"))\n",
        "model.add(Conv2D(16, kernel_size=3, activation=\"relu\"))\n",
        "# warstwa łącząca conv2d z warstwą dense\n",
        "model.add(Flatten())\n",
        "# liczba taka ile wyjść, czyli 6 bo tyle jest typów\n",
        "model.add(Dense(6, activation=\"softmax\"))\n",
        "\n",
        "# compile model using accuracy to measure model performance\n",
        "model.compile(optimizer=keras.optimizers.Adamax(learning_rate=0.001, beta_1=0.9, beta_2=0.999, epsilon=1e-07), \n",
        "              loss=\"categorical_crossentropy\", metrics=[\"accuracy\"])\n",
        "\n",
        "history = model.fit_generator(train_generator, \n",
        "                              validation_data = validation_generator,\n",
        "                              steps_per_epoch=train_generator.samples // batch_size,\n",
        "                              use_multiprocessing=True, workers=6, epochs=epochs, shuffle=True)"
      ],
      "execution_count": 37,
      "outputs": [
        {
          "output_type": "stream",
          "text": [
            "Epoch 1/3\n",
            "189/190 [============================>.] - ETA: 0s - loss: 1.0668 - accuracy: 0.5904Epoch 1/3\n",
            "190/190 [==============================] - 113s 594ms/step - loss: 1.0641 - accuracy: 0.5914 - val_loss: 0.7769 - val_accuracy: 0.8297\n",
            "Epoch 2/3\n",
            "190/190 [==============================] - 105s 550ms/step - loss: 0.4924 - accuracy: 0.8484 - val_loss: 0.9186 - val_accuracy: 0.8753\n",
            "Epoch 3/3\n",
            "190/190 [==============================] - 105s 553ms/step - loss: 0.3663 - accuracy: 0.8920 - val_loss: 0.5921 - val_accuracy: 0.9055\n"
          ],
          "name": "stdout"
        }
      ]
    },
    {
      "cell_type": "code",
      "metadata": {
        "id": "VXXIgwo5-rqb",
        "colab_type": "code",
        "colab": {
          "base_uri": "https://localhost:8080/",
          "height": 329
        },
        "outputId": "eb3a3736-6a82-460e-fbca-ac8cfca1df28"
      },
      "source": [
        "validation_generator.reset()\n",
        "probabilities = model.predict_generator(validation_generator, verbose=1)\n",
        "# preds_cls_idx = probabilities.argmax(axis=1)\n",
        "\n",
        "y_test = probabilities.argmax(axis=1)\n",
        "y_pred = validation_generator.classes\n",
        "print(classification_report(y_test, y_pred))\n",
        "\n",
        "scores = model.evaluate_generator(validation_generator, verbose=1)\n",
        "print(model.metrics_names[0] + \" = \", scores[0])\n",
        "print(model.metrics_names[1] + \" = \", scores[1])"
      ],
      "execution_count": 76,
      "outputs": [
        {
          "output_type": "stream",
          "text": [
            "48/48 [==============================] - 9s 197ms/step\n",
            "              precision    recall  f1-score   support\n",
            "\n",
            "           0       0.62      0.96      0.75       330\n",
            "           1       1.00      0.99      0.99       512\n",
            "           2       0.98      0.90      0.94       556\n",
            "           3       1.00      1.00      1.00       508\n",
            "           4       1.00      0.72      0.83       706\n",
            "           5       0.84      0.98      0.90       436\n",
            "\n",
            "    accuracy                           0.91      3048\n",
            "   macro avg       0.91      0.92      0.90      3048\n",
            "weighted avg       0.93      0.91      0.91      3048\n",
            "\n",
            "48/48 [==============================] - 10s 198ms/step\n",
            "loss =  0.5920587778091431\n",
            "accuracy =  0.9055117964744568\n"
          ],
          "name": "stdout"
        }
      ]
    },
    {
      "cell_type": "code",
      "metadata": {
        "id": "LRq_XHmAsB1d",
        "colab_type": "code",
        "colab": {
          "base_uri": "https://localhost:8080/",
          "height": 573
        },
        "outputId": "15523f52-a733-49d2-e114-dcdd0d45f8c2"
      },
      "source": [
        "# summarize history for accuracy\n",
        "plt.plot(history.history['accuracy'])\n",
        "plt.plot(history.history['val_accuracy'])\n",
        "plt.title('model accuracy')\n",
        "plt.ylabel('accuracy')\n",
        "plt.xlabel('epoch')\n",
        "plt.legend(['train', 'test'], loc='upper left')\n",
        "plt.show()\n",
        "# summarize history for loss\n",
        "plt.plot(history.history['loss'])\n",
        "plt.plot(history.history['val_loss'])\n",
        "plt.title('model loss')\n",
        "plt.ylabel('loss')\n",
        "plt.xlabel('epoch')\n",
        "plt.legend(['train', 'test'], loc='upper left')\n",
        "plt.show()"
      ],
      "execution_count": 78,
      "outputs": [
        {
          "output_type": "display_data",
          "data": {
            "image/png": "[encoded data removed]",
            "text/plain": [
              "<Figure size 432x288 with 1 Axes>"
            ]
          },
          "metadata": {
            "tags": [],
            "needs_background": "light"
          }
        },
        {
          "output_type": "display_data",
          "data": {
            "image/png": "[encoded data removed]",
            "text/plain": [
              "<Figure size 432x288 with 1 Axes>"
            ]
          },
          "metadata": {
            "tags": [],
            "needs_background": "light"
          }
        }
      ]
    },
    {
      "cell_type": "code",
      "metadata": {
        "id": "7RqKM_QPHz_n",
        "colab_type": "code",
        "colab": {}
      },
      "source": [
        "# Zapisanie modelu do pliku\n",
        "model.save('model.h5')"
      ],
      "execution_count": 0,
      "outputs": []
    }
  ]
}