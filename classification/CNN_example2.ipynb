{
  "nbformat": 4,
  "nbformat_minor": 0,
  "metadata": {
    "colab": {
      "name": "CNN_example2.ipynb",
      "provenance": [],
      "collapsed_sections": [],
      "machine_shape": "hm"
    },
    "kernelspec": {
      "name": "python3",
      "display_name": "Python 3"
    },
    "accelerator": "GPU"
  },
  "cells": [
    {
      "cell_type": "code",
      "metadata": {
        "id": "tPXjQrhGqCFv",
        "colab_type": "code",
        "outputId": "88979222-dfea-4f0d-fb45-c61d0fa34634",
        "colab": {
          "base_uri": "https://localhost:8080/",
          "height": 72
        }
      },
      "source": [
        "# Before everything\n",
        "from numpy.random import seed\n",
        "seed(1)\n",
        "import tensorflow\n",
        "tensorflow.random.set_seed(2)\n",
        "\n",
        "from numpy import load\n",
        "from keras.utils import to_categorical\n",
        "from keras.models import Sequential\n",
        "from keras.layers import Dense, Conv2D, Flatten, Dropout, MaxPooling2D\n",
        "from sklearn.model_selection import train_test_split\n",
        "import matplotlib.pyplot as plt\n",
        "import keras\n",
        "from sklearn.metrics import classification_report\n",
        "import numpy as np\n",
        "\n",
        "numpy_file_dir = \"drive/My Drive/NN_files/\"\n",
        "# load dict of arrays and extract the first array\n",
        "X_train_test = np.load(numpy_file_dir + \"X_train_test.npz\")[\"arr_0\"]\n",
        "y_train_test = np.load(numpy_file_dir + \"y_train_test.npz\")[\"arr_0\"]\n",
        "\n",
        "# check image shape\n",
        "print(X_train_test.shape)\n",
        "print(y_train_test.shape)\n",
        "\n",
        "# Split the data\n",
        "X_train, X_test, y_train, y_test = train_test_split(X_train_test, y_train_test, test_size=0.2, shuffle= True) # random_state=42\n",
        "\n",
        "# one-hot encode target column\n",
        "y_train = to_categorical(y_train)\n",
        "y_test = to_categorical(y_test)\n",
        "\n",
        "# create model\n",
        "model = Sequential()\n",
        "\n",
        "# add model layers\n",
        "model.add(Conv2D(32, kernel_size=3, activation=\"relu\", input_shape=(220, 220, 3), data_format=\"channels_last\"))\n",
        "model.add(Conv2D(32, kernel_size=5, activation=\"relu\"))\n",
        "model.add(Conv2D(32, kernel_size=3, activation=\"relu\"))\n",
        "model.add(MaxPooling2D(pool_size=(2, 2)))\n",
        "model.add(Conv2D(32, kernel_size=3, activation=\"relu\"))\n",
        "# model.add(Dropout(0.3)) # użycie gdy jest przeuczony, dużo więcej acc niż val_acc\n",
        "model.add(Conv2D(32, kernel_size=3, activation=\"relu\"))\n",
        "model.add(Conv2D(16, kernel_size=3, activation=\"relu\"))\n",
        "model.add(MaxPooling2D(pool_size=(2, 2)))\n",
        "model.add(Conv2D(16, kernel_size=3, activation=\"relu\"))\n",
        "model.add(Conv2D(16, kernel_size=3, activation=\"relu\"))\n",
        "model.add(Conv2D(16, kernel_size=3, activation=\"relu\"))\n",
        "model.add(MaxPooling2D(pool_size=(2, 2)))\n",
        "model.add(Conv2D(8, kernel_size=3, activation=\"relu\"))\n",
        "model.add(Conv2D(8, kernel_size=3, activation=\"relu\"))\n",
        "model.add(MaxPooling2D(pool_size=(2, 2)))\n",
        "model.add(Conv2D(8, kernel_size=3, activation=\"relu\"))\n",
        "model.add(Conv2D(16, kernel_size=3, activation=\"relu\"))\n",
        "\n",
        "# warstwa łącząca conv2d z warstwą dense\n",
        "model.add(Flatten())\n",
        "# liczba taka ile wyjść, tu 10 liczb (u mnie będzie 6 wyjść bo tyle jest typów)\n",
        "model.add(Dense(6, activation=\"softmax\"))"
      ],
      "execution_count": 0,
      "outputs": [
        {
          "output_type": "stream",
          "text": [
            "Using TensorFlow backend.\n"
          ],
          "name": "stderr"
        },
        {
          "output_type": "stream",
          "text": [
            "(15240, 220, 220, 3)\n",
            "(15240,)\n"
          ],
          "name": "stdout"
        }
      ]
    },
    {
      "cell_type": "code",
      "metadata": {
        "id": "egi__Zu_qQr9",
        "colab_type": "code",
        "outputId": "69e2871e-0728-4a0e-fadc-fbc3a64fe948",
        "colab": {
          "base_uri": "https://localhost:8080/",
          "height": 146
        }
      },
      "source": [
        "# compile model using accuracy to measure model performance\n",
        "model.compile(optimizer=keras.optimizers.Adamax(learning_rate=0.001, beta_1=0.9, beta_2=0.999, epsilon=1e-07), \n",
        "              loss=\"categorical_crossentropy\", metrics=[\"accuracy\"]) # Adadelta, Adam(learning_rate=0.005, beta_1=0.9, beta_2=0.999, amsgrad=False)\n",
        "\n",
        "# train the model\n",
        "history = model.fit(X_train, y_train, \n",
        "                    validation_data=(X_test, y_test), \n",
        "                    epochs=3, batch_size=32, use_multiprocessing=True, shuffle=True)"
      ],
      "execution_count": 0,
      "outputs": [
        {
          "output_type": "stream",
          "text": [
            "Train on 12192 samples, validate on 3048 samples\n",
            "Epoch 1/3\n",
            "12192/12192 [==============================] - 121s 10ms/step - loss: 1.2047 - accuracy: 0.4985 - val_loss: 0.8945 - val_accuracy: 0.6444\n",
            "Epoch 2/3\n",
            "12192/12192 [==============================] - 106s 9ms/step - loss: 0.6923 - accuracy: 0.7260 - val_loss: 0.6049 - val_accuracy: 0.7792\n",
            "Epoch 3/3\n",
            "12192/12192 [==============================] - 106s 9ms/step - loss: 0.5849 - accuracy: 0.7830 - val_loss: 0.5304 - val_accuracy: 0.8110\n"
          ],
          "name": "stdout"
        }
      ]
    },
    {
      "cell_type": "code",
      "metadata": {
        "id": "sOJJ8YY7X6kl",
        "colab_type": "code",
        "outputId": "ca201dc6-ca5f-4b54-a3f1-b9cc11f12c00",
        "colab": {
          "base_uri": "https://localhost:8080/",
          "height": 256
        }
      },
      "source": [
        "Y_test = np.argmax(y_test, axis=1) # Convert one-hot to index\n",
        "y_pred = model.predict_classes(X_test)\n",
        "print(classification_report(Y_test, y_pred))"
      ],
      "execution_count": 0,
      "outputs": [
        {
          "output_type": "stream",
          "text": [
            "              precision    recall  f1-score   support\n",
            "\n",
            "           0       0.85      0.86      0.85       526\n",
            "           1       0.97      0.80      0.88       497\n",
            "           2       0.69      0.88      0.78       484\n",
            "           3       0.74      0.51      0.60       506\n",
            "           4       0.68      0.81      0.74       501\n",
            "           5       0.97      1.00      0.99       534\n",
            "\n",
            "    accuracy                           0.81      3048\n",
            "   macro avg       0.82      0.81      0.81      3048\n",
            "weighted avg       0.82      0.81      0.81      3048\n",
            "\n"
          ],
          "name": "stdout"
        }
      ]
    },
    {
      "cell_type": "code",
      "metadata": {
        "id": "4kLM-pBAawAG",
        "colab_type": "code",
        "outputId": "3dd70c9b-ad69-45e7-8e5e-9c6cb4e74382",
        "colab": {
          "base_uri": "https://localhost:8080/",
          "height": 573
        }
      },
      "source": [
        "# summarize history for accuracy\n",
        "plt.plot(history.history['accuracy'])\n",
        "plt.plot(history.history['val_accuracy'])\n",
        "plt.title('model accuracy')\n",
        "plt.ylabel('accuracy')\n",
        "plt.xlabel('epoch')\n",
        "plt.legend(['train', 'test'], loc='upper left')\n",
        "plt.show()\n",
        "# summarize history for loss\n",
        "plt.plot(history.history['loss'])\n",
        "plt.plot(history.history['val_loss'])\n",
        "plt.title('model loss')\n",
        "plt.ylabel('loss')\n",
        "plt.xlabel('epoch')\n",
        "plt.legend(['train', 'test'], loc='upper left')\n",
        "plt.show()"
      ],
      "execution_count": 0,
      "outputs": [
        {
          "output_type": "display_data",
          "data": {
            "image/png": "[encoded data removed]",
            "text/plain": [
              "<Figure size 432x288 with 1 Axes>"
            ]
          },
          "metadata": {
            "tags": [],
            "needs_background": "light"
          }
        },
        {
          "output_type": "display_data",
          "data": {
            "image/png": "[encoded data removed]",
            "text/plain": [
              "<Figure size 432x288 with 1 Axes>"
            ]
          },
          "metadata": {
            "tags": [],
            "needs_background": "light"
          }
        }
      ]
    },
    {
      "cell_type": "code",
      "metadata": {
        "id": "YUBN_lrgRaMf",
        "colab_type": "code",
        "colab": {}
      },
      "source": [
        "# Zapisanie modelu do pliku\n",
        "model.save('model.h5')"
      ],
      "execution_count": 0,
      "outputs": []
    }
  ]
}