{
  "nbformat": 4,
  "nbformat_minor": 0,
  "metadata": {
    "colab": {
      "name": "CNN_example2.ipynb",
      "provenance": [],
      "collapsed_sections": [],
      "machine_shape": "hm"
    },
    "kernelspec": {
      "name": "python3",
      "display_name": "Python 3"
    },
    "accelerator": "GPU"
  },
  "cells": [
    {
      "cell_type": "code",
      "metadata": {
        "id": "tPXjQrhGqCFv",
        "colab_type": "code",
        "outputId": "f5fecdc5-ac41-4b2e-879e-c56b21735121",
        "colab": {
          "base_uri": "https://localhost:8080/",
          "height": 54
        }
      },
      "source": [
        "# Before everything\n",
        "from numpy.random import seed\n",
        "seed(1)\n",
        "import tensorflow\n",
        "tensorflow.random.set_seed(2)\n",
        "\n",
        "from numpy import load\n",
        "from keras.utils import to_categorical\n",
        "from keras.models import Sequential\n",
        "from keras.layers import Dense, Conv2D, Flatten, Dropout, MaxPooling2D\n",
        "from sklearn.model_selection import train_test_split\n",
        "import matplotlib.pyplot as plt\n",
        "import keras\n",
        "\n",
        "\n",
        "\n",
        "numpy_file_dir = \"drive/My Drive/NN_files/\"\n",
        "# load dict of arrays\n",
        "X_train_test = load(numpy_file_dir + \"X_train_test.npz\")\n",
        "y_train_test = load(numpy_file_dir + \"y_train_test.npz\")\n",
        "\n",
        "# extract the first array\n",
        "X_train_test = X_train_test[\"arr_0\"]# jest typ uint8\n",
        "y_train_test = y_train_test[\"arr_0\"]\n",
        "# check image shape\n",
        "print(X_train_test.shape)\n",
        "print(y_train_test.shape)\n",
        "\n",
        "\n",
        "\n",
        "\n",
        "# Split the data\n",
        "X_train, X_test, y_train, y_test = train_test_split(X_train_test, y_train_test, test_size=0.2, shuffle= True) # random_state=42\n",
        "\n",
        "# sprawdzić random state\n",
        "# print(y_test[:10]) # [1 5 5 5 0 3 4 0 0 0] jest dobrze, cały czas daje takie same losowe dane\n",
        "\n",
        "# one-hot encode target column\n",
        "y_train = to_categorical(y_train)\n",
        "y_test = to_categorical(y_test)\n",
        "\n",
        "# create model\n",
        "model = Sequential()\n",
        "\n",
        "# add model layers\n",
        "# 64 - liczba neuronów, kernel_size - maska 3x3,\n",
        "model.add(Conv2D(32, kernel_size=3, activation=\"relu\", input_shape=(220, 220, 3), data_format=\"channels_last\"))\n",
        "# model.add(Dropout(0.5))\n",
        "model.add(Conv2D(32, kernel_size=5, activation=\"relu\"))#\n",
        "model.add(Conv2D(32, kernel_size=3, activation=\"relu\"))\n",
        "model.add(MaxPooling2D(pool_size=(2, 2)))\n",
        "model.add(Conv2D(32, kernel_size=3, activation=\"relu\"))\n",
        "# model.add(Dropout(0.5))\n",
        "model.add(Conv2D(32, kernel_size=3, activation=\"relu\"))\n",
        "model.add(Conv2D(16, kernel_size=3, activation=\"relu\"))\n",
        "model.add(MaxPooling2D(pool_size=(2, 2)))\n",
        "model.add(Conv2D(16, kernel_size=3, activation=\"relu\"))\n",
        "# model.add(Dropout(0.2))\n",
        "model.add(Conv2D(16, kernel_size=3, activation=\"relu\"))\n",
        "model.add(Conv2D(16, kernel_size=3, activation=\"relu\"))\n",
        "# model.add(Dropout(0.2))\n",
        "model.add(Conv2D(8, kernel_size=3, activation=\"relu\"))\n",
        "model.add(MaxPooling2D(pool_size=(2, 2)))\n",
        "model.add(Conv2D(8, kernel_size=3, activation=\"relu\"))\n",
        "model.add(Conv2D(8, kernel_size=3, activation=\"relu\"))\n",
        "# model.add(Dropout(0.1))\n",
        "model.add(Conv2D(8, kernel_size=3, activation=\"relu\"))\n",
        "model.add(Conv2D(8, kernel_size=3, activation=\"relu\"))\n",
        "# model.add(Conv2D(8, kernel_size=3, activation=\"relu\"))\n",
        "# model.add(Conv2D(8, kernel_size=3, activation=\"relu\"))\n",
        "\n",
        "# warstwa łącząca conv2d z warstwą dense\n",
        "model.add(Flatten())\n",
        "# liczba taka ile wyjść, tu 10 liczb (u mnie będzie 6 wyjść bo tyle jest typów)\n",
        "model.add(Dense(6, activation=\"softmax\"))"
      ],
      "execution_count": 28,
      "outputs": [
        {
          "output_type": "stream",
          "text": [
            "(15240, 220, 220, 3)\n",
            "(15240,)\n"
          ],
          "name": "stdout"
        }
      ]
    },
    {
      "cell_type": "code",
      "metadata": {
        "id": "egi__Zu_qQr9",
        "colab_type": "code",
        "outputId": "a8d327d5-780c-4c9b-b33d-e1e02534b866",
        "colab": {
          "base_uri": "https://localhost:8080/",
          "height": 586
        }
      },
      "source": [
        "# compile model using accuracy to measure model performance\n",
        "model.compile(optimizer=keras.optimizers.Adamax(learning_rate=0.001, beta_1=0.9, beta_2=0.999, epsilon=1e-07), loss=\"categorical_crossentropy\", metrics=[\"accuracy\"]) #Adadelta, Adam(learning_rate=0.005, beta_1=0.9, beta_2=0.999, amsgrad=False)\n",
        "\n",
        "# train the model\n",
        "history = model.fit(X_train, y_train, validation_data=(X_test, y_test), epochs=15, batch_size=200, shuffle=False)"
      ],
      "execution_count": 29,
      "outputs": [
        {
          "output_type": "stream",
          "text": [
            "Train on 12192 samples, validate on 3048 samples\n",
            "Epoch 1/15\n",
            "12192/12192 [==============================] - 36s 3ms/step - loss: 1.2684 - accuracy: 0.4605 - val_loss: 0.7083 - val_accuracy: 0.7136\n",
            "Epoch 2/15\n",
            "12192/12192 [==============================] - 31s 3ms/step - loss: 0.6617 - accuracy: 0.7548 - val_loss: 0.5707 - val_accuracy: 0.7976\n",
            "Epoch 3/15\n",
            "12192/12192 [==============================] - 31s 3ms/step - loss: 0.5612 - accuracy: 0.8051 - val_loss: 0.5131 - val_accuracy: 0.8294\n",
            "Epoch 4/15\n",
            "12192/12192 [==============================] - 31s 3ms/step - loss: 0.4980 - accuracy: 0.8283 - val_loss: 0.4555 - val_accuracy: 0.8550\n",
            "Epoch 5/15\n",
            "12192/12192 [==============================] - 31s 3ms/step - loss: 0.4269 - accuracy: 0.8607 - val_loss: 0.3773 - val_accuracy: 0.8819\n",
            "Epoch 6/15\n",
            "12192/12192 [==============================] - 31s 3ms/step - loss: 0.3993 - accuracy: 0.8718 - val_loss: 0.3640 - val_accuracy: 0.8822\n",
            "Epoch 7/15\n",
            "12192/12192 [==============================] - 31s 3ms/step - loss: 0.3762 - accuracy: 0.8779 - val_loss: 0.3474 - val_accuracy: 0.8875\n",
            "Epoch 8/15\n",
            "12192/12192 [==============================] - 31s 3ms/step - loss: 0.3632 - accuracy: 0.8819 - val_loss: 0.3325 - val_accuracy: 0.8924\n",
            "Epoch 9/15\n",
            "12192/12192 [==============================] - 31s 3ms/step - loss: 0.3492 - accuracy: 0.8855 - val_loss: 0.3227 - val_accuracy: 0.8944\n",
            "Epoch 10/15\n",
            "12192/12192 [==============================] - 31s 3ms/step - loss: 0.3366 - accuracy: 0.8898 - val_loss: 0.3084 - val_accuracy: 0.9039\n",
            "Epoch 11/15\n",
            "12192/12192 [==============================] - 31s 3ms/step - loss: 0.3190 - accuracy: 0.8958 - val_loss: 0.2922 - val_accuracy: 0.9085\n",
            "Epoch 12/15\n",
            "12192/12192 [==============================] - 31s 3ms/step - loss: 0.2974 - accuracy: 0.9029 - val_loss: 0.2692 - val_accuracy: 0.9173\n",
            "Epoch 13/15\n",
            "12192/12192 [==============================] - 31s 3ms/step - loss: 0.2802 - accuracy: 0.9094 - val_loss: 0.2616 - val_accuracy: 0.9186\n",
            "Epoch 14/15\n",
            "12192/12192 [==============================] - 31s 3ms/step - loss: 0.2643 - accuracy: 0.9136 - val_loss: 0.2636 - val_accuracy: 0.9183\n",
            "Epoch 15/15\n",
            "12192/12192 [==============================] - 31s 3ms/step - loss: 0.2554 - accuracy: 0.9182 - val_loss: 0.2444 - val_accuracy: 0.9249\n"
          ],
          "name": "stdout"
        }
      ]
    },
    {
      "cell_type": "code",
      "metadata": {
        "id": "4kLM-pBAawAG",
        "colab_type": "code",
        "outputId": "2f9e591c-cf9c-46dd-f793-e2b230a3a56b",
        "colab": {
          "base_uri": "https://localhost:8080/",
          "height": 573
        }
      },
      "source": [
        "# summarize history for accuracy\n",
        "plt.plot(history.history['accuracy'])\n",
        "plt.plot(history.history['val_accuracy'])\n",
        "plt.title('model accuracy')\n",
        "plt.ylabel('accuracy')\n",
        "plt.xlabel('epoch')\n",
        "plt.legend(['train', 'test'], loc='upper left')\n",
        "plt.show()\n",
        "# summarize history for loss\n",
        "plt.plot(history.history['loss'])\n",
        "plt.plot(history.history['val_loss'])\n",
        "plt.title('model loss')\n",
        "plt.ylabel('loss')\n",
        "plt.xlabel('epoch')\n",
        "plt.legend(['train', 'test'], loc='upper left')\n",
        "plt.show()"
      ],
      "execution_count": 30,
      "outputs": [
        {
          "output_type": "display_data",
          "data": {
            "image/png": "[encoded data removed]",
            "text/plain": [
              "<Figure size 432x288 with 1 Axes>"
            ]
          },
          "metadata": {
            "tags": [],
            "needs_background": "light"
          }
        },
        {
          "output_type": "display_data",
          "data": {
            "image/png": "[encoded data removed]",
            "text/plain": [
              "<Figure size 432x288 with 1 Axes>"
            ]
          },
          "metadata": {
            "tags": [],
            "needs_background": "light"
          }
        }
      ]
    }
  ]
}