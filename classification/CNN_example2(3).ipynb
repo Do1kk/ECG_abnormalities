{
  "nbformat": 4,
  "nbformat_minor": 0,
  "metadata": {
    "colab": {
      "name": "CNN_example2.ipynb",
      "provenance": [],
      "collapsed_sections": [],
      "machine_shape": "hm"
    },
    "kernelspec": {
      "name": "python3",
      "display_name": "Python 3"
    },
    "accelerator": "GPU"
  },
  "cells": [
    {
      "cell_type": "code",
      "metadata": {
        "id": "tPXjQrhGqCFv",
        "colab_type": "code",
        "outputId": "1fd39667-de04-4303-cff3-1889012e0818",
        "colab": {
          "base_uri": "https://localhost:8080/",
          "height": 54
        }
      },
      "source": [
        "# Before everything\n",
        "from numpy.random import seed\n",
        "seed(1)\n",
        "import tensorflow\n",
        "tensorflow.random.set_seed(2)\n",
        "\n",
        "from numpy import load\n",
        "from keras.utils import to_categorical\n",
        "from keras.models import Sequential\n",
        "from keras.layers import Dense, Conv2D, Flatten, Dropout, MaxPooling2D\n",
        "from sklearn.model_selection import train_test_split\n",
        "import matplotlib.pyplot as plt\n",
        "import keras\n",
        "\n",
        "\n",
        "\n",
        "numpy_file_dir = \"drive/My Drive/NN_files/\"\n",
        "# load dict of arrays\n",
        "X_train_test = load(numpy_file_dir + \"X_train_test.npz\")\n",
        "y_train_test = load(numpy_file_dir + \"y_train_test.npz\")\n",
        "\n",
        "# extract the first array\n",
        "X_train_test = X_train_test[\"arr_0\"]# jest typ uint8\n",
        "y_train_test = y_train_test[\"arr_0\"]\n",
        "# check image shape\n",
        "print(X_train_test.shape)\n",
        "print(y_train_test.shape)\n",
        "\n",
        "\n",
        "\n",
        "\n",
        "# Split the data\n",
        "X_train, X_test, y_train, y_test = train_test_split(X_train_test, y_train_test, test_size=0.2, shuffle= True) # random_state=42\n",
        "\n",
        "# sprawdzić random state\n",
        "# print(y_test[:10]) # [1 5 5 5 0 3 4 0 0 0] jest dobrze, cały czas daje takie same losowe dane\n",
        "\n",
        "# one-hot encode target column\n",
        "y_train = to_categorical(y_train)\n",
        "y_test = to_categorical(y_test)\n",
        "\n",
        "# create model\n",
        "model = Sequential()\n",
        "\n",
        "# add model layers\n",
        "# 64 - liczba neuronów, kernel_size - maska 3x3,\n",
        "model.add(Conv2D(32, kernel_size=3, activation=\"relu\", input_shape=(220, 220, 3), data_format=\"channels_last\"))\n",
        "model.add(Conv2D(32, kernel_size=5, activation=\"relu\"))\n",
        "model.add(Conv2D(32, kernel_size=3, activation=\"relu\"))\n",
        "model.add(MaxPooling2D(pool_size=(2, 2)))\n",
        "model.add(Conv2D(32, kernel_size=3, activation=\"relu\"))\n",
        "# model.add(Dropout(0.3)) # użycie gdy jest przeuczony, dużo więcej acc niż val_acc\n",
        "model.add(Conv2D(32, kernel_size=3, activation=\"relu\"))\n",
        "model.add(Conv2D(16, kernel_size=3, activation=\"relu\"))\n",
        "model.add(MaxPooling2D(pool_size=(2, 2)))\n",
        "model.add(Conv2D(16, kernel_size=3, activation=\"relu\"))\n",
        "model.add(Conv2D(16, kernel_size=3, activation=\"relu\"))\n",
        "model.add(Conv2D(16, kernel_size=3, activation=\"relu\"))\n",
        "model.add(Conv2D(8, kernel_size=3, activation=\"relu\"))\n",
        "model.add(MaxPooling2D(pool_size=(2, 2)))\n",
        "model.add(Conv2D(8, kernel_size=3, activation=\"relu\"))\n",
        "model.add(Conv2D(8, kernel_size=3, activation=\"relu\"))\n",
        "model.add(Conv2D(8, kernel_size=3, activation=\"relu\"))\n",
        "# model.add(Conv2D(8, kernel_size=3, activation=\"relu\"))#\n",
        "# model.add(Conv2D(8, kernel_size=3, activation=\"relu\"))#\n",
        "# model.add(Conv2D(8, kernel_size=3, activation=\"relu\"))#\n",
        "\n",
        "# warstwa łącząca conv2d z warstwą dense\n",
        "model.add(Flatten())\n",
        "# liczba taka ile wyjść, tu 10 liczb (u mnie będzie 6 wyjść bo tyle jest typów)\n",
        "model.add(Dense(6, activation=\"softmax\"))"
      ],
      "execution_count": 42,
      "outputs": [
        {
          "output_type": "stream",
          "text": [
            "(15240, 220, 220, 3)\n",
            "(15240,)\n"
          ],
          "name": "stdout"
        }
      ]
    },
    {
      "cell_type": "code",
      "metadata": {
        "id": "egi__Zu_qQr9",
        "colab_type": "code",
        "outputId": "047628a5-ff3e-4aad-9a5c-0c71bc17c8c7",
        "colab": {
          "base_uri": "https://localhost:8080/",
          "height": 770
        }
      },
      "source": [
        "# compile model using accuracy to measure model performance\n",
        "model.compile(optimizer=keras.optimizers.Adamax(learning_rate=0.001, beta_1=0.9, beta_2=0.999, epsilon=1e-07), loss=\"categorical_crossentropy\", metrics=[\"accuracy\"]) # Adadelta, Adam(learning_rate=0.005, beta_1=0.9, beta_2=0.999, amsgrad=False)\n",
        "\n",
        "# train the model\n",
        "history = model.fit(X_train, y_train, validation_data=(X_test, y_test), epochs=20, batch_size=200, shuffle=True)"
      ],
      "execution_count": 44,
      "outputs": [
        {
          "output_type": "stream",
          "text": [
            "Train on 12192 samples, validate on 3048 samples\n",
            "Epoch 1/20\n",
            "12192/12192 [==============================] - 31s 3ms/step - loss: 1.2623 - accuracy: 0.4883 - val_loss: 0.6565 - val_accuracy: 0.7769\n",
            "Epoch 2/20\n",
            "12192/12192 [==============================] - 31s 3ms/step - loss: 0.5716 - accuracy: 0.8031 - val_loss: 0.5144 - val_accuracy: 0.8241\n",
            "Epoch 3/20\n",
            "12192/12192 [==============================] - 31s 3ms/step - loss: 0.4708 - accuracy: 0.8442 - val_loss: 0.4126 - val_accuracy: 0.8632\n",
            "Epoch 4/20\n",
            "12192/12192 [==============================] - 31s 3ms/step - loss: 0.3999 - accuracy: 0.8695 - val_loss: 0.3557 - val_accuracy: 0.8760\n",
            "Epoch 5/20\n",
            "12192/12192 [==============================] - 31s 3ms/step - loss: 0.3418 - accuracy: 0.8879 - val_loss: 0.3103 - val_accuracy: 0.8996\n",
            "Epoch 6/20\n",
            "12192/12192 [==============================] - 31s 3ms/step - loss: 0.2967 - accuracy: 0.9055 - val_loss: 0.2716 - val_accuracy: 0.9094\n",
            "Epoch 7/20\n",
            "12192/12192 [==============================] - 31s 3ms/step - loss: 0.2715 - accuracy: 0.9113 - val_loss: 0.2777 - val_accuracy: 0.9117\n",
            "Epoch 8/20\n",
            "12192/12192 [==============================] - 31s 3ms/step - loss: 0.2582 - accuracy: 0.9168 - val_loss: 0.2413 - val_accuracy: 0.9232\n",
            "Epoch 9/20\n",
            "12192/12192 [==============================] - 31s 3ms/step - loss: 0.2336 - accuracy: 0.9231 - val_loss: 0.2281 - val_accuracy: 0.9298\n",
            "Epoch 10/20\n",
            "12192/12192 [==============================] - 31s 3ms/step - loss: 0.2175 - accuracy: 0.9281 - val_loss: 0.2434 - val_accuracy: 0.9285\n",
            "Epoch 11/20\n",
            "12192/12192 [==============================] - 31s 3ms/step - loss: 0.2149 - accuracy: 0.9298 - val_loss: 0.2104 - val_accuracy: 0.9370\n",
            "Epoch 12/20\n",
            "12192/12192 [==============================] - 31s 3ms/step - loss: 0.2140 - accuracy: 0.9304 - val_loss: 0.2221 - val_accuracy: 0.9318\n",
            "Epoch 13/20\n",
            "12192/12192 [==============================] - 31s 3ms/step - loss: 0.2048 - accuracy: 0.9347 - val_loss: 0.2166 - val_accuracy: 0.9367\n",
            "Epoch 14/20\n",
            "12192/12192 [==============================] - 31s 3ms/step - loss: 0.1928 - accuracy: 0.9370 - val_loss: 0.2050 - val_accuracy: 0.9390\n",
            "Epoch 15/20\n",
            "12192/12192 [==============================] - 31s 3ms/step - loss: 0.1920 - accuracy: 0.9378 - val_loss: 0.1991 - val_accuracy: 0.9416\n",
            "Epoch 16/20\n",
            "12192/12192 [==============================] - 31s 3ms/step - loss: 0.1788 - accuracy: 0.9441 - val_loss: 0.1961 - val_accuracy: 0.9413\n",
            "Epoch 17/20\n",
            "12192/12192 [==============================] - 31s 3ms/step - loss: 0.1898 - accuracy: 0.9389 - val_loss: 0.1872 - val_accuracy: 0.9472\n",
            "Epoch 18/20\n",
            "12192/12192 [==============================] - 31s 3ms/step - loss: 0.1732 - accuracy: 0.9452 - val_loss: 0.1908 - val_accuracy: 0.9426\n",
            "Epoch 19/20\n",
            "12192/12192 [==============================] - 31s 3ms/step - loss: 0.1829 - accuracy: 0.9405 - val_loss: 0.2044 - val_accuracy: 0.9419\n",
            "Epoch 20/20\n",
            "12192/12192 [==============================] - 31s 3ms/step - loss: 0.1678 - accuracy: 0.9465 - val_loss: 0.2181 - val_accuracy: 0.9311\n"
          ],
          "name": "stdout"
        }
      ]
    },
    {
      "cell_type": "code",
      "metadata": {
        "id": "4kLM-pBAawAG",
        "colab_type": "code",
        "outputId": "01874eda-c4e8-4aa5-a89c-08d7d3d7578d",
        "colab": {
          "base_uri": "https://localhost:8080/",
          "height": 573
        }
      },
      "source": [
        "# summarize history for accuracy\n",
        "plt.plot(history.history['accuracy'])\n",
        "plt.plot(history.history['val_accuracy'])\n",
        "plt.title('model accuracy')\n",
        "plt.ylabel('accuracy')\n",
        "plt.xlabel('epoch')\n",
        "plt.legend(['train', 'test'], loc='upper left')\n",
        "plt.show()\n",
        "# summarize history for loss\n",
        "plt.plot(history.history['loss'])\n",
        "plt.plot(history.history['val_loss'])\n",
        "plt.title('model loss')\n",
        "plt.ylabel('loss')\n",
        "plt.xlabel('epoch')\n",
        "plt.legend(['train', 'test'], loc='upper left')\n",
        "plt.show()"
      ],
      "execution_count": 45,
      "outputs": [
        {
          "output_type": "display_data",
          "data": {
            "image/png": "[encoded data removed]",
            "text/plain": [
              "<Figure size 432x288 with 1 Axes>"
            ]
          },
          "metadata": {
            "tags": [],
            "needs_background": "light"
          }
        },
        {
          "output_type": "display_data",
          "data": {
            "image/png": "[encoded data removed]",
            "text/plain": [
              "<Figure size 432x288 with 1 Axes>"
            ]
          },
          "metadata": {
            "tags": [],
            "needs_background": "light"
          }
        }
      ]
    }
  ]
}