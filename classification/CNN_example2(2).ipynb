{
  "nbformat": 4,
  "nbformat_minor": 0,
  "metadata": {
    "colab": {
      "name": "CNN_example2.ipynb",
      "provenance": [],
      "collapsed_sections": [],
      "machine_shape": "hm"
    },
    "kernelspec": {
      "name": "python3",
      "display_name": "Python 3"
    },
    "accelerator": "GPU"
  },
  "cells": [
    {
      "cell_type": "code",
      "metadata": {
        "id": "tPXjQrhGqCFv",
        "colab_type": "code",
        "outputId": "6382eb7a-5513-4726-c253-97c25d46f8f0",
        "colab": {
          "base_uri": "https://localhost:8080/",
          "height": 54
        }
      },
      "source": [
        "# Before everything\n",
        "from numpy.random import seed\n",
        "seed(1)\n",
        "import tensorflow\n",
        "tensorflow.random.set_seed(2)\n",
        "\n",
        "from numpy import load\n",
        "from keras.utils import to_categorical\n",
        "from keras.models import Sequential\n",
        "from keras.layers import Dense, Conv2D, Flatten, Dropout, MaxPooling2D\n",
        "from sklearn.model_selection import train_test_split\n",
        "import matplotlib.pyplot as plt\n",
        "import keras\n",
        "\n",
        "\n",
        "\n",
        "numpy_file_dir = \"drive/My Drive/NN_files/\"\n",
        "# load dict of arrays\n",
        "X_train_test = load(numpy_file_dir + \"X_train_test.npz\")\n",
        "y_train_test = load(numpy_file_dir + \"y_train_test.npz\")\n",
        "\n",
        "# extract the first array\n",
        "X_train_test = X_train_test[\"arr_0\"]# jest typ uint8\n",
        "y_train_test = y_train_test[\"arr_0\"]\n",
        "# check image shape\n",
        "print(X_train_test.shape)\n",
        "print(y_train_test.shape)\n",
        "\n",
        "\n",
        "\n",
        "\n",
        "# Split the data\n",
        "X_train, X_test, y_train, y_test = train_test_split(X_train_test, y_train_test, test_size=0.2, shuffle= True) # random_state=42\n",
        "\n",
        "# sprawdzić random state\n",
        "# print(y_test[:10]) # [1 5 5 5 0 3 4 0 0 0] jest dobrze, cały czas daje takie same losowe dane\n",
        "\n",
        "# one-hot encode target column\n",
        "y_train = to_categorical(y_train)\n",
        "y_test = to_categorical(y_test)\n",
        "\n",
        "# create model\n",
        "model = Sequential()\n",
        "\n",
        "# add model layers\n",
        "# 64 - liczba neuronów, kernel_size - maska 3x3,\n",
        "model.add(Conv2D(32, kernel_size=3, activation=\"relu\", input_shape=(220, 220, 3), data_format=\"channels_last\"))\n",
        "model.add(Conv2D(32, kernel_size=5, activation=\"relu\"))\n",
        "model.add(Conv2D(32, kernel_size=3, activation=\"relu\"))\n",
        "model.add(MaxPooling2D(pool_size=(2, 2)))\n",
        "model.add(Conv2D(32, kernel_size=3, activation=\"relu\"))\n",
        "# model.add(Dropout(0.3)) # użycie gdy jest przeuczony, dużo więcej acc niż val_acc\n",
        "model.add(Conv2D(32, kernel_size=3, activation=\"relu\"))\n",
        "model.add(Conv2D(16, kernel_size=3, activation=\"relu\"))\n",
        "model.add(MaxPooling2D(pool_size=(2, 2)))\n",
        "model.add(Conv2D(16, kernel_size=3, activation=\"relu\"))\n",
        "# model.add(Dropout(0.2))\n",
        "model.add(Conv2D(16, kernel_size=3, activation=\"relu\"))\n",
        "model.add(Conv2D(16, kernel_size=3, activation=\"relu\"))\n",
        "# model.add(Dropout(0.2))\n",
        "model.add(Conv2D(8, kernel_size=3, activation=\"relu\"))\n",
        "model.add(MaxPooling2D(pool_size=(2, 2)))\n",
        "model.add(Conv2D(8, kernel_size=3, activation=\"relu\"))\n",
        "model.add(Conv2D(8, kernel_size=3, activation=\"relu\"))\n",
        "# model.add(Dropout(0.1))\n",
        "model.add(Conv2D(8, kernel_size=3, activation=\"relu\"))\n",
        "model.add(Conv2D(8, kernel_size=3, activation=\"relu\"))\n",
        "model.add(Conv2D(8, kernel_size=3, activation=\"relu\")) #\n",
        "# model.add(Conv2D(8, kernel_size=3, activation=\"relu\"))\n",
        "\n",
        "# warstwa łącząca conv2d z warstwą dense\n",
        "model.add(Flatten())\n",
        "# liczba taka ile wyjść, tu 10 liczb (u mnie będzie 6 wyjść bo tyle jest typów)\n",
        "model.add(Dense(6, activation=\"softmax\"))"
      ],
      "execution_count": 37,
      "outputs": [
        {
          "output_type": "stream",
          "text": [
            "(15240, 220, 220, 3)\n",
            "(15240,)\n"
          ],
          "name": "stdout"
        }
      ]
    },
    {
      "cell_type": "code",
      "metadata": {
        "id": "egi__Zu_qQr9",
        "colab_type": "code",
        "outputId": "690fa5cb-811e-4c69-bea4-247fe14f9ead",
        "colab": {
          "base_uri": "https://localhost:8080/",
          "height": 770
        }
      },
      "source": [
        "# compile model using accuracy to measure model performance\n",
        "model.compile(optimizer=keras.optimizers.Adamax(learning_rate=0.001, beta_1=0.9, beta_2=0.999, epsilon=1e-07), loss=\"categorical_crossentropy\", metrics=[\"accuracy\"]) # Adadelta, Adam(learning_rate=0.005, beta_1=0.9, beta_2=0.999, amsgrad=False)\n",
        "\n",
        "# train the model\n",
        "history = model.fit(X_train, y_train, validation_data=(X_test, y_test), epochs=20, batch_size=200, shuffle=True)"
      ],
      "execution_count": 38,
      "outputs": [
        {
          "output_type": "stream",
          "text": [
            "Train on 12192 samples, validate on 3048 samples\n",
            "Epoch 1/20\n",
            "12192/12192 [==============================] - 31s 3ms/step - loss: 1.2996 - accuracy: 0.4415 - val_loss: 0.9796 - val_accuracy: 0.5997\n",
            "Epoch 2/20\n",
            "12192/12192 [==============================] - 31s 3ms/step - loss: 0.8347 - accuracy: 0.6581 - val_loss: 0.7206 - val_accuracy: 0.7119\n",
            "Epoch 3/20\n",
            "12192/12192 [==============================] - 31s 3ms/step - loss: 0.6776 - accuracy: 0.7350 - val_loss: 0.5874 - val_accuracy: 0.7851\n",
            "Epoch 4/20\n",
            "12192/12192 [==============================] - 31s 3ms/step - loss: 0.5843 - accuracy: 0.7872 - val_loss: 0.5207 - val_accuracy: 0.8222\n",
            "Epoch 5/20\n",
            "12192/12192 [==============================] - 31s 3ms/step - loss: 0.5392 - accuracy: 0.8130 - val_loss: 0.4811 - val_accuracy: 0.8323\n",
            "Epoch 6/20\n",
            "12192/12192 [==============================] - 31s 3ms/step - loss: 0.4722 - accuracy: 0.8465 - val_loss: 0.4272 - val_accuracy: 0.8694\n",
            "Epoch 7/20\n",
            "12192/12192 [==============================] - 31s 3ms/step - loss: 0.4214 - accuracy: 0.8639 - val_loss: 0.3651 - val_accuracy: 0.8871\n",
            "Epoch 8/20\n",
            "12192/12192 [==============================] - 31s 3ms/step - loss: 0.3819 - accuracy: 0.8817 - val_loss: 0.3603 - val_accuracy: 0.8917\n",
            "Epoch 9/20\n",
            "12192/12192 [==============================] - 31s 3ms/step - loss: 0.3606 - accuracy: 0.8861 - val_loss: 0.3319 - val_accuracy: 0.8993\n",
            "Epoch 10/20\n",
            "12192/12192 [==============================] - 31s 3ms/step - loss: 0.3385 - accuracy: 0.8900 - val_loss: 0.3349 - val_accuracy: 0.9045\n",
            "Epoch 11/20\n",
            "12192/12192 [==============================] - 31s 3ms/step - loss: 0.3145 - accuracy: 0.8980 - val_loss: 0.3345 - val_accuracy: 0.9016\n",
            "Epoch 12/20\n",
            "12192/12192 [==============================] - 31s 3ms/step - loss: 0.3016 - accuracy: 0.8990 - val_loss: 0.2924 - val_accuracy: 0.9140\n",
            "Epoch 13/20\n",
            "12192/12192 [==============================] - 31s 3ms/step - loss: 0.2774 - accuracy: 0.9087 - val_loss: 0.2926 - val_accuracy: 0.9137\n",
            "Epoch 14/20\n",
            "12192/12192 [==============================] - 31s 3ms/step - loss: 0.2693 - accuracy: 0.9115 - val_loss: 0.2721 - val_accuracy: 0.9157\n",
            "Epoch 15/20\n",
            "12192/12192 [==============================] - 31s 3ms/step - loss: 0.2721 - accuracy: 0.9091 - val_loss: 0.2687 - val_accuracy: 0.9209\n",
            "Epoch 16/20\n",
            "12192/12192 [==============================] - 31s 3ms/step - loss: 0.2499 - accuracy: 0.9183 - val_loss: 0.2595 - val_accuracy: 0.9167\n",
            "Epoch 17/20\n",
            "12192/12192 [==============================] - 31s 3ms/step - loss: 0.2488 - accuracy: 0.9188 - val_loss: 0.2779 - val_accuracy: 0.9170\n",
            "Epoch 18/20\n",
            "12192/12192 [==============================] - 31s 3ms/step - loss: 0.2396 - accuracy: 0.9231 - val_loss: 0.2511 - val_accuracy: 0.9242\n",
            "Epoch 19/20\n",
            "12192/12192 [==============================] - 31s 3ms/step - loss: 0.2439 - accuracy: 0.9186 - val_loss: 0.2544 - val_accuracy: 0.9219\n",
            "Epoch 20/20\n",
            "12192/12192 [==============================] - 31s 3ms/step - loss: 0.2346 - accuracy: 0.9232 - val_loss: 0.2458 - val_accuracy: 0.9183\n"
          ],
          "name": "stdout"
        }
      ]
    },
    {
      "cell_type": "code",
      "metadata": {
        "id": "4kLM-pBAawAG",
        "colab_type": "code",
        "outputId": "2fe94cae-069c-442e-e9a6-d9c3587b166e",
        "colab": {
          "base_uri": "https://localhost:8080/",
          "height": 573
        }
      },
      "source": [
        "# summarize history for accuracy\n",
        "plt.plot(history.history['accuracy'])\n",
        "plt.plot(history.history['val_accuracy'])\n",
        "plt.title('model accuracy')\n",
        "plt.ylabel('accuracy')\n",
        "plt.xlabel('epoch')\n",
        "plt.legend(['train', 'test'], loc='upper left')\n",
        "plt.show()\n",
        "# summarize history for loss\n",
        "plt.plot(history.history['loss'])\n",
        "plt.plot(history.history['val_loss'])\n",
        "plt.title('model loss')\n",
        "plt.ylabel('loss')\n",
        "plt.xlabel('epoch')\n",
        "plt.legend(['train', 'test'], loc='upper left')\n",
        "plt.show()"
      ],
      "execution_count": 39,
      "outputs": [
        {
          "output_type": "display_data",
          "data": {
            "image/png": "[encoded data removed]",
            "text/plain": [
              "<Figure size 432x288 with 1 Axes>"
            ]
          },
          "metadata": {
            "tags": [],
            "needs_background": "light"
          }
        },
        {
          "output_type": "display_data",
          "data": {
            "image/png": "[encoded data removed]",
            "text/plain": [
              "<Figure size 432x288 with 1 Axes>"
            ]
          },
          "metadata": {
            "tags": [],
            "needs_background": "light"
          }
        }
      ]
    }
  ]
}