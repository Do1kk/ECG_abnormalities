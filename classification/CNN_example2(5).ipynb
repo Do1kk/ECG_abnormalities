{
  "nbformat": 4,
  "nbformat_minor": 0,
  "metadata": {
    "colab": {
      "name": "CNN_example2.ipynb",
      "provenance": [],
      "collapsed_sections": [],
      "machine_shape": "hm"
    },
    "kernelspec": {
      "name": "python3",
      "display_name": "Python 3"
    },
    "accelerator": "GPU"
  },
  "cells": [
    {
      "cell_type": "code",
      "metadata": {
        "id": "tPXjQrhGqCFv",
        "colab_type": "code",
        "outputId": "d93ed85a-921f-4b15-83b6-d3cb64c4241a",
        "colab": {
          "base_uri": "https://localhost:8080/",
          "height": 72
        }
      },
      "source": [
        "# Before everything\n",
        "from numpy.random import seed\n",
        "seed(1)\n",
        "import tensorflow\n",
        "tensorflow.random.set_seed(2)\n",
        "\n",
        "from numpy import load\n",
        "from keras.utils import to_categorical\n",
        "from keras.models import Sequential\n",
        "from keras.layers import Dense, Conv2D, Flatten, Dropout, MaxPooling2D\n",
        "from sklearn.model_selection import train_test_split\n",
        "import matplotlib.pyplot as plt\n",
        "import keras\n",
        "\n",
        "\n",
        "\n",
        "numpy_file_dir = \"drive/My Drive/NN_files/\"\n",
        "# load dict of arrays\n",
        "X_train_test = load(numpy_file_dir + \"X_train_test.npz\")\n",
        "y_train_test = load(numpy_file_dir + \"y_train_test.npz\")\n",
        "\n",
        "# extract the first array\n",
        "X_train_test = X_train_test[\"arr_0\"]# jest typ uint8\n",
        "y_train_test = y_train_test[\"arr_0\"]\n",
        "# check image shape\n",
        "print(X_train_test.shape)\n",
        "print(y_train_test.shape)\n",
        "\n",
        "\n",
        "\n",
        "\n",
        "# Split the data\n",
        "X_train, X_test, y_train, y_test = train_test_split(X_train_test, y_train_test, test_size=0.2, shuffle= True) # random_state=42\n",
        "\n",
        "# sprawdzić random state\n",
        "# print(y_test[:10]) # [1 5 5 5 0 3 4 0 0 0] jest dobrze, cały czas daje takie same losowe dane\n",
        "\n",
        "# one-hot encode target column\n",
        "y_train = to_categorical(y_train)\n",
        "y_test = to_categorical(y_test)\n",
        "\n",
        "# create model\n",
        "model = Sequential()\n",
        "\n",
        "# add model layers\n",
        "# 64 - liczba neuronów, kernel_size - maska 3x3,\n",
        "model.add(Conv2D(32, kernel_size=3, activation=\"relu\", input_shape=(220, 220, 3), data_format=\"channels_last\"))\n",
        "model.add(Conv2D(32, kernel_size=5, activation=\"relu\"))\n",
        "model.add(Conv2D(32, kernel_size=3, activation=\"relu\"))\n",
        "model.add(MaxPooling2D(pool_size=(2, 2)))\n",
        "model.add(Conv2D(32, kernel_size=3, activation=\"relu\"))\n",
        "# model.add(Dropout(0.3)) # użycie gdy jest przeuczony, dużo więcej acc niż val_acc\n",
        "model.add(Conv2D(32, kernel_size=3, activation=\"relu\"))\n",
        "model.add(Conv2D(16, kernel_size=3, activation=\"relu\"))\n",
        "model.add(MaxPooling2D(pool_size=(2, 2)))\n",
        "model.add(Conv2D(16, kernel_size=3, activation=\"relu\"))\n",
        "model.add(Conv2D(16, kernel_size=3, activation=\"relu\"))\n",
        "model.add(Conv2D(16, kernel_size=3, activation=\"relu\"))\n",
        "model.add(Conv2D(8, kernel_size=3, activation=\"relu\"))\n",
        "model.add(MaxPooling2D(pool_size=(2, 2)))\n",
        "model.add(Conv2D(8, kernel_size=3, activation=\"relu\"))\n",
        "model.add(Conv2D(8, kernel_size=3, activation=\"relu\"))\n",
        "# model.add(Conv2D(8, kernel_size=3, activation=\"relu\"))#\n",
        "# model.add(Conv2D(8, kernel_size=3, activation=\"relu\"))\n",
        "# model.add(Conv2D(8, kernel_size=3, activation=\"relu\"))\n",
        "# model.add(Conv2D(8, kernel_size=3, activation=\"relu\"))\n",
        "\n",
        "# warstwa łącząca conv2d z warstwą dense\n",
        "model.add(Flatten())\n",
        "# liczba taka ile wyjść, tu 10 liczb (u mnie będzie 6 wyjść bo tyle jest typów)\n",
        "model.add(Dense(6, activation=\"softmax\"))"
      ],
      "execution_count": 1,
      "outputs": [
        {
          "output_type": "stream",
          "text": [
            "Using TensorFlow backend.\n"
          ],
          "name": "stderr"
        },
        {
          "output_type": "stream",
          "text": [
            "(15240, 220, 220, 3)\n",
            "(15240,)\n"
          ],
          "name": "stdout"
        }
      ]
    },
    {
      "cell_type": "code",
      "metadata": {
        "id": "egi__Zu_qQr9",
        "colab_type": "code",
        "outputId": "bce3718d-7043-45d8-f6e2-dd0eda8bcb99",
        "colab": {
          "base_uri": "https://localhost:8080/",
          "height": 1000
        }
      },
      "source": [
        "# compile model using accuracy to measure model performance\n",
        "model.compile(optimizer=keras.optimizers.Adamax(learning_rate=0.001, beta_1=0.9, beta_2=0.999, epsilon=1e-07), loss=\"categorical_crossentropy\", metrics=[\"accuracy\"]) # Adadelta, Adam(learning_rate=0.005, beta_1=0.9, beta_2=0.999, amsgrad=False)\n",
        "\n",
        "# train the model\n",
        "history = model.fit(X_train, y_train, validation_data=(X_test, y_test), epochs=50, batch_size=200, shuffle=True)"
      ],
      "execution_count": 2,
      "outputs": [
        {
          "output_type": "stream",
          "text": [
            "Train on 12192 samples, validate on 3048 samples\n",
            "Epoch 1/50\n",
            "12192/12192 [==============================] - 43s 4ms/step - loss: 1.2448 - accuracy: 0.4575 - val_loss: 0.6592 - val_accuracy: 0.7894\n",
            "Epoch 2/50\n",
            "12192/12192 [==============================] - 31s 3ms/step - loss: 0.5890 - accuracy: 0.8158 - val_loss: 0.4815 - val_accuracy: 0.8609\n",
            "Epoch 3/50\n",
            "12192/12192 [==============================] - 31s 3ms/step - loss: 0.4742 - accuracy: 0.8585 - val_loss: 0.5361 - val_accuracy: 0.8340\n",
            "Epoch 4/50\n",
            "12192/12192 [==============================] - 31s 3ms/step - loss: 0.4315 - accuracy: 0.8670 - val_loss: 0.4217 - val_accuracy: 0.8668\n",
            "Epoch 5/50\n",
            "12192/12192 [==============================] - 31s 3ms/step - loss: 0.3825 - accuracy: 0.8765 - val_loss: 0.3658 - val_accuracy: 0.8878\n",
            "Epoch 6/50\n",
            "12192/12192 [==============================] - 31s 3ms/step - loss: 0.3657 - accuracy: 0.8807 - val_loss: 0.3631 - val_accuracy: 0.8816\n",
            "Epoch 7/50\n",
            "12192/12192 [==============================] - 31s 3ms/step - loss: 0.3457 - accuracy: 0.8856 - val_loss: 0.3474 - val_accuracy: 0.8927\n",
            "Epoch 8/50\n",
            "12192/12192 [==============================] - 31s 3ms/step - loss: 0.3131 - accuracy: 0.8979 - val_loss: 0.3325 - val_accuracy: 0.8957\n",
            "Epoch 9/50\n",
            "12192/12192 [==============================] - 31s 3ms/step - loss: 0.3047 - accuracy: 0.9011 - val_loss: 0.3048 - val_accuracy: 0.9111\n",
            "Epoch 10/50\n",
            "12192/12192 [==============================] - 31s 3ms/step - loss: 0.2962 - accuracy: 0.9046 - val_loss: 0.2937 - val_accuracy: 0.9068\n",
            "Epoch 11/50\n",
            "12192/12192 [==============================] - 31s 3ms/step - loss: 0.2875 - accuracy: 0.9065 - val_loss: 0.2767 - val_accuracy: 0.9124\n",
            "Epoch 12/50\n",
            "12192/12192 [==============================] - 31s 3ms/step - loss: 0.2709 - accuracy: 0.9125 - val_loss: 0.2766 - val_accuracy: 0.9088\n",
            "Epoch 13/50\n",
            "12192/12192 [==============================] - 31s 3ms/step - loss: 0.2643 - accuracy: 0.9127 - val_loss: 0.2784 - val_accuracy: 0.9094\n",
            "Epoch 14/50\n",
            "12192/12192 [==============================] - 31s 3ms/step - loss: 0.2654 - accuracy: 0.9143 - val_loss: 0.2632 - val_accuracy: 0.9186\n",
            "Epoch 15/50\n",
            "12192/12192 [==============================] - 31s 3ms/step - loss: 0.2533 - accuracy: 0.9184 - val_loss: 0.2769 - val_accuracy: 0.9157\n",
            "Epoch 16/50\n",
            "12192/12192 [==============================] - 31s 3ms/step - loss: 0.2544 - accuracy: 0.9174 - val_loss: 0.2611 - val_accuracy: 0.9134\n",
            "Epoch 17/50\n",
            "12192/12192 [==============================] - 31s 3ms/step - loss: 0.2371 - accuracy: 0.9224 - val_loss: 0.2371 - val_accuracy: 0.9285\n",
            "Epoch 18/50\n",
            "12192/12192 [==============================] - 31s 3ms/step - loss: 0.2341 - accuracy: 0.9256 - val_loss: 0.2393 - val_accuracy: 0.9278\n",
            "Epoch 19/50\n",
            "12192/12192 [==============================] - 31s 3ms/step - loss: 0.2348 - accuracy: 0.9261 - val_loss: 0.2282 - val_accuracy: 0.9298\n",
            "Epoch 20/50\n",
            "12192/12192 [==============================] - 31s 3ms/step - loss: 0.2202 - accuracy: 0.9301 - val_loss: 0.2337 - val_accuracy: 0.9222\n",
            "Epoch 21/50\n",
            "12192/12192 [==============================] - 31s 3ms/step - loss: 0.2269 - accuracy: 0.9270 - val_loss: 0.2477 - val_accuracy: 0.9213\n",
            "Epoch 22/50\n",
            "12192/12192 [==============================] - 31s 3ms/step - loss: 0.2187 - accuracy: 0.9286 - val_loss: 0.2681 - val_accuracy: 0.9134\n",
            "Epoch 23/50\n",
            "12192/12192 [==============================] - 31s 3ms/step - loss: 0.2221 - accuracy: 0.9289 - val_loss: 0.2202 - val_accuracy: 0.9308\n",
            "Epoch 24/50\n",
            "12192/12192 [==============================] - 31s 3ms/step - loss: 0.2097 - accuracy: 0.9324 - val_loss: 0.2266 - val_accuracy: 0.9304\n",
            "Epoch 25/50\n",
            "12192/12192 [==============================] - 31s 3ms/step - loss: 0.2063 - accuracy: 0.9345 - val_loss: 0.2134 - val_accuracy: 0.9331\n",
            "Epoch 26/50\n",
            "12192/12192 [==============================] - 31s 3ms/step - loss: 0.2062 - accuracy: 0.9319 - val_loss: 0.2474 - val_accuracy: 0.9193\n",
            "Epoch 27/50\n",
            "12192/12192 [==============================] - 31s 3ms/step - loss: 0.2005 - accuracy: 0.9377 - val_loss: 0.2136 - val_accuracy: 0.9324\n",
            "Epoch 28/50\n",
            "12192/12192 [==============================] - 31s 3ms/step - loss: 0.1947 - accuracy: 0.9396 - val_loss: 0.2060 - val_accuracy: 0.9347\n",
            "Epoch 29/50\n",
            "12192/12192 [==============================] - 31s 3ms/step - loss: 0.1844 - accuracy: 0.9396 - val_loss: 0.2073 - val_accuracy: 0.9344\n",
            "Epoch 30/50\n",
            "12192/12192 [==============================] - 31s 3ms/step - loss: 0.1941 - accuracy: 0.9386 - val_loss: 0.2083 - val_accuracy: 0.9364\n",
            "Epoch 31/50\n",
            "12192/12192 [==============================] - 31s 3ms/step - loss: 0.1880 - accuracy: 0.9394 - val_loss: 0.2429 - val_accuracy: 0.9213\n",
            "Epoch 32/50\n",
            "12192/12192 [==============================] - 31s 3ms/step - loss: 0.1840 - accuracy: 0.9414 - val_loss: 0.2127 - val_accuracy: 0.9318\n",
            "Epoch 33/50\n",
            "12192/12192 [==============================] - 31s 3ms/step - loss: 0.1764 - accuracy: 0.9440 - val_loss: 0.1957 - val_accuracy: 0.9370\n",
            "Epoch 34/50\n",
            "12192/12192 [==============================] - 31s 3ms/step - loss: 0.1759 - accuracy: 0.9441 - val_loss: 0.1971 - val_accuracy: 0.9386\n",
            "Epoch 35/50\n",
            "12192/12192 [==============================] - 31s 3ms/step - loss: 0.1753 - accuracy: 0.9427 - val_loss: 0.2106 - val_accuracy: 0.9350\n",
            "Epoch 36/50\n",
            "12192/12192 [==============================] - 31s 3ms/step - loss: 0.1743 - accuracy: 0.9433 - val_loss: 0.1917 - val_accuracy: 0.9393\n",
            "Epoch 37/50\n",
            "12192/12192 [==============================] - 31s 3ms/step - loss: 0.1663 - accuracy: 0.9496 - val_loss: 0.1977 - val_accuracy: 0.9383\n",
            "Epoch 38/50\n",
            "12192/12192 [==============================] - 31s 3ms/step - loss: 0.1573 - accuracy: 0.9486 - val_loss: 0.2103 - val_accuracy: 0.9367\n",
            "Epoch 39/50\n",
            "12192/12192 [==============================] - 31s 3ms/step - loss: 0.1601 - accuracy: 0.9488 - val_loss: 0.1905 - val_accuracy: 0.9383\n",
            "Epoch 40/50\n",
            "12192/12192 [==============================] - 31s 3ms/step - loss: 0.1651 - accuracy: 0.9466 - val_loss: 0.1967 - val_accuracy: 0.9377\n",
            "Epoch 41/50\n",
            "12192/12192 [==============================] - 31s 3ms/step - loss: 0.1588 - accuracy: 0.9491 - val_loss: 0.1894 - val_accuracy: 0.9413\n",
            "Epoch 42/50\n",
            "12192/12192 [==============================] - 31s 3ms/step - loss: 0.1532 - accuracy: 0.9518 - val_loss: 0.1881 - val_accuracy: 0.9419\n",
            "Epoch 43/50\n",
            "12192/12192 [==============================] - 31s 3ms/step - loss: 0.1451 - accuracy: 0.9516 - val_loss: 0.1709 - val_accuracy: 0.9455\n",
            "Epoch 44/50\n",
            "12192/12192 [==============================] - 31s 3ms/step - loss: 0.1520 - accuracy: 0.9514 - val_loss: 0.2127 - val_accuracy: 0.9318\n",
            "Epoch 45/50\n",
            "12192/12192 [==============================] - 31s 3ms/step - loss: 0.1521 - accuracy: 0.9510 - val_loss: 0.1635 - val_accuracy: 0.9511\n",
            "Epoch 46/50\n",
            "12192/12192 [==============================] - 31s 3ms/step - loss: 0.1358 - accuracy: 0.9545 - val_loss: 0.1641 - val_accuracy: 0.9455\n",
            "Epoch 47/50\n",
            "12192/12192 [==============================] - 31s 3ms/step - loss: 0.1352 - accuracy: 0.9549 - val_loss: 0.1842 - val_accuracy: 0.9409\n",
            "Epoch 48/50\n",
            "12192/12192 [==============================] - 31s 3ms/step - loss: 0.1417 - accuracy: 0.9537 - val_loss: 0.1797 - val_accuracy: 0.9446\n",
            "Epoch 49/50\n",
            "12192/12192 [==============================] - 31s 3ms/step - loss: 0.1352 - accuracy: 0.9560 - val_loss: 0.1599 - val_accuracy: 0.9508\n",
            "Epoch 50/50\n",
            "12192/12192 [==============================] - 31s 3ms/step - loss: 0.1288 - accuracy: 0.9574 - val_loss: 0.1622 - val_accuracy: 0.9508\n"
          ],
          "name": "stdout"
        }
      ]
    },
    {
      "cell_type": "code",
      "metadata": {
        "id": "4kLM-pBAawAG",
        "colab_type": "code",
        "outputId": "15675519-fda9-4129-de5e-f679261dcfd2",
        "colab": {
          "base_uri": "https://localhost:8080/",
          "height": 573
        }
      },
      "source": [
        "# summarize history for accuracy\n",
        "plt.plot(history.history['accuracy'])\n",
        "plt.plot(history.history['val_accuracy'])\n",
        "plt.title('model accuracy')\n",
        "plt.ylabel('accuracy')\n",
        "plt.xlabel('epoch')\n",
        "plt.legend(['train', 'test'], loc='upper left')\n",
        "plt.show()\n",
        "# summarize history for loss\n",
        "plt.plot(history.history['loss'])\n",
        "plt.plot(history.history['val_loss'])\n",
        "plt.title('model loss')\n",
        "plt.ylabel('loss')\n",
        "plt.xlabel('epoch')\n",
        "plt.legend(['train', 'test'], loc='upper left')\n",
        "plt.show()"
      ],
      "execution_count": 3,
      "outputs": [
        {
          "output_type": "display_data",
          "data": {
            "image/png": "[encoded data removed]",
            "text/plain": [
              "<Figure size 432x288 with 1 Axes>"
            ]
          },
          "metadata": {
            "tags": [],
            "needs_background": "light"
          }
        },
        {
          "output_type": "display_data",
          "data": {
            "image/png": "[encoded data removed]",
            "text/plain": [
              "<Figure size 432x288 with 1 Axes>"
            ]
          },
          "metadata": {
            "tags": [],
            "needs_background": "light"
          }
        }
      ]
    }
  ]
}