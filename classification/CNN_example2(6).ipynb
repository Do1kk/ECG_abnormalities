{
  "nbformat": 4,
  "nbformat_minor": 0,
  "metadata": {
    "colab": {
      "name": "CNN_example2.ipynb",
      "provenance": [],
      "collapsed_sections": [],
      "machine_shape": "hm"
    },
    "kernelspec": {
      "name": "python3",
      "display_name": "Python 3"
    },
    "accelerator": "GPU"
  },
  "cells": [
    {
      "cell_type": "code",
      "metadata": {
        "id": "tPXjQrhGqCFv",
        "colab_type": "code",
        "outputId": "7ae4b64f-505c-4560-a922-e5680dab0113",
        "colab": {
          "base_uri": "https://localhost:8080/",
          "height": 54
        }
      },
      "source": [
        "# Before everything\n",
        "from numpy.random import seed\n",
        "seed(1)\n",
        "import tensorflow\n",
        "tensorflow.random.set_seed(2)\n",
        "\n",
        "from numpy import load\n",
        "from keras.utils import to_categorical\n",
        "from keras.models import Sequential\n",
        "from keras.layers import Dense, Conv2D, Flatten, Dropout, MaxPooling2D\n",
        "from sklearn.model_selection import train_test_split\n",
        "import matplotlib.pyplot as plt\n",
        "import keras\n",
        "\n",
        "\n",
        "\n",
        "numpy_file_dir = \"drive/My Drive/NN_files/\"\n",
        "# load dict of arrays\n",
        "X_train_test = load(numpy_file_dir + \"X_train_test.npz\")\n",
        "y_train_test = load(numpy_file_dir + \"y_train_test.npz\")\n",
        "\n",
        "# extract the first array\n",
        "X_train_test = X_train_test[\"arr_0\"]# jest typ uint8\n",
        "y_train_test = y_train_test[\"arr_0\"]\n",
        "# check image shape\n",
        "print(X_train_test.shape)\n",
        "print(y_train_test.shape)\n",
        "\n",
        "\n",
        "\n",
        "\n",
        "# Split the data\n",
        "X_train, X_test, y_train, y_test = train_test_split(X_train_test, y_train_test, test_size=0.2, shuffle= True) # random_state=42\n",
        "\n",
        "# sprawdzić random state\n",
        "# print(y_test[:10]) # [1 5 5 5 0 3 4 0 0 0] jest dobrze, cały czas daje takie same losowe dane\n",
        "\n",
        "# one-hot encode target column\n",
        "y_train = to_categorical(y_train)\n",
        "y_test = to_categorical(y_test)\n",
        "\n",
        "# create model\n",
        "model = Sequential()\n",
        "\n",
        "# add model layers\n",
        "# 64 - liczba neuronów, kernel_size - maska 3x3,\n",
        "model.add(Conv2D(32, kernel_size=3, activation=\"relu\", input_shape=(220, 220, 3), data_format=\"channels_last\"))\n",
        "model.add(Conv2D(32, kernel_size=5, activation=\"relu\"))\n",
        "model.add(Conv2D(32, kernel_size=3, activation=\"relu\"))\n",
        "model.add(MaxPooling2D(pool_size=(2, 2)))\n",
        "model.add(Conv2D(32, kernel_size=3, activation=\"relu\"))\n",
        "# model.add(Dropout(0.3)) # użycie gdy jest przeuczony, dużo więcej acc niż val_acc\n",
        "model.add(Conv2D(32, kernel_size=3, activation=\"relu\"))\n",
        "model.add(Conv2D(16, kernel_size=3, activation=\"relu\"))\n",
        "model.add(MaxPooling2D(pool_size=(2, 2)))\n",
        "model.add(Conv2D(16, kernel_size=3, activation=\"relu\"))\n",
        "model.add(Conv2D(16, kernel_size=3, activation=\"relu\"))\n",
        "model.add(Conv2D(16, kernel_size=3, activation=\"relu\"))\n",
        "model.add(Conv2D(8, kernel_size=3, activation=\"relu\"))\n",
        "model.add(MaxPooling2D(pool_size=(2, 2)))\n",
        "model.add(Conv2D(8, kernel_size=3, activation=\"relu\"))\n",
        "model.add(Conv2D(8, kernel_size=3, activation=\"relu\"))\n",
        "# model.add(Conv2D(8, kernel_size=3, activation=\"relu\"))\n",
        "# model.add(Conv2D(8, kernel_size=3, activation=\"relu\"))\n",
        "# model.add(Conv2D(8, kernel_size=3, activation=\"relu\"))\n",
        "# model.add(Conv2D(8, kernel_size=3, activation=\"relu\"))\n",
        "\n",
        "# warstwa łącząca conv2d z warstwą dense\n",
        "model.add(Flatten())\n",
        "# liczba taka ile wyjść, tu 10 liczb (u mnie będzie 6 wyjść bo tyle jest typów)\n",
        "model.add(Dense(6, activation=\"softmax\"))"
      ],
      "execution_count": 4,
      "outputs": [
        {
          "output_type": "stream",
          "text": [
            "(15240, 220, 220, 3)\n",
            "(15240,)\n"
          ],
          "name": "stdout"
        }
      ]
    },
    {
      "cell_type": "code",
      "metadata": {
        "id": "egi__Zu_qQr9",
        "colab_type": "code",
        "outputId": "b9649ff6-c54c-4c5a-cfcf-f06880bdc96f",
        "colab": {
          "base_uri": "https://localhost:8080/",
          "height": 1000
        }
      },
      "source": [
        "# compile model using accuracy to measure model performance\n",
        "model.compile(optimizer=keras.optimizers.Adamax(learning_rate=0.001, beta_1=0.9, beta_2=0.999, epsilon=1e-07), loss=\"categorical_crossentropy\", metrics=[\"accuracy\"]) # Adadelta, Adam(learning_rate=0.005, beta_1=0.9, beta_2=0.999, amsgrad=False)\n",
        "\n",
        "# train the model\n",
        "history = model.fit(X_train, y_train, validation_data=(X_test, y_test), epochs=50, batch_size=100, shuffle=True) # zmiana batch na 100"
      ],
      "execution_count": 5,
      "outputs": [
        {
          "output_type": "stream",
          "text": [
            "Train on 12192 samples, validate on 3048 samples\n",
            "Epoch 1/50\n",
            "12192/12192 [==============================] - 33s 3ms/step - loss: 0.8583 - accuracy: 0.6804 - val_loss: 0.4921 - val_accuracy: 0.8468\n",
            "Epoch 2/50\n",
            "12192/12192 [==============================] - 30s 2ms/step - loss: 0.4527 - accuracy: 0.8584 - val_loss: 0.4023 - val_accuracy: 0.8757\n",
            "Epoch 3/50\n",
            "12192/12192 [==============================] - 30s 2ms/step - loss: 0.3705 - accuracy: 0.8830 - val_loss: 0.3357 - val_accuracy: 0.8904\n",
            "Epoch 4/50\n",
            "12192/12192 [==============================] - 30s 2ms/step - loss: 0.3233 - accuracy: 0.8970 - val_loss: 0.3200 - val_accuracy: 0.8996\n",
            "Epoch 5/50\n",
            "12192/12192 [==============================] - 30s 2ms/step - loss: 0.2970 - accuracy: 0.9038 - val_loss: 0.2885 - val_accuracy: 0.9101\n",
            "Epoch 6/50\n",
            "12192/12192 [==============================] - 30s 2ms/step - loss: 0.2940 - accuracy: 0.9026 - val_loss: 0.3214 - val_accuracy: 0.8999\n",
            "Epoch 7/50\n",
            "12192/12192 [==============================] - 30s 2ms/step - loss: 0.2670 - accuracy: 0.9123 - val_loss: 0.2731 - val_accuracy: 0.9144\n",
            "Epoch 8/50\n",
            "12192/12192 [==============================] - 30s 2ms/step - loss: 0.2523 - accuracy: 0.9180 - val_loss: 0.2508 - val_accuracy: 0.9245\n",
            "Epoch 9/50\n",
            "12192/12192 [==============================] - 30s 2ms/step - loss: 0.2438 - accuracy: 0.9206 - val_loss: 0.2729 - val_accuracy: 0.9157\n",
            "Epoch 10/50\n",
            "12192/12192 [==============================] - 30s 2ms/step - loss: 0.2326 - accuracy: 0.9231 - val_loss: 0.2540 - val_accuracy: 0.9219\n",
            "Epoch 11/50\n",
            "12192/12192 [==============================] - 30s 2ms/step - loss: 0.2313 - accuracy: 0.9255 - val_loss: 0.2254 - val_accuracy: 0.9311\n",
            "Epoch 12/50\n",
            "12192/12192 [==============================] - 30s 2ms/step - loss: 0.2234 - accuracy: 0.9275 - val_loss: 0.2219 - val_accuracy: 0.9262\n",
            "Epoch 13/50\n",
            "12192/12192 [==============================] - 30s 2ms/step - loss: 0.2149 - accuracy: 0.9304 - val_loss: 0.2346 - val_accuracy: 0.9206\n",
            "Epoch 14/50\n",
            "12192/12192 [==============================] - 30s 2ms/step - loss: 0.2120 - accuracy: 0.9314 - val_loss: 0.2056 - val_accuracy: 0.9334\n",
            "Epoch 15/50\n",
            "12192/12192 [==============================] - 30s 2ms/step - loss: 0.1946 - accuracy: 0.9373 - val_loss: 0.2112 - val_accuracy: 0.9308\n",
            "Epoch 16/50\n",
            "12192/12192 [==============================] - 30s 2ms/step - loss: 0.2021 - accuracy: 0.9342 - val_loss: 0.2098 - val_accuracy: 0.9311\n",
            "Epoch 17/50\n",
            "12192/12192 [==============================] - 30s 2ms/step - loss: 0.1912 - accuracy: 0.9383 - val_loss: 0.1976 - val_accuracy: 0.9318\n",
            "Epoch 18/50\n",
            "12192/12192 [==============================] - 30s 2ms/step - loss: 0.1908 - accuracy: 0.9360 - val_loss: 0.1976 - val_accuracy: 0.9396\n",
            "Epoch 19/50\n",
            "12192/12192 [==============================] - 30s 2ms/step - loss: 0.1822 - accuracy: 0.9393 - val_loss: 0.2113 - val_accuracy: 0.9314\n",
            "Epoch 20/50\n",
            "12192/12192 [==============================] - 30s 2ms/step - loss: 0.1935 - accuracy: 0.9374 - val_loss: 0.2667 - val_accuracy: 0.9081\n",
            "Epoch 21/50\n",
            "12192/12192 [==============================] - 30s 2ms/step - loss: 0.1755 - accuracy: 0.9418 - val_loss: 0.2199 - val_accuracy: 0.9206\n",
            "Epoch 22/50\n",
            "12192/12192 [==============================] - 30s 2ms/step - loss: 0.1759 - accuracy: 0.9418 - val_loss: 0.2120 - val_accuracy: 0.9272\n",
            "Epoch 23/50\n",
            "12192/12192 [==============================] - 30s 2ms/step - loss: 0.1701 - accuracy: 0.9446 - val_loss: 0.1972 - val_accuracy: 0.9367\n",
            "Epoch 24/50\n",
            "12192/12192 [==============================] - 30s 2ms/step - loss: 0.1635 - accuracy: 0.9478 - val_loss: 0.1777 - val_accuracy: 0.9419\n",
            "Epoch 25/50\n",
            "12192/12192 [==============================] - 30s 2ms/step - loss: 0.1542 - accuracy: 0.9483 - val_loss: 0.1737 - val_accuracy: 0.9452\n",
            "Epoch 26/50\n",
            "12192/12192 [==============================] - 30s 2ms/step - loss: 0.1713 - accuracy: 0.9446 - val_loss: 0.1645 - val_accuracy: 0.9485\n",
            "Epoch 27/50\n",
            "12192/12192 [==============================] - 30s 2ms/step - loss: 0.1481 - accuracy: 0.9533 - val_loss: 0.2040 - val_accuracy: 0.9337\n",
            "Epoch 28/50\n",
            "12192/12192 [==============================] - 30s 2ms/step - loss: 0.1422 - accuracy: 0.9523 - val_loss: 0.1730 - val_accuracy: 0.9482\n",
            "Epoch 29/50\n",
            "12192/12192 [==============================] - 30s 2ms/step - loss: 0.1467 - accuracy: 0.9518 - val_loss: 0.1787 - val_accuracy: 0.9446\n",
            "Epoch 30/50\n",
            "12192/12192 [==============================] - 30s 2ms/step - loss: 0.1411 - accuracy: 0.9541 - val_loss: 0.1689 - val_accuracy: 0.9514\n",
            "Epoch 31/50\n",
            "12192/12192 [==============================] - 30s 2ms/step - loss: 0.1430 - accuracy: 0.9537 - val_loss: 0.1964 - val_accuracy: 0.9367\n",
            "Epoch 32/50\n",
            "12192/12192 [==============================] - 30s 2ms/step - loss: 0.1376 - accuracy: 0.9561 - val_loss: 0.1777 - val_accuracy: 0.9442\n",
            "Epoch 33/50\n",
            "12192/12192 [==============================] - 30s 2ms/step - loss: 0.1308 - accuracy: 0.9582 - val_loss: 0.1604 - val_accuracy: 0.9505\n",
            "Epoch 34/50\n",
            "12192/12192 [==============================] - 30s 2ms/step - loss: 0.1274 - accuracy: 0.9603 - val_loss: 0.1795 - val_accuracy: 0.9439\n",
            "Epoch 35/50\n",
            "12192/12192 [==============================] - 30s 2ms/step - loss: 0.1267 - accuracy: 0.9612 - val_loss: 0.1777 - val_accuracy: 0.9462\n",
            "Epoch 36/50\n",
            "12192/12192 [==============================] - 30s 2ms/step - loss: 0.1213 - accuracy: 0.9610 - val_loss: 0.1628 - val_accuracy: 0.9505\n",
            "Epoch 37/50\n",
            "12192/12192 [==============================] - 30s 2ms/step - loss: 0.1234 - accuracy: 0.9611 - val_loss: 0.1838 - val_accuracy: 0.9478\n",
            "Epoch 38/50\n",
            "12192/12192 [==============================] - 30s 2ms/step - loss: 0.1209 - accuracy: 0.9610 - val_loss: 0.2258 - val_accuracy: 0.9360\n",
            "Epoch 39/50\n",
            "12192/12192 [==============================] - 30s 2ms/step - loss: 0.1182 - accuracy: 0.9610 - val_loss: 0.1491 - val_accuracy: 0.9541\n",
            "Epoch 40/50\n",
            "12192/12192 [==============================] - 30s 2ms/step - loss: 0.1171 - accuracy: 0.9638 - val_loss: 0.1670 - val_accuracy: 0.9531\n",
            "Epoch 41/50\n",
            "12192/12192 [==============================] - 30s 2ms/step - loss: 0.1110 - accuracy: 0.9651 - val_loss: 0.1565 - val_accuracy: 0.9534\n",
            "Epoch 42/50\n",
            "12192/12192 [==============================] - 30s 2ms/step - loss: 0.1050 - accuracy: 0.9666 - val_loss: 0.1545 - val_accuracy: 0.9573\n",
            "Epoch 43/50\n",
            "12192/12192 [==============================] - 30s 2ms/step - loss: 0.1125 - accuracy: 0.9623 - val_loss: 0.1526 - val_accuracy: 0.9528\n",
            "Epoch 44/50\n",
            "12192/12192 [==============================] - 30s 2ms/step - loss: 0.1049 - accuracy: 0.9658 - val_loss: 0.1739 - val_accuracy: 0.9439\n",
            "Epoch 45/50\n",
            "12192/12192 [==============================] - 30s 2ms/step - loss: 0.1075 - accuracy: 0.9654 - val_loss: 0.1778 - val_accuracy: 0.9521\n",
            "Epoch 46/50\n",
            "12192/12192 [==============================] - 30s 2ms/step - loss: 0.1069 - accuracy: 0.9644 - val_loss: 0.1325 - val_accuracy: 0.9600\n",
            "Epoch 47/50\n",
            "12192/12192 [==============================] - 30s 2ms/step - loss: 0.0973 - accuracy: 0.9697 - val_loss: 0.2374 - val_accuracy: 0.9318\n",
            "Epoch 48/50\n",
            "12192/12192 [==============================] - 30s 2ms/step - loss: 0.0971 - accuracy: 0.9683 - val_loss: 0.1492 - val_accuracy: 0.9583\n",
            "Epoch 49/50\n",
            "12192/12192 [==============================] - 30s 2ms/step - loss: 0.0951 - accuracy: 0.9691 - val_loss: 0.1534 - val_accuracy: 0.9587\n",
            "Epoch 50/50\n",
            "12192/12192 [==============================] - 30s 2ms/step - loss: 0.0877 - accuracy: 0.9708 - val_loss: 0.1495 - val_accuracy: 0.9580\n"
          ],
          "name": "stdout"
        }
      ]
    },
    {
      "cell_type": "code",
      "metadata": {
        "id": "4kLM-pBAawAG",
        "colab_type": "code",
        "outputId": "62328811-296a-4bb8-92ee-ee0b4f003639",
        "colab": {
          "base_uri": "https://localhost:8080/",
          "height": 573
        }
      },
      "source": [
        "# summarize history for accuracy\n",
        "plt.plot(history.history['accuracy'])\n",
        "plt.plot(history.history['val_accuracy'])\n",
        "plt.title('model accuracy')\n",
        "plt.ylabel('accuracy')\n",
        "plt.xlabel('epoch')\n",
        "plt.legend(['train', 'test'], loc='upper left')\n",
        "plt.show()\n",
        "# summarize history for loss\n",
        "plt.plot(history.history['loss'])\n",
        "plt.plot(history.history['val_loss'])\n",
        "plt.title('model loss')\n",
        "plt.ylabel('loss')\n",
        "plt.xlabel('epoch')\n",
        "plt.legend(['train', 'test'], loc='upper left')\n",
        "plt.show()"
      ],
      "execution_count": 6,
      "outputs": [
        {
          "output_type": "display_data",
          "data": {
            "image/png": "[encoded data removed]",
            "text/plain": [
              "<Figure size 432x288 with 1 Axes>"
            ]
          },
          "metadata": {
            "tags": [],
            "needs_background": "light"
          }
        },
        {
          "output_type": "display_data",
          "data": {
            "image/png": "[encoded data removed]",
            "text/plain": [
              "<Figure size 432x288 with 1 Axes>"
            ]
          },
          "metadata": {
            "tags": [],
            "needs_background": "light"
          }
        }
      ]
    }
  ]
}